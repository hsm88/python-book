{
 "cells": [
  {
   "cell_type": "code",
   "execution_count": null,
   "id": "e48c3b8d-9393-43f1-b428-de0384cbfa1e",
   "metadata": {},
   "outputs": [],
   "source": [
    "## OS_Code-1\n",
    "import os\n",
    "\n",
    "base_path = os.getcwd()\n",
    "print(base_path)"
   ]
  },
  {
   "cell_type": "code",
   "execution_count": null,
   "id": "0a3b1134-73a9-492d-9383-67b40a94c80c",
   "metadata": {},
   "outputs": [],
   "source": [
    "## OS_Code-2\n",
    "import os\n",
    "\n",
    "base_path = os.getcwd()\n",
    "print(f\"Base path is: {base_path}\")\n",
    "new_path = os.path.join(base_path, \"test\")\n",
    "print(f\"New path is: {new_path}\")\n",
    "\n",
    "os.mkdir(new_path)"
   ]
  },
  {
   "cell_type": "code",
   "execution_count": null,
   "id": "c272cc6d-1af3-4d4b-a7dd-0a2c20780de8",
   "metadata": {},
   "outputs": [],
   "source": [
    "## OS_Code-3\n",
    "import os\n",
    "\n",
    "path = os.getcwd()\n",
    "contents = os.listdir(path)\n",
    "print(f\"List of files and directories in {path}\")\n",
    "print(contents)"
   ]
  },
  {
   "cell_type": "code",
   "execution_count": null,
   "id": "39013dc5-6b1d-4552-ba57-3988e2da5198",
   "metadata": {},
   "outputs": [],
   "source": [
    "## OS_Code-4\n",
    "import os\n",
    "\n",
    "base_path = os.getcwd()\n",
    "file_path = os.path.join(base_path, \"file.txt\")\n",
    "os.remove(file_path)"
   ]
  },
  {
   "cell_type": "code",
   "execution_count": null,
   "id": "7e08c994-c8bd-4743-a1fc-448b1ca1cc8e",
   "metadata": {},
   "outputs": [],
   "source": [
    "## OS_Code-5\n",
    "import os\n",
    "\n",
    "base_path = os.getcwd()\n",
    "dir_path = os.path.join(base_path, \"test\")\n",
    "os.rmdir(dir_path)"
   ]
  },
  {
   "cell_type": "code",
   "execution_count": null,
   "id": "547cea4f-7fbe-4f18-89dc-6e8f2cb7f23e",
   "metadata": {},
   "outputs": [],
   "source": [
    "## OS_Code-6\n",
    "import os\n",
    "\n",
    "base_path = os.getcwd()\n",
    "file_path = os.path.join(base_path, \"file.txt\")\n",
    "\n",
    "try:\n",
    "    os.remove(file_path)\n",
    "\n",
    "except FileNotFoundError:\n",
    "    print(f\"File {file_path} not found!\")"
   ]
  },
  {
   "cell_type": "code",
   "execution_count": null,
   "id": "5d4b0b22-1900-44a4-aa22-f2acdeaaf436",
   "metadata": {},
   "outputs": [],
   "source": [
    "## OS_Code-7   \n",
    "import os\n",
    "  \n",
    "split_tuple = os.path.splitext('my_file.txt')\n",
    "print(split_tuple)\n",
    "\n",
    "file_name = split_tuple[0]\n",
    "file_extension = split_tuple[1]\n",
    "  \n",
    "print(\"File Name: \", file_name)\n",
    "print(\"File Extension: \", file_extension)"
   ]
  },
  {
   "cell_type": "code",
   "execution_count": null,
   "id": "a26c4fbc-31ab-4789-b992-b8d482f00302",
   "metadata": {},
   "outputs": [],
   "source": [
    "## OS_Code-8\n",
    "import os\n",
    "\n",
    "def organize_files(path):\n",
    "    contents = os.listdir(path)\n",
    "\n",
    "    list_of_files = []\n",
    "    for item in contents:\n",
    "        file_path = os.path.join(path, item)\n",
    "        if os.path.isfile(file_path):\n",
    "            list_of_files.append(item)\n",
    "\n",
    "    set_of_file_extensions = set()\n",
    "    for file in list_of_files:\n",
    "        _, file_extension = os.path.splitext(file)\n",
    "        set_of_file_extensions.add(file_extension)\n",
    "\n",
    "    for extension in set_of_file_extensions:\n",
    "        try:\n",
    "            dir_path = os.path.join(path, extension[1:])\n",
    "            os.mkdir(dir_path)\n",
    "        except:\n",
    "            continue\n",
    "\n",
    "    for file in list_of_files:\n",
    "        try:\n",
    "            old_file_path = os.path.join(path, file)\n",
    "            _, file_extension = os.path.splitext(file)\n",
    "            new_file_path = os.path.join(path, file_extension[1:], file)\n",
    "            os.rename(old_file_path, new_file_path)\n",
    "        except:\n",
    "            continue\n",
    "\n",
    "    \n",
    "organize_files(r\"d:\\python\\examples\\files\")"
   ]
  }
 ],
 "metadata": {
  "kernelspec": {
   "display_name": "Python 3 (ipykernel)",
   "language": "python",
   "name": "python3"
  },
  "language_info": {
   "codemirror_mode": {
    "name": "ipython",
    "version": 3
   },
   "file_extension": ".py",
   "mimetype": "text/x-python",
   "name": "python",
   "nbconvert_exporter": "python",
   "pygments_lexer": "ipython3",
   "version": "3.13.5"
  }
 },
 "nbformat": 4,
 "nbformat_minor": 5
}
