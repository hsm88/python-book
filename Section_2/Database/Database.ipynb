{
 "cells": [
  {
   "cell_type": "code",
   "execution_count": null,
   "id": "3a4f0394-e1ef-4fd5-92ec-ad055d700e87",
   "metadata": {},
   "outputs": [],
   "source": [
    "## Database_Code-1\n",
    "import mariadb"
   ]
  },
  {
   "cell_type": "code",
   "execution_count": null,
   "id": "f885bb7b-f821-4c09-91ac-b8ee1a61518a",
   "metadata": {},
   "outputs": [],
   "source": [
    "## Database_Code-2\n",
    "import mariadb\n",
    "\n",
    "conn = mariadb.connect(\n",
    "        \t\t   user=\"root\",\n",
    "          password=\"123456\",\n",
    "   host=\"127.0.0.1\",\n",
    "   port=3306,\n",
    "   database=\"store\"\n",
    " )"
   ]
  },
  {
   "cell_type": "code",
   "execution_count": null,
   "id": "b75baa20-5a24-4bba-8187-815d586530eb",
   "metadata": {},
   "outputs": [],
   "source": [
    "## Database_Code-3\n",
    "import mariadb\n",
    "\n",
    "conn = mariadb.connect(\n",
    "        \t\t   user=\"root\",\n",
    "   password=\"123456\",\n",
    "   host=\"127.0.0.1\",\n",
    "   port=3306,\n",
    "   database=\"store\"\n",
    "       )\n",
    "    \n",
    "cur = conn.cursor()"
   ]
  },
  {
   "cell_type": "code",
   "execution_count": null,
   "id": "442a8133-719c-4218-9116-fcd28566a212",
   "metadata": {},
   "outputs": [],
   "source": [
    "\n",
    "## Database_Code-4\n",
    "import sqlite3\n",
    "\n",
    "conn = sqlite3.connect(\"store.db\")"
   ]
  },
  {
   "cell_type": "code",
   "execution_count": null,
   "id": "cc809d8e-d346-40a8-8064-94378c2e7ecb",
   "metadata": {},
   "outputs": [],
   "source": [
    "## Database_Code-5\n",
    "import sqlite3\n",
    "\n",
    "conn = sqlite3.connect(\"store.db\")\n",
    "cur = conn.cursor()\n",
    "cur.execute(\n",
    "    \"\"\"\n",
    "        CREATE TABLE IF NOT EXISTS products(\n",
    "        name VARCHAR(20),\n",
    "        price INT,\n",
    "        number INT\n",
    "        )\n",
    "    \"\"\"\n",
    ")"
   ]
  },
  {
   "cell_type": "code",
   "execution_count": null,
   "id": "37aa93b5-d60c-4571-ae56-3b25d0966731",
   "metadata": {},
   "outputs": [],
   "source": [
    "## Database_Code-6\n",
    "query = \"INSERT INTO products (name, price, number) VALUES ('hat', 70000, 21);\""
   ]
  },
  {
   "cell_type": "code",
   "execution_count": null,
   "id": "953976cc-bada-49e9-bb8d-70e6c7268717",
   "metadata": {},
   "outputs": [],
   "source": [
    "## Database_Code-7\n",
    "import sqlite3\n",
    "\n",
    "conn = sqlite3.connect(\"store.db\")\n",
    "cur = conn.cursor()\n",
    "query = \"INSERT INTO products (name, price, number) VALUES ('hat', 70000, 21);\"\n",
    "cur.execute(query)\n",
    "conn.commit()\n",
    "conn.close()"
   ]
  },
  {
   "cell_type": "code",
   "execution_count": null,
   "id": "6196408c-6a6c-4721-be34-5206e0e97ec9",
   "metadata": {},
   "outputs": [],
   "source": [
    "## Database_Code-8\n",
    "import sqlite3\n",
    "\n",
    "with sqlite3.connect(\"store.db\") as conn:\n",
    "\n",
    "    cur = conn.cursor()\n",
    "    query = \"INSERT INTO products (name, price, number) VALUES ('hat', 70000, 21);\"\n",
    "    cur.execute(query)\n",
    "    conn.commit()"
   ]
  },
  {
   "cell_type": "code",
   "execution_count": null,
   "id": "e9b91a6e-12ca-4dda-8bbd-40b034e8f8bb",
   "metadata": {},
   "outputs": [],
   "source": [
    "## Database_Code-9\n",
    "# Create a new product\n",
    "def create(name, price, number):\n",
    "\n",
    "    with sqlite3.connect(\"store.db\") as conn:\n",
    "    \n",
    "        cur = conn.cursor()\n",
    "        query = f\"\"\"\n",
    "                    INSERT INTO products (name, price, number) \n",
    "                    VALUES ('{name}', {price}, {number});\n",
    "                 \"\"\"\n",
    "        cur.execute(query)\n",
    "        conn.commit()"
   ]
  },
  {
   "cell_type": "code",
   "execution_count": null,
   "id": "0b6ff944-5f9b-4780-a457-5d424366609b",
   "metadata": {},
   "outputs": [],
   "source": [
    "## Database_Code-10\n",
    "# Read all products\n",
    "def read(name, price, number):\n",
    "\n",
    "    with sqlite3.connect(\"store.db\") as conn:\n",
    "    \n",
    "        cur = conn.cursor()\n",
    "        query = \"SELECT * FROM products;\"\n",
    "        cur.execute(query)\n",
    "        products = []\n",
    "        for product in cur:\n",
    "            products.append(product)\n",
    "        return products"
   ]
  },
  {
   "cell_type": "code",
   "execution_count": null,
   "id": "266b9254-9aff-43f7-b2c5-3084e3a98d58",
   "metadata": {},
   "outputs": [],
   "source": [
    "## Database_Code-11\n",
    "# Update price and number of a product\n",
    "def update(name, price, number):\n",
    "\n",
    "    with sqlite3.connect(\"store.db\") as conn:\n",
    "    \n",
    "        cur = conn.cursor()\n",
    "        query = f\"\"\"\n",
    "                    UPDATE products SET price={price}, number={number} \n",
    "                    WHERE name='{name}';\n",
    "                 \"\"\"\n",
    "        cur.execute(query)\n",
    "        conn.commit()"
   ]
  },
  {
   "cell_type": "code",
   "execution_count": null,
   "id": "8e353399-884c-41db-bed5-705c6b721b4e",
   "metadata": {},
   "outputs": [],
   "source": [
    "## Database_Code-12\n",
    "# Delete a product\n",
    "def delete(name):\n",
    "\n",
    "    with sqlite3.connect(\"store.db\") as conn:\n",
    "    \n",
    "        cur = conn.cursor()\n",
    "        query = f\"DELETE FROM products WHERE name='{name}';\"\n",
    "        cur.execute(query)\n",
    "        conn.commit()"
   ]
  }
 ],
 "metadata": {
  "kernelspec": {
   "display_name": "Python 3 (ipykernel)",
   "language": "python",
   "name": "python3"
  },
  "language_info": {
   "codemirror_mode": {
    "name": "ipython",
    "version": 3
   },
   "file_extension": ".py",
   "mimetype": "text/x-python",
   "name": "python",
   "nbconvert_exporter": "python",
   "pygments_lexer": "ipython3",
   "version": "3.13.5"
  }
 },
 "nbformat": 4,
 "nbformat_minor": 5
}
