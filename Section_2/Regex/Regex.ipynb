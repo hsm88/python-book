{
 "cells": [
  {
   "cell_type": "code",
   "execution_count": null,
   "id": "6e40d427-01a7-43e1-b328-96820a10918f",
   "metadata": {},
   "outputs": [],
   "source": [
    "## Regex_Code-1\n",
    "text = \"Hello, Welcome to Python World!\"\n",
    "print(text.find(\"e\"))"
   ]
  },
  {
   "cell_type": "code",
   "execution_count": null,
   "id": "10e317ba-eb1e-439f-b82b-37604669d2a6",
   "metadata": {},
   "outputs": [],
   "source": [
    "## Regex_Code-2\n",
    "text = \"Hello, Welcome to Python World!\"\n",
    "print(text.find(\"Python\"))"
   ]
  },
  {
   "cell_type": "code",
   "execution_count": null,
   "id": "351dc21a-5450-4bd3-bfab-b21ccf9ac470",
   "metadata": {},
   "outputs": [],
   "source": [
    "## Regex_Code-3\n",
    "text = \"Hello, Welcome to Python World!\"\n",
    "print(text.find(\"q\"))"
   ]
  },
  {
   "cell_type": "code",
   "execution_count": null,
   "id": "a295fb02-2644-4eda-a82a-d36a90b47c75",
   "metadata": {},
   "outputs": [],
   "source": [
    "## Regex_Code-4\n",
    "import re\n",
    "\n",
    "text = \"Welcome to Python World!\"\n",
    "result1 = re.findall(\"e\", text)\n",
    "result2 = re.findall(\"Python\", text)\n",
    "\n",
    "print(result1)\n",
    "print(result2)"
   ]
  },
  {
   "cell_type": "code",
   "execution_count": null,
   "id": "c6d65b3d-49c8-4e45-a9da-ae6b902f1cc3",
   "metadata": {},
   "outputs": [],
   "source": [
    "## Regex_Code-5\n",
    "import re\n",
    "\n",
    "text = \"I am 36 years old and today is Monday, May 6, 2024\"\n",
    "result = re.findall(\"[0-9]\", text)\n",
    "\n",
    "print(result)"
   ]
  },
  {
   "cell_type": "code",
   "execution_count": null,
   "id": "5d22a801-d371-4043-a351-6031fbcfa57b",
   "metadata": {},
   "outputs": [],
   "source": [
    "## Regex_Code-6\n",
    "import re\n",
    "\n",
    "text = \"I am 36 years old and today is Monday, May 6, 2024\"\n",
    "result = re.findall(\"[0-9][0-9]\", text)\n",
    "\n",
    "print(result)"
   ]
  },
  {
   "cell_type": "code",
   "execution_count": null,
   "id": "465d27f8-2071-4000-b197-66975049cd23",
   "metadata": {},
   "outputs": [],
   "source": [
    "## Regex_Code-7\n",
    "import re\n",
    "\n",
    "text = \"Welcome to Python World\"\n",
    "result = re.findall(\"^Welcome\", text)\n",
    "\n",
    "if result:\n",
    "    print(\"Text starts with \\\"Welcome\\\"\")\n",
    "else:\n",
    "    print(\"Text does NOT start with \\\"Welcome\\\"\")"
   ]
  },
  {
   "cell_type": "code",
   "execution_count": null,
   "id": "e1036d90-6676-4630-a0fd-e7fa698270fa",
   "metadata": {},
   "outputs": [],
   "source": [
    "## Regex_Code-8\n",
    "import re\n",
    "\n",
    "text = \"Welcome to Python World\"\n",
    "\n",
    "if result := re.findall(\"^Welcome\", text):\n",
    "    print(\"Text starts with \\\"Welcome\\\"\")\n",
    "else:\n",
    "    print(\"Text does NOT start with \\\"Welcome\\\"\")"
   ]
  },
  {
   "cell_type": "code",
   "execution_count": null,
   "id": "fa48d7fa-be37-49cf-9f28-6319a0e41832",
   "metadata": {},
   "outputs": [],
   "source": [
    "## Regex_Code-9\n",
    "import re\n",
    "\n",
    "text = \"Welcome to Python World\"\n",
    "\n",
    "if result := re.findall(\"World$\", text):\n",
    "    print(\"Text ends with \\\"World\\\"\")\n",
    "else:\n",
    "    print(\"Text does NOT end with \\\"World\\\"\")"
   ]
  },
  {
   "cell_type": "code",
   "execution_count": null,
   "id": "ab61cd69-4a2f-40ce-a440-4eee10df1de8",
   "metadata": {},
   "outputs": [],
   "source": [
    "## Regex_Code-10\n",
    "import re\n",
    "\n",
    "text = \"Welcome to Python World!\"\n",
    "\n",
    "if result := re.findall(\"World$\", text):\n",
    "    print(\"Text ends with \\\"World\\\"\")\n",
    "else:\n",
    "    print(\"Text does NOT end with \\\"World\\\"\")"
   ]
  },
  {
   "cell_type": "code",
   "execution_count": null,
   "id": "95876f52-a724-4291-959f-c8c3164ab973",
   "metadata": {},
   "outputs": [],
   "source": [
    "## Regex_Code-11\n",
    "import re\n",
    "\n",
    "text = \"Welcome to iran, the land of iron men\"\n",
    "\n",
    "result = re.findall(\"i..n\", text)\n",
    "print(result)"
   ]
  },
  {
   "cell_type": "code",
   "execution_count": null,
   "id": "b790c8c7-5367-4f76-b486-49ec7315c61b",
   "metadata": {},
   "outputs": [],
   "source": [
    "## Regex_Code-12\n",
    "import re\n",
    "\n",
    "telephon_number = \"09131111111\"\n",
    "\n",
    "result1 = re.findall(\"^09[0-9]{9}$\", telephon_number)\n",
    "result2 = re.findall(\"^09\\\\d{9}$\", telephon_number)\n",
    "\n",
    "print(f\"Result with \\\"^09[0-9]{9}$\\\" pattern: {result1}\")\n",
    "print(f\"Result with \\\"^09\\\\d{9}$\\\" pattern: {result2}\")"
   ]
  },
  {
   "cell_type": "code",
   "execution_count": null,
   "id": "93915d74-1cd0-4c30-af7a-ff40255a366c",
   "metadata": {},
   "outputs": [],
   "source": [
    "## Regex_Code-13\n",
    "import re\n",
    "\n",
    "while True:\n",
    "    email = input(\"Enter your email to check: \")\n",
    "    \n",
    "    if result := re.findall(r\"^[a-zA-Z0-9_.+-]+@[a-zA-Z0-9]+\\.[a-zA-Z]+$\", email):\n",
    "        print(f\"{email} is VALID\")\n",
    "    else:\n",
    "        print(f\"{email} is NOT VALID\")"
   ]
  },
  {
   "cell_type": "code",
   "execution_count": null,
   "id": "0663375d-f291-4185-b51c-4778d57f8c65",
   "metadata": {},
   "outputs": [],
   "source": [
    "## Regex_Code-14\n",
    "import re\n",
    "\n",
    "def show_contact_info(text):\n",
    "    phones = re.findall(\"09[0-9]{9}\", text)\n",
    "    emails = re.findall(r\"[a-zA-Z0-9_.+-]+@[a-zA-Z0-9]+\\.[a-zA-Z]+\", text)\n",
    "    \n",
    "    return phones, emails\n",
    "\n",
    "\n",
    "def delete_contact_info(text):\n",
    "    text = re.sub(\"09[0-9]{9}\", \"***\", text)\n",
    "    text = re.sub(r\"[a-zA-Z0-9_.+-]+@[a-zA-Z0-9]+\\.[a-zA-Z]+\", \"***\", text)\n",
    "    \n",
    "    return text\n",
    "\n",
    "text = \"\"\"\n",
    "        My phone number is 09131111111 and my email is son@email.com\n",
    "        Also my father's phone number is 09902222222 and his email is father@email.ir\n",
    "       \"\"\"\n",
    "\n",
    "phones, emails = show_contact_info(text)\n",
    "print(f\"Phones: {phones}\")\n",
    "print(f\"Emails: {emails}\")\n",
    "\n",
    "changed_text = delete_contact_info(text)\n",
    "print(changed_text)"
   ]
  }
 ],
 "metadata": {
  "kernelspec": {
   "display_name": "Python 3 (ipykernel)",
   "language": "python",
   "name": "python3"
  },
  "language_info": {
   "codemirror_mode": {
    "name": "ipython",
    "version": 3
   },
   "file_extension": ".py",
   "mimetype": "text/x-python",
   "name": "python",
   "nbconvert_exporter": "python",
   "pygments_lexer": "ipython3",
   "version": "3.13.5"
  }
 },
 "nbformat": 4,
 "nbformat_minor": 5
}
