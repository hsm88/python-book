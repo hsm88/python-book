{
 "cells": [
  {
   "cell_type": "code",
   "execution_count": null,
   "id": "3c5b5ded-f6b1-4b55-b867-99112da03cab",
   "metadata": {},
   "outputs": [],
   "source": [
    "## PasswordGenerator_Code-1\n",
    "import string\n",
    "\n",
    "letters = string.ascii_letters\n",
    "digits = string.digits\n",
    "punctuation = string.punctuation\n",
    "\n",
    "print(f\"Letters: {letters}\")\n",
    "print(f\"Digits: {digits}\")\n",
    "print(f\"Punctuation: {punctuation}\")"
   ]
  },
  {
   "cell_type": "code",
   "execution_count": null,
   "id": "46c9b4d8-12b8-415b-af89-cebf151e5b41",
   "metadata": {},
   "outputs": [],
   "source": [
    "## PasswordGenerator_Code-2\n",
    "import string\n",
    "\n",
    "letters = string.ascii_letters\n",
    "digits = string.digits\n",
    "punctuation = string.punctuation\n",
    "alphabet = letters + digits + punctuation\n",
    "\n",
    "print(f\"Alphabet: {alphabet}\")"
   ]
  },
  {
   "cell_type": "code",
   "execution_count": null,
   "id": "9ef6041e-3b81-4b1e-80b0-131f2571f4f0",
   "metadata": {},
   "outputs": [],
   "source": [
    "## PasswordGenerator_Code-3\n",
    "import string\n",
    "import random\n",
    "\n",
    "letters = string.ascii_letters\n",
    "digits = string.digits\n",
    "punctuation = string.punctuation\n",
    "alphabet = letters + digits + punctuation\n",
    "\n",
    "for _ in range(5):\n",
    "    print(random.choice(alphabet), end=\" \")"
   ]
  },
  {
   "cell_type": "code",
   "execution_count": null,
   "id": "3a1dab55-50f1-4dae-af8b-9d2149c680cd",
   "metadata": {},
   "outputs": [],
   "source": [
    "## PasswordGenerator_Code-4   \n",
    "import string\n",
    "import secrets\n",
    "\n",
    "letters = string.ascii_letters\n",
    "digits = string.digits\n",
    "punctuation = string.punctuation\n",
    "alphabet = letters + digits + punctuation\n",
    "\n",
    "def password_generator(password_length=12):\n",
    "\n",
    "    password = ''\n",
    "    \n",
    "    for _ in range(password_length):\n",
    "        password += secrets.choice(alphabet)\n",
    "\n",
    "    return password"
   ]
  },
  {
   "cell_type": "code",
   "execution_count": null,
   "id": "d1787bc6-3dd5-4ba1-be0d-0e48ad07b8b6",
   "metadata": {},
   "outputs": [],
   "source": [
    "## PasswordGenerator_Code-5   \n",
    "import string\n",
    "import secrets\n",
    "\n",
    "letters = string.ascii_letters\n",
    "digits = string.digits\n",
    "punctuation = string.punctuation\n",
    "alphabet = letters + digits + punctuation\n",
    "\n",
    "def password_generator(password_length=12):\n",
    "\n",
    "    password = ''\n",
    "    \n",
    "    while True:\n",
    "        for _ in range(password_length):\n",
    "            password += secrets.choice(alphabet)\n",
    "            \n",
    "        if any(character in punctuation for character in password) \\\n",
    "            and \\\n",
    "            sum(character in digits for character in password) >= 2:\n",
    "            break\n",
    "            \n",
    "    return password\n",
    "    \n",
    "print(password_generator(20))"
   ]
  },
  {
   "cell_type": "code",
   "execution_count": null,
   "id": "2a761842-10ef-4014-b67d-6eb89529b36f",
   "metadata": {},
   "outputs": [],
   "source": [
    "## PasswordGenerator_Code-6\n",
    "password = \"+|)r6Q4zQ0Se.oiVq5]\" \n",
    "result = [(character in punctuation) for character in password]\n",
    "print(result)"
   ]
  },
  {
   "cell_type": "code",
   "execution_count": null,
   "id": "5022b1d1-f994-48f9-8394-a8f1f746acde",
   "metadata": {},
   "outputs": [],
   "source": [
    "## PasswordGenerator_Code-7\n",
    "password = \"+|)r6Q4zQ0Se.oiVq5]\" \n",
    "result = [(character in punctuation) for character in password]\n",
    "print(any(result))"
   ]
  },
  {
   "cell_type": "code",
   "execution_count": null,
   "id": "b9c72b8c-ab33-4a73-95b6-13ebe6fb35dc",
   "metadata": {},
   "outputs": [],
   "source": [
    "## PasswordGenerator_Code-8\n",
    "password = \"+|)r6Q4zQ0Se.oiVq5]\" \n",
    "result = [(character in digits) for character in password]\n",
    "print(result)"
   ]
  },
  {
   "cell_type": "code",
   "execution_count": null,
   "id": "87ef05be-0088-4835-a45a-ad1c343c17d9",
   "metadata": {},
   "outputs": [],
   "source": [
    "## PasswordGenerator_Code-9\n",
    "password = \"+|)r6Q4zQ0Se.oiVq5]\" \n",
    "result = [(character in digits) for character in password]\n",
    "print(sum(result))"
   ]
  },
  {
   "cell_type": "code",
   "execution_count": null,
   "id": "95ecd49b-d9ca-4943-8936-606bb75c069f",
   "metadata": {},
   "outputs": [],
   "source": [
    "## PasswordGenerator_Code-10\n",
    "password = \"+|)r6Q4zQ0Se.oiVq5]\" \n",
    "result = [(character in digits) for character in password]\n",
    "print(sum(result) >= 2)"
   ]
  }
 ],
 "metadata": {
  "kernelspec": {
   "display_name": "Python 3 (ipykernel)",
   "language": "python",
   "name": "python3"
  },
  "language_info": {
   "codemirror_mode": {
    "name": "ipython",
    "version": 3
   },
   "file_extension": ".py",
   "mimetype": "text/x-python",
   "name": "python",
   "nbconvert_exporter": "python",
   "pygments_lexer": "ipython3",
   "version": "3.13.5"
  }
 },
 "nbformat": 4,
 "nbformat_minor": 5
}
