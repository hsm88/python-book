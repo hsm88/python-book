{
 "cells": [
  {
   "cell_type": "code",
   "execution_count": null,
   "id": "d3b4111a-20dd-4b51-a0c1-409bf4b2642d",
   "metadata": {},
   "outputs": [],
   "source": [
    "## DataAnalysis_Code-1\n",
    "import csv\n",
    "\n",
    "with open('tehranhouses.csv', 'r') as f:\n",
    "\n",
    "    csv_reader = csv.reader(f)\n",
    "  \n",
    "    for row in csv_reader:\n",
    "        print(row)"
   ]
  },
  {
   "cell_type": "code",
   "execution_count": null,
   "id": "fc780ad1-446f-40f9-b395-ae3f6bce6f20",
   "metadata": {},
   "outputs": [],
   "source": [
    "## DataAnalysis_Code-2\n",
    "import numpy as np"
   ]
  },
  {
   "cell_type": "code",
   "execution_count": null,
   "id": "648b1c79-4c1e-4d01-9093-2ca66a0d0dc7",
   "metadata": {},
   "outputs": [],
   "source": [
    "## DataAnalysis_Code-3\n",
    "array_1d = np.array([7, 2, 9, 10])"
   ]
  },
  {
   "cell_type": "code",
   "execution_count": null,
   "id": "0c052acd-4645-4514-bf12-95903f3ae41e",
   "metadata": {},
   "outputs": [],
   "source": [
    "## DataAnalysis_Code-4\n",
    "array_2d = np.array([[5.2, 3.0, 4.5],\n",
    "                     [9.1, 0.1, 0.3]])"
   ]
  },
  {
   "cell_type": "code",
   "execution_count": null,
   "id": "aaebe03c-d55d-47b5-8b2a-679597c7fc68",
   "metadata": {},
   "outputs": [],
   "source": [
    "## DataAnalysis_Code-5\n",
    "array_3d = np.array([[[1, 4, 7],\n",
    "                      [2, 9, 7],\n",
    "                      [1, 3, 0],\n",
    "                      [9, 6, 9]],\n",
    "                     [[2, 3, 4],\n",
    "                      [1, 7, 5],\n",
    "                      [3, 3, 2],\n",
    "                      [7, 4, 8]]]) "
   ]
  },
  {
   "cell_type": "code",
   "execution_count": null,
   "id": "17e35e4b-7329-4c71-be0d-44eed225e06b",
   "metadata": {},
   "outputs": [],
   "source": [
    "## DataAnalysis_Code-6\n",
    "array_0d = np.array(5)"
   ]
  },
  {
   "cell_type": "code",
   "execution_count": null,
   "id": "681344f2-1096-4b83-bf72-3fec073d561e",
   "metadata": {},
   "outputs": [],
   "source": [
    "## DataAnalysis_Code-7\n",
    "print(array_0d.ndim, array_0d.size, array_0d.shape, array_0d.dtype)\n",
    "print(array_1d.ndim, array_1d.size, array_1d.shape, array_1d.dtype)\n",
    "print(array_2d.ndim, array_2d.size, array_2d.shape, array_2d.dtype)\n",
    "print(array_3d.ndim, array_3d.size, array_3d.shape, array_3d.dtype)"
   ]
  },
  {
   "cell_type": "code",
   "execution_count": null,
   "id": "b2a8078d-7ca6-4493-a5cf-bf6a9fae564f",
   "metadata": {},
   "outputs": [],
   "source": [
    "## DataAnalysis_Code-8\n",
    "array_1d = np.array([1, 2, 3, 4, 5, 6])\n",
    "print(array_1d[1])\n",
    "print(array_1d[2:])\n",
    "print(array_1d[1:5:2])"
   ]
  },
  {
   "cell_type": "code",
   "execution_count": null,
   "id": "0bfa6026-9df2-4945-b4e1-9fc27219acc9",
   "metadata": {},
   "outputs": [],
   "source": [
    "## DataAnalysis_Code-9\n",
    "array_2d = np.array([1, 2, 3, 4, 5],\n",
    "                    [6, 7, 8, 9, 10])\n",
    "print(array_2d[0, 1])\n",
    "print(array_2d[0, 1:4])"
   ]
  },
  {
   "cell_type": "code",
   "execution_count": null,
   "id": "77782791-8017-4ad4-b930-00789b3d2017",
   "metadata": {},
   "outputs": [],
   "source": [
    "## DataAnalysis_Code-10\n",
    "array_3d = np.array([[[1, 2, 3]\n",
    "                      [4, 5, 6]],\n",
    "                     [[7, 8, 9],\n",
    "                      [10, 11, 12]]])\n",
    "print(array_3d[1, 1, 2])\n",
    "print(array_3d[0, 1, 1:])"
   ]
  },
  {
   "cell_type": "code",
   "execution_count": null,
   "id": "3bef94cd-1ed8-4075-a242-01af8b1d8a07",
   "metadata": {},
   "outputs": [],
   "source": [
    "## DataAnalysis_Code-11\n",
    "zeros_array = np.zeros((2, 3))\n",
    "print(zeros_array)"
   ]
  },
  {
   "cell_type": "code",
   "execution_count": null,
   "id": "11afac9b-5e53-4916-8171-4def3c5d1789",
   "metadata": {},
   "outputs": [],
   "source": [
    "## DataAnalysis_Code-12\n",
    "ones_array = np.ones((2, 3, 2))\n",
    "print(ones_array)"
   ]
  },
  {
   "cell_type": "code",
   "execution_count": null,
   "id": "268a57b8-e3c0-484f-9e01-d2c1d5508efb",
   "metadata": {},
   "outputs": [],
   "source": [
    "## DataAnalysis_Code-13\n",
    "all_five_array = np.ones((2, 3, 5)) * 5\n",
    "print(all_five_array)"
   ]
  },
  {
   "cell_type": "code",
   "execution_count": null,
   "id": "174a0030-d306-43ea-b9a8-b27dbc33beae",
   "metadata": {},
   "outputs": [],
   "source": [
    "## DataAnalysis_Code-14\n",
    "list1 = [1, 2, 3]\n",
    "list2 = [4, 5, 6]\n",
    "list3 = list1 + list2   # concatenation\n",
    "print(list3)"
   ]
  },
  {
   "cell_type": "code",
   "execution_count": null,
   "id": "3555d085-49c8-410c-a6f6-bf34d722e809",
   "metadata": {},
   "outputs": [],
   "source": [
    "## DataAnalysis_Code-15\n",
    "array1 = np.array([1, 2, 3])\n",
    "array2 = np.array([4, 5, 6])\n",
    "array3 = array1 + array2     # element-wise (element-by-element) operation \n",
    "print(array3)"
   ]
  },
  {
   "cell_type": "code",
   "execution_count": null,
   "id": "23967037-3648-4b11-bb15-50d0ee9427f6",
   "metadata": {},
   "outputs": [],
   "source": [
    "## DataAnalysis_Code-16\n",
    "array1 = np.array([1, 2, 3])\n",
    "array2 = array1 + 5          # element-wise (element-by-element) operation \n",
    "print(array2)"
   ]
  },
  {
   "cell_type": "code",
   "execution_count": null,
   "id": "b9f96978-a150-466f-aa26-b3ed8a415e0a",
   "metadata": {},
   "outputs": [],
   "source": [
    "## DataAnalysis_Code-17\n",
    "list1 = [1, 2, 3]\n",
    "list2 = list1 + 5\n",
    "print(list2) "
   ]
  },
  {
   "cell_type": "code",
   "execution_count": null,
   "id": "04e63091-493f-47c3-9953-7f2e34b48d8d",
   "metadata": {},
   "outputs": [],
   "source": [
    "## DataAnalysis_Code-18\n",
    "numbers = np.arange(2, 10, 3)\n",
    "print(numbers)"
   ]
  },
  {
   "cell_type": "code",
   "execution_count": null,
   "id": "701c430d-5aab-4408-9c9a-32a7ebefcbee",
   "metadata": {},
   "outputs": [],
   "source": [
    "## DataAnalysis_Code-19\n",
    "numbers = np.linspace(0, 1, 7)\n",
    "print(numbers)"
   ]
  },
  {
   "cell_type": "code",
   "execution_count": null,
   "id": "0f070f24-a942-4d8f-b7a4-e10afa7000b4",
   "metadata": {},
   "outputs": [],
   "source": [
    "## DataAnalysis_Code-20\n",
    "int_random_numbers = np.random.randint(10, 20, size=(2, 3))\n",
    "print(int_random_numbers)"
   ]
  },
  {
   "cell_type": "code",
   "execution_count": null,
   "id": "e99c23c3-6f8a-411f-bbe0-649c6348f200",
   "metadata": {},
   "outputs": [],
   "source": [
    "## DataAnalysis_Code-21\n",
    "random_numbers = np.random.rand(3, 2)\n",
    "print(random_numbers)"
   ]
  },
  {
   "cell_type": "code",
   "execution_count": null,
   "id": "a5156175-7510-4897-af35-7e1274541c7d",
   "metadata": {},
   "outputs": [],
   "source": [
    "## DataAnalysis_Code-22\n",
    "array_2d = np.array([1, 2, 3, 4],\n",
    "                    [5, 6, 7, 8])\n",
    "                    \n",
    "reshaped_array = np.reshape(array_2d, (2, 2, 2)) # from 2*4 2D array to 2*2*2 3D array\n",
    "print(reshaped_array)"
   ]
  },
  {
   "cell_type": "code",
   "execution_count": null,
   "id": "2477a249-e356-49e0-84a3-716f11a4f394",
   "metadata": {},
   "outputs": [],
   "source": [
    "## DataAnalysis_Code-23\n",
    "array1 = np.array([1, 2, 3])\n",
    "array2 = np.array([4, 5, 6])\n",
    "\n",
    "print(np.add(array1, array2))      # array1 + array2\n",
    "print(np.subtract(array1, array2)) # array1 - array2\n",
    "print(np.multiply(array1, array2)) # array1 * array2\n",
    "print(np.divide(array1, array2))   # array1 / array2"
   ]
  },
  {
   "cell_type": "code",
   "execution_count": null,
   "id": "92b257dc-9733-4ee1-a1b2-5be39eb089c3",
   "metadata": {},
   "outputs": [],
   "source": [
    "## DataAnalysis_Code-24\n",
    "import pandas as pd\n",
    "data = pd.read_csv(\"tehranhouses.csv\")\n",
    "data"
   ]
  },
  {
   "cell_type": "code",
   "execution_count": null,
   "id": "cbe8c92d-ea6a-40f6-aaa7-4243c3d37906",
   "metadata": {},
   "outputs": [],
   "source": [
    "## DataAnalysis_Code-25\n",
    "values = np.array([[5.2, 3.0, 4.5, 5.7],\n",
    "                   [9.1, 0.4, 0.3, 1.3]])\n",
    "                   \n",
    "dataframe_sample = pd.DataFrame(values)\n",
    "dataframe_sample"
   ]
  },
  {
   "cell_type": "code",
   "execution_count": null,
   "id": "1262ea42-bbb9-4bd3-ba2e-cfdc737de13d",
   "metadata": {},
   "outputs": [],
   "source": [
    "## DataAnalysis_Code-26\n",
    "values = np.array([[5.2, 3.0, 4.5, 5.7],\n",
    "                   [9.1, 0.4, 0.3, 1.3]])\n",
    "                   \n",
    "dataframe_sample = pd.DataFrame(values,\n",
    "                                index=['first','second'], \n",
    "                                columns=['a', 'b', 'c', 'd'])\n",
    "dataframe_sample"
   ]
  },
  {
   "cell_type": "code",
   "execution_count": null,
   "id": "3c9dfadd-16a2-4565-8f34-897b264e2af3",
   "metadata": {},
   "outputs": [],
   "source": [
    "## DataAnalysis_Code-27\n",
    "values = [{'a': 5.2, 'b': 3.0, 'c': 4.5, 'd':5.7},\n",
    "          {'a': 9.1, 'b': 0.4, 'c': 0.3, 'd':1.3}]\n",
    "                   \n",
    "dataframe_sample = pd.DataFrame(values, index=['first','second'])\n",
    "dataframe_sample"
   ]
  },
  {
   "cell_type": "code",
   "execution_count": null,
   "id": "283e6178-946b-4677-8b59-3a93c5f2663f",
   "metadata": {},
   "outputs": [],
   "source": [
    "## DataAnalysis_Code-28\n",
    "values = [{'a': 5.2, 'b': 3.0, 'c': 4.5},\n",
    "          {'a': 9.1, 'b': 0.4, 'c': 0.3, 'd':1.3}]\n",
    "                   \n",
    "dataframe_sample = pd.DataFrame(values,\n",
    "                                index=['first','second'])\n",
    "dataframe_sample"
   ]
  },
  {
   "cell_type": "code",
   "execution_count": null,
   "id": "72e5cde8-d20a-472c-bfb5-bc26925e76ff",
   "metadata": {},
   "outputs": [],
   "source": [
    "## DataAnalysis_Code-29\n",
    "series_sample = pd.Series([1, 7, 2])\n",
    "series_sample"
   ]
  },
  {
   "cell_type": "code",
   "execution_count": null,
   "id": "bb6c4ada-a61a-4918-8b74-ed66d20c6ac5",
   "metadata": {},
   "outputs": [],
   "source": [
    "## DataAnalysis_Code-30\n",
    "values = np.array([1, 7, 2])\n",
    "series_sample = pd.Series(values,\n",
    "                          index=['first', 'second', 'third'])\n",
    "series_sample"
   ]
  },
  {
   "cell_type": "code",
   "execution_count": null,
   "id": "499e3bcf-1e5f-4188-b77f-c81e88416ab4",
   "metadata": {},
   "outputs": [],
   "source": [
    "## DataAnalysis_Code-31\n",
    "values = {'first': 1, 'second':7, 'third':2}\n",
    "series_sample = pd.Series(values)"
   ]
  },
  {
   "cell_type": "code",
   "execution_count": null,
   "id": "035678b1-889b-446e-b7d4-16239f33c105",
   "metadata": {},
   "outputs": [],
   "source": [
    "## DataAnalysis_Code-32\n",
    "values = np.array([1, 2, 3, 4, 5, 6, 7, 8])\n",
    "series_sample = pd.Series(values)\n",
    "series_sample[3:]"
   ]
  },
  {
   "cell_type": "code",
   "execution_count": null,
   "id": "3174815b-77cb-42a0-8471-b48b30debb86",
   "metadata": {},
   "outputs": [],
   "source": [
    "## DataAnalysis_Code-33\n",
    "values = np.array([[5.2, 3.0, 4.5, 5.7], \n",
    "                   [9.1, 0.4, 0.3, 1.3],\n",
    "                   [5.0, 0.1, 8.4, 7.9]])\n",
    "                   \n",
    "dataframe_sample = pd.DataFrame(values,\n",
    "                                index=['first', 'second', 'third'])\n",
    "dataframe_sample[0]"
   ]
  },
  {
   "cell_type": "code",
   "execution_count": null,
   "id": "dd174a70-6cc3-4535-a8a5-279a64429e9f",
   "metadata": {},
   "outputs": [],
   "source": [
    "## DataAnalysis_Code-34\n",
    "values = np.array([[5.2, 3.0, 4.5, 5.7],\n",
    "                   [9.1, 0.4, 0.3, 1.3],\n",
    "                   [5.0, 0.1, 8.4, 7.9]])\n",
    "                   \n",
    "dataframe_sample = pd.DataFrame(values,\n",
    "     index=['first', 'second', 'third'],\n",
    "                                columns=list('abcd'))\n",
    "dataframe_sample['a']"
   ]
  },
  {
   "cell_type": "code",
   "execution_count": null,
   "id": "a102e8f8-a2ba-4b23-8d66-fe834775f2a7",
   "metadata": {},
   "outputs": [],
   "source": [
    "## DataAnalysis_Code-35\n",
    "dataframe_sample[['a', 'c']]"
   ]
  },
  {
   "cell_type": "code",
   "execution_count": null,
   "id": "a130590b-6dc5-42a6-87bc-a3e5e9d7a648",
   "metadata": {},
   "outputs": [],
   "source": [
    "## DataAnalysis_Code-36\n",
    "values = np.array([[5.2, 3.0, 4.5, 5.7],\n",
    "                   [9.1, 0.4, 0.3, 1.3],\n",
    "                   [5.0, 0.1, 8.4, 7.9]])\n",
    "\n",
    "dataframe_sample = pd.DataFrame(values,\n",
    "                                index=['first', 'second', 'third'],\n",
    "                                columns=list('abcd'))\n",
    "dataframe_sample.loc['first']"
   ]
  },
  {
   "cell_type": "code",
   "execution_count": null,
   "id": "92e1285c-d979-4572-92f6-d3ee1ac749af",
   "metadata": {},
   "outputs": [],
   "source": [
    "## DataAnalysis_Code-37\n",
    "dataframe_sample.loc[['first', 'third']]"
   ]
  },
  {
   "cell_type": "code",
   "execution_count": null,
   "id": "ec44cc00-e21d-4ce5-a0ea-24a3bda74793",
   "metadata": {},
   "outputs": [],
   "source": [
    "## DataAnalysis_Code-38\n",
    "dataframe_sample.loc[:, ['b', 'd']]"
   ]
  },
  {
   "cell_type": "code",
   "execution_count": null,
   "id": "c5319c6e-4b09-4556-a755-bd2d7a269ca2",
   "metadata": {},
   "outputs": [],
   "source": [
    "## DataAnalysis_Code-39\n",
    "dataframe_sample.loc[['second', 'third'], ['a', 'd']]"
   ]
  },
  {
   "cell_type": "code",
   "execution_count": null,
   "id": "6d2633fb-9e5a-431e-af29-1a28d29928dc",
   "metadata": {},
   "outputs": [],
   "source": [
    "## DataAnalysis_Code-40\n",
    "dataframe_sample.iloc[1:, [0, 3]]"
   ]
  },
  {
   "cell_type": "code",
   "execution_count": null,
   "id": "2c577794-c34a-47db-8f40-019c4b4505f4",
   "metadata": {},
   "outputs": [],
   "source": [
    "## DataAnalysis_Code-41\n",
    "data = pd.read_csv(\"tehranhouses.csv\")\n",
    "data.info()\t"
   ]
  },
  {
   "cell_type": "code",
   "execution_count": null,
   "id": "14df1909-8745-499c-8bae-77834a3925c9",
   "metadata": {},
   "outputs": [],
   "source": [
    "## DataAnalysis_Code-42\n",
    "data.describe()"
   ]
  },
  {
   "cell_type": "code",
   "execution_count": null,
   "id": "dedcbb3c-8191-4469-8834-f315df463861",
   "metadata": {},
   "outputs": [],
   "source": [
    "## DataAnalysis_Code-43\n",
    "data['Room'].max()"
   ]
  },
  {
   "cell_type": "code",
   "execution_count": null,
   "id": "e5267bca-286f-45e2-b9b9-c5d857a43c8a",
   "metadata": {},
   "outputs": [],
   "source": [
    "## DataAnalysis_Code-44\n",
    "print(f\"Unique values of number of Room: {data.Room.unique()}\")"
   ]
  },
  {
   "cell_type": "code",
   "execution_count": null,
   "id": "ded3fa70-9050-424d-b3f8-8b1540a40985",
   "metadata": {},
   "outputs": [],
   "source": [
    "## DataAnalysis_Code-45\n",
    "print(data['Room'].value_counts())"
   ]
  },
  {
   "cell_type": "code",
   "execution_count": null,
   "id": "886e3bbc-082d-4e82-b98e-20deb41671df",
   "metadata": {},
   "outputs": [],
   "source": [
    "## DataAnalysis_Code-46\n",
    "filtered_data = data.loc[data.Room < 3]"
   ]
  },
  {
   "cell_type": "code",
   "execution_count": null,
   "id": "1c279939-cb99-44f5-9ffd-7c5bc9a5adc9",
   "metadata": {},
   "outputs": [],
   "source": [
    "## DataAnalysis_Code-47\n",
    "filtered_data = data.loc[(data.Room < 2) & data.Parking & (data.Address == 'Parand')]"
   ]
  },
  {
   "cell_type": "code",
   "execution_count": null,
   "id": "0b37921d-9af4-425b-b21d-b5d00e62fbd4",
   "metadata": {},
   "outputs": [],
   "source": [
    "## DataAnalysis_Code-48\n",
    "import matplotlib.pyplot as plt\n",
    "import numpy as np\n",
    "\n",
    "xpoints = np.arange(0, 5, 0.01)\n",
    "\n",
    "plt.plot(xpoints, [xpoint for xpoint in xpoints],\n",
    "         xpoints, [xpoint ** 2 for xpoint in xpoints],\n",
    "         xpoints, [xpoint ** 3 for xpoint in xpoints])\n",
    "         \n",
    "plt.grid(True)\n",
    "plt.xlabel('X-axis')\n",
    "plt.ylabel('Y-axis')\n",
    "plt.title(\"Polynomial Graph\")\n",
    "plt.show()"
   ]
  },
  {
   "cell_type": "code",
   "execution_count": null,
   "id": "cbf2375e-ff3a-40f6-8073-0ef06913bfa7",
   "metadata": {},
   "outputs": [],
   "source": [
    "## DataAnalysis_Code-49\n",
    "import matplotlib.pyplot as plt\n",
    "\n",
    "room_counts = data[\"Room\"].value_counts()\n",
    "\n",
    "plt.figure(figsize=(8, 6))\n",
    "plt.bar(room_counts.index, \n",
    "        room_counts.values,\n",
    "        color=\"skyblue\", \n",
    "        edgecolor=\"black\")\n",
    "plt.xlabel(\"Number of Rooms\")\n",
    "plt.ylabel(\"Count\")\n",
    "plt.title(\"Distribution of Rooms in Houses\")\n",
    "plt.xticks(range(1, max(data[\"Room\"]) + 1))  \n",
    "plt.grid(axis=\"y\", linestyle=\"--\", alpha=0.7)\n",
    "plt.show()"
   ]
  },
  {
   "cell_type": "code",
   "execution_count": null,
   "id": "8347392d-92f1-4c6c-a379-6b0f53d5b91b",
   "metadata": {},
   "outputs": [],
   "source": [
    "## DataAnalysis_Code-50\n",
    "room_counts = data[\"Room\"].value_counts()\n",
    "\n",
    "plt.figure(figsize=(8, 6)) \n",
    "bars = plt.bar(room_counts.index,\n",
    "               room_counts.values,\n",
    "               color=\"skyblue\",\n",
    "               edgecolor=\"black\")\n",
    "\n",
    "for bar in bars:\n",
    "    height = bar.get_height()\n",
    "    plt.annotate(f\"{height}\",\n",
    "    xy=(bar.get_x()+bar.get_width()/2, height),\n",
    "    xytext=(0, 3),  \n",
    "    textcoords=\"offset points\",\n",
    "    ha=\"center\",\n",
    "    va=\"bottom\")\n",
    "plt.xlabel(\"Number of Rooms\")\n",
    "plt.ylabel(\"Count\")\n",
    "plt.title(\"Distribution of Rooms in Houses\")\n",
    "plt.grid(axis=\"y\", linestyle=\"--\", alpha=0.7)\n",
    "plt.show()"
   ]
  },
  {
   "cell_type": "code",
   "execution_count": null,
   "id": "67bc3e91-a08d-4b95-9ce7-ab4bb18f3727",
   "metadata": {},
   "outputs": [],
   "source": [
    "## DataAnalysis_Code-51\n",
    "data = pd.Series(['a', 'b', 'c', 'a', 'a', 'd', 'c'])\n",
    "labels, uniques = pd.factorize(data)\n",
    "print(f\"Unique values: {uniques}\")\n",
    "print(f\"Labeled data: {labels}\")"
   ]
  },
  {
   "cell_type": "code",
   "execution_count": null,
   "id": "76246724-f0e2-40fa-bf68-da90d28b051c",
   "metadata": {},
   "outputs": [],
   "source": [
    "## DataAnalysis_Code-52\n",
    "import numpy as np\n",
    "import pandas as pd\n",
    "\n",
    "values = np.array([[1, 2, 3, np.nan],\n",
    "                   [4, 5, 6, 7],\n",
    "                   [8, np.nan, 9, 10],\n",
    "                   [11, 12, 13, 14]])\n",
    "                   \n",
    "df = pd.DataFrame(values)\n",
    "df_new = df.dropna()\n",
    "df_new"
   ]
  },
  {
   "cell_type": "code",
   "execution_count": null,
   "id": "028fd277-b134-439c-aa6d-83f95fa818b9",
   "metadata": {},
   "outputs": [],
   "source": [
    "## DataAnalysis_Code-53\n",
    "df.dropna(inplace=True)"
   ]
  },
  {
   "cell_type": "code",
   "execution_count": null,
   "id": "63714bb8-6027-4f0e-84dd-42b9ef498a26",
   "metadata": {},
   "outputs": [],
   "source": [
    "## DataAnalysis_Code-54\n",
    "df.dropna(inplace=True, axis=1)"
   ]
  },
  {
   "cell_type": "code",
   "execution_count": null,
   "id": "6ddce4a7-24e4-454d-9dfe-4d23ff3b47e5",
   "metadata": {},
   "outputs": [],
   "source": [
    "## DataAnalysis_Code-55\n",
    "df.fillna(0, inplace=True)"
   ]
  },
  {
   "cell_type": "code",
   "execution_count": null,
   "id": "2de90a06-32b2-4641-beec-a58ce3bd864c",
   "metadata": {},
   "outputs": [],
   "source": [
    "## DataAnalysis_Code-56\n",
    "Q1 = df.X.quantile(0.25)\n",
    "Q3 = df.X.quantile(0.75)\n",
    "IQR = Q3 - Q1\n",
    "lower_limit = Q1 - 1.5 * IQR\n",
    "upper_limit = Q3 + 1.5 * IQR\n",
    "\n",
    "df_new = df[(df.X > lower_limit) & (df.X < upper_limit)]"
   ]
  },
  {
   "cell_type": "code",
   "execution_count": null,
   "id": "68f1b9a7-2b5e-4912-9998-9a36c955c40f",
   "metadata": {},
   "outputs": [],
   "source": [
    "## DataAnalysis_Code-57\n",
    "data = pd.read_csv(\"tehranhouses.csv\")\n",
    "print(f\"Min of Rooms: {data.Room.min()}, Max of Rooms: {data.Room.max()}\")\n",
    "print(f\"Min of Price: {data.Price.min()}, Max of Price: {data.Price.max()}\")"
   ]
  }
 ],
 "metadata": {
  "kernelspec": {
   "display_name": "Python 3 (ipykernel)",
   "language": "python",
   "name": "python3"
  },
  "language_info": {
   "codemirror_mode": {
    "name": "ipython",
    "version": 3
   },
   "file_extension": ".py",
   "mimetype": "text/x-python",
   "name": "python",
   "nbconvert_exporter": "python",
   "pygments_lexer": "ipython3",
   "version": "3.13.5"
  }
 },
 "nbformat": 4,
 "nbformat_minor": 5
}
