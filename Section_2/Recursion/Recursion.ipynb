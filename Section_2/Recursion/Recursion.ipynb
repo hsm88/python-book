{
 "cells": [
  {
   "cell_type": "code",
   "execution_count": null,
   "id": "c4fc2719-dff5-40e8-84f4-0216698ce1a9",
   "metadata": {},
   "outputs": [],
   "source": [
    "## Recursion_Code-1\n",
    "from math import pi\n",
    "\n",
    "def power2(number):\n",
    "    squared_number = number ** 2\n",
    "    return squared_number\n",
    "   \n",
    "def calculate_area(radius):\n",
    "    squared_radius = power2(radius)\n",
    "    return pi * squared_radius\n",
    "  \n",
    "result = calculate_area(3)\n",
    "print(result)"
   ]
  },
  {
   "cell_type": "code",
   "execution_count": null,
   "id": "456af2c2-b5f2-4308-b959-5ecc5368ef25",
   "metadata": {},
   "outputs": [],
   "source": [
    "## Recursion_Code-2\n",
    "def count_down(n):\n",
    "    print(n)"
   ]
  },
  {
   "cell_type": "code",
   "execution_count": null,
   "id": "56fc7988-0aec-41f2-abd5-d11f2bf120b7",
   "metadata": {},
   "outputs": [],
   "source": [
    "## Recursion_Code-3\n",
    "def count_down(n):\n",
    "    print(n)\n",
    "    \n",
    "count_down(3)\n",
    "count_down(2)\n",
    "count_down(1)"
   ]
  },
  {
   "cell_type": "code",
   "execution_count": null,
   "id": "dee9d79b-0011-4a56-8921-ada50ec37dbe",
   "metadata": {},
   "outputs": [],
   "source": [
    "## Recursion_Code-4\n",
    "def count_down(n):\n",
    "    for i in range(n, 0, -1):\n",
    "        print(i)"
   ]
  },
  {
   "cell_type": "code",
   "execution_count": null,
   "id": "1916395f-686e-4144-99b3-21083934be51",
   "metadata": {},
   "outputs": [],
   "source": [
    "## Recursion_Code-5\n",
    "def count_down(n):\n",
    "    for i in range(n, 0, -1):\n",
    "        print(i)\n",
    "        \n",
    "count_down(3)"
   ]
  },
  {
   "cell_type": "code",
   "execution_count": null,
   "id": "2aea46cd-c349-4767-b462-96199629751b",
   "metadata": {},
   "outputs": [],
   "source": [
    "## Recursion_Code-6\n",
    "def count_down(n):\n",
    "    print(n)\n",
    "    count_down(n-1)"
   ]
  },
  {
   "cell_type": "code",
   "execution_count": null,
   "id": "768147fd-7e72-42df-8b9b-811c64dfc83b",
   "metadata": {},
   "outputs": [],
   "source": [
    "## Recursion_Code-7\n",
    "def count_down(n):\n",
    "    print(n)\n",
    "    count_down(n-1)\n",
    "\n",
    "count_down(3)"
   ]
  },
  {
   "cell_type": "code",
   "execution_count": null,
   "id": "3367f6d1-ff57-4a6f-ba6b-698db01d3c47",
   "metadata": {},
   "outputs": [],
   "source": [
    "## Recursion_Code-8\n",
    "def count_down(n):\n",
    "    if n < 1:\n",
    "        return\n",
    "    print(n)\n",
    "    count_down(n-1)"
   ]
  },
  {
   "cell_type": "code",
   "execution_count": null,
   "id": "a338f640-cd8a-4fc6-aa96-543755a887bb",
   "metadata": {},
   "outputs": [],
   "source": [
    "## Recursion_Code-9\n",
    "def factorial_without_recursion(n):\n",
    "    result = 1\n",
    "    for i in range(1, n + 1):\n",
    "        result *= i\n",
    "    return result"
   ]
  },
  {
   "cell_type": "code",
   "execution_count": null,
   "id": "af0dd1ba-f63c-44b9-a186-56e197f4e84b",
   "metadata": {},
   "outputs": [],
   "source": [
    "## Recursion_Code-10\n",
    "def factorial_with_recursion(n):\n",
    "    if n == 1:\n",
    "        return 1\n",
    "    else:\n",
    "        return n * factorial_with_recursion(n - 1)"
   ]
  },
  {
   "cell_type": "code",
   "execution_count": null,
   "id": "df87535a-ed73-4bf1-ae59-337d807578c5",
   "metadata": {},
   "outputs": [],
   "source": [
    "## Recursion_Code-11\n",
    "from turtle import *\n",
    "\n",
    "speed('fastest')\n",
    "hideturtle()\n",
    "\n",
    "def draw_snowflak_side(l, n):\n",
    "    if n == 0:\n",
    "        forward(l)\n",
    "    else:\n",
    "        draw_snowflak_side(l / 3, n - 1)\n",
    "        left(60)\n",
    "        draw_snowflak_side(l / 3, n - 1)\n",
    "        right(120)\n",
    "        draw_snowflak_side(l / 3, n - 1)\n",
    "        left(60)\n",
    "        draw_snowflak_side(l / 3, n - 1)\n",
    "\n",
    "def draw_snowflake(l, n):\n",
    "    for _ in range(3):\n",
    "        draw_snowflak_side(l, n)\n",
    "        right(120)\n",
    "\n",
    "draw_snowflake(300, 3)\n",
    "done()"
   ]
  }
 ],
 "metadata": {
  "kernelspec": {
   "display_name": "Python 3 (ipykernel)",
   "language": "python",
   "name": "python3"
  },
  "language_info": {
   "codemirror_mode": {
    "name": "ipython",
    "version": 3
   },
   "file_extension": ".py",
   "mimetype": "text/x-python",
   "name": "python",
   "nbconvert_exporter": "python",
   "pygments_lexer": "ipython3",
   "version": "3.13.5"
  }
 },
 "nbformat": 4,
 "nbformat_minor": 5
}
