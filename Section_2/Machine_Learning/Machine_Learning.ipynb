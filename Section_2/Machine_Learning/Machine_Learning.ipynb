{
 "cells": [
  {
   "cell_type": "code",
   "execution_count": null,
   "id": "17692dda-a328-4151-9776-880d13af9384",
   "metadata": {},
   "outputs": [],
   "source": [
    "## ML_Code-1\n",
    "import numpy as np\n",
    "import pandas as pd\n",
    "import matplotlib.pyplot as plt\n",
    "from sklearn.model_selection import train_test_split\n",
    "from sklearn.preprocessing import StandardScaler, LabelEncoder\n",
    "from sklearn.linear_model import LinearRegression\n",
    "from sklearn.metrics import root_mean_squared_error, r2_score\n",
    "import re"
   ]
  },
  {
   "cell_type": "code",
   "execution_count": null,
   "id": "e8ea2b0a-835f-4613-9890-38d67472f607",
   "metadata": {},
   "outputs": [],
   "source": [
    "## ML_Code-2\n",
    "data = pd.read_csv(\"tehranhouses.csv\")"
   ]
  },
  {
   "cell_type": "code",
   "execution_count": null,
   "id": "19399e30-d06b-4845-8d9f-9675874dbcce",
   "metadata": {},
   "outputs": [],
   "source": [
    "## ML_Code-3\n",
    "data = data.drop(\"Price(USD)\", axis=1)"
   ]
  },
  {
   "cell_type": "code",
   "execution_count": null,
   "id": "2dd0b5fa-f2b2-40c6-b3b5-2c33bf64896d",
   "metadata": {},
   "outputs": [],
   "source": [
    "## ML_Code-4\n",
    "data.info()"
   ]
  },
  {
   "cell_type": "code",
   "execution_count": null,
   "id": "2ea407e9-b56b-4c9d-8c64-8612d9a7015c",
   "metadata": {},
   "outputs": [],
   "source": [
    "## ML_Code-5\n",
    "data.dropna(inplace=True)"
   ]
  },
  {
   "cell_type": "code",
   "execution_count": null,
   "id": "44d40c0b-62de-4ef6-8cc5-e2bd857180fd",
   "metadata": {},
   "outputs": [],
   "source": [
    "## ML_Code-6\n",
    "print(data.iloc[709, 0])"
   ]
  },
  {
   "cell_type": "code",
   "execution_count": null,
   "id": "48a26f73-9886-470c-a089-1f6dc023beca",
   "metadata": {},
   "outputs": [],
   "source": [
    "## ML_Code-7\n",
    "data['Area'] = data['Area'].apply(lambda x: re.sub(',', '', x))\n",
    "data['Area'] = pd.to_numeric(data['Area'])"
   ]
  },
  {
   "cell_type": "code",
   "execution_count": null,
   "id": "c50b88ca-677a-47e1-b3c2-f6feb213b61d",
   "metadata": {},
   "outputs": [],
   "source": [
    "## ML_Code-8\n",
    "print(data.iloc[709, 0])"
   ]
  },
  {
   "cell_type": "code",
   "execution_count": null,
   "id": "d04e9420-9bcb-4755-b259-17342a77efa0",
   "metadata": {},
   "outputs": [],
   "source": [
    "## ML_Code-9\n",
    "le = LabelEncoder()\n",
    "\n",
    "for column in data.select_dtypes(include=['object','bool']):\n",
    "    data[column] = le.fit_transform(data[column])"
   ]
  },
  {
   "cell_type": "code",
   "execution_count": null,
   "id": "96c1d3f9-8df2-44c1-b2b6-e8ae0e2cdd8f",
   "metadata": {},
   "outputs": [],
   "source": [
    "## ML_Code-10\n",
    "print(data.iloc[709, 0])"
   ]
  },
  {
   "cell_type": "code",
   "execution_count": null,
   "id": "c8d31103-5f17-42fc-bd41-e278df9d102b",
   "metadata": {},
   "outputs": [],
   "source": [
    "## ML_Code-11\n",
    "Q1 = data[\"Area\"].quantile(0.25)\n",
    "Q3 = data[\"Area\"].quantile(0.75)\n",
    "IQR = Q3 - Q1\n",
    "lower_bound = Q1 - 1.5 * IQR\n",
    "upper_bound = Q3 + 1.5 * IQR\n",
    "\n",
    "data = data[(data[\"Area\"] > lower_bound) & (data[\"Area\"] < upper_bound)]"
   ]
  },
  {
   "cell_type": "code",
   "execution_count": null,
   "id": "ff1aa4cd-ce27-4774-a961-ce46663be5d4",
   "metadata": {},
   "outputs": [],
   "source": [
    "## ML_Code-12\n",
    "features = data.iloc[:,:6]\n",
    "label = data[\"Price\"]"
   ]
  },
  {
   "cell_type": "code",
   "execution_count": null,
   "id": "398eb0ef-d4f6-48a5-a12e-a7811290fd17",
   "metadata": {},
   "outputs": [],
   "source": [
    "## ML_Code-13\n",
    "scaler = StandardScaler()"
   ]
  },
  {
   "cell_type": "code",
   "execution_count": null,
   "id": "94e8e73f-c10f-443f-9600-a661699b12ae",
   "metadata": {},
   "outputs": [],
   "source": [
    "## ML_Code-14\n",
    "features_scaled = scaler.fit_transform(features)"
   ]
  },
  {
   "cell_type": "code",
   "execution_count": null,
   "id": "760d8f52-fe3e-47e6-94c8-74f3713a7fb3",
   "metadata": {},
   "outputs": [],
   "source": [
    "## ML_Code-15\n",
    "features_train, features_test, label_train, label_test = train_test_split(\n",
    "        features_scaled,\n",
    "        label,\n",
    "        test_size=0.2,\n",
    "        random_state=42)"
   ]
  },
  {
   "cell_type": "code",
   "execution_count": null,
   "id": "267652dd-7c5f-4a00-88e1-2b0838f596fa",
   "metadata": {},
   "outputs": [],
   "source": [
    "## ML_Code-16\n",
    "lr = LinearRegression()\n",
    "model = lr.fit(features_train, label_train)"
   ]
  },
  {
   "cell_type": "code",
   "execution_count": null,
   "id": "04bb18e3-c327-4c42-8935-75e42600aa8c",
   "metadata": {},
   "outputs": [],
   "source": [
    "## ML_Code-17\n",
    "print(f\"Coefficients: {lr.coef_}\")\n",
    "print(f\"Bias: {lr.intercept_}\")"
   ]
  },
  {
   "cell_type": "code",
   "execution_count": null,
   "id": "1523ff3b-d2b5-4605-9889-fa9c4e22d409",
   "metadata": {},
   "outputs": [],
   "source": [
    "## ML_Code-18\n",
    "label_predicted = model.predict(features_test)"
   ]
  },
  {
   "cell_type": "code",
   "execution_count": null,
   "id": "8a51eaed-1d2c-4163-8440-47a78083746f",
   "metadata": {},
   "outputs": [],
   "source": [
    "## ML_Code-20\n",
    "print(f\"R2 Score: {r2_score(label_predicted, label_test)}\")\n",
    "print(f\"RMSE: {root_mean_squared_error(label_predicted, label_test)}\")## ML_Code-19\n",
    "plt.scatter(label_test, label_pred)\n",
    "plt.xlabel(\"Real Price\")\n",
    "plt.ylabel(\"Predicted Price\")\n",
    "plt.show()"
   ]
  },
  {
   "cell_type": "code",
   "execution_count": null,
   "id": "45dbf3cb-012e-4964-ac5e-4d8c8dae1d1e",
   "metadata": {},
   "outputs": [],
   "source": [
    "## ML_Code-21\n",
    "new_prediction = model.predict(np.array([50, 1, 0, 0, 0, 117]).reshape(1, -1))\n",
    "print(f\"Predicted Price: {new_prediction[0]:,}\")"
   ]
  }
 ],
 "metadata": {
  "kernelspec": {
   "display_name": "Python 3 (ipykernel)",
   "language": "python",
   "name": "python3"
  },
  "language_info": {
   "codemirror_mode": {
    "name": "ipython",
    "version": 3
   },
   "file_extension": ".py",
   "mimetype": "text/x-python",
   "name": "python",
   "nbconvert_exporter": "python",
   "pygments_lexer": "ipython3",
   "version": "3.13.5"
  }
 },
 "nbformat": 4,
 "nbformat_minor": 5
}
