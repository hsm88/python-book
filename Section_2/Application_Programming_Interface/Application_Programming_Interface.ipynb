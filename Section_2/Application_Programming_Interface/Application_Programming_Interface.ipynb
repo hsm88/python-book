{
 "cells": [
  {
   "cell_type": "code",
   "execution_count": null,
   "id": "1891ee5e-462c-4cbf-a7b5-68d51c0c4f45",
   "metadata": {},
   "outputs": [],
   "source": [
    "## API_Code-1\n",
    "import requests\n",
    "\n",
    "url = \"https://timeapi.io/api/time/current/zone?timeZone=Asia%2FTehran\""
   ]
  },
  {
   "cell_type": "code",
   "execution_count": null,
   "id": "c66c5a22-024d-485b-8ec1-40ee63cab055",
   "metadata": {},
   "outputs": [],
   "source": [
    "## API_Code-2\n",
    "import requests\n",
    "\n",
    "url = \"https://timeapi.io/api/time/current/zone?timeZone=Asia%2FTehran\"\n",
    "\n",
    "response = requests.get(url)"
   ]
  },
  {
   "cell_type": "code",
   "execution_count": null,
   "id": "f5ca247b-d1e8-4b9d-8451-98c77f0de98d",
   "metadata": {},
   "outputs": [],
   "source": [
    "## API_Code-3\n",
    "import requests\n",
    "\n",
    "url = \"https://timeapi.io/api/time/current/zone?timeZone=Asia%2FTehran\"\n",
    "\n",
    "response = requests.get(url).json()\n",
    "print(response)"
   ]
  },
  {
   "cell_type": "code",
   "execution_count": null,
   "id": "df8aaef2-11a6-40b0-9d3d-3ab337a5addc",
   "metadata": {},
   "outputs": [],
   "source": [
    "## API_Code-4\n",
    "import requests\n",
    "\n",
    "url = \"https://timeapi.io/api/time/current/zone?timeZone=Asia%2FTehran\"\n",
    "\n",
    "response = requests.get(url).json()\n",
    "print(response[\"dateTime\"])"
   ]
  },
  {
   "cell_type": "code",
   "execution_count": null,
   "id": "77c583f6-7f3e-4149-a670-427588769f7d",
   "metadata": {},
   "outputs": [],
   "source": [
    "## API_Code-5\n",
    "import requests\n",
    "\n",
    "url = \"https://api.nasa.gov/planetary/apod?api_key=fYGKwhj5vjkVFEClBfDVXNOwKXFcJJruL9g&date=2023-05-28\"\n",
    "\n",
    "response = requests.get(url).json()\n",
    "print(f\"Image Address: {response[\"url\"]}\")\n",
    "print(f\"Explanation: \\n{response[\"explanation\"]}\")"
   ]
  },
  {
   "cell_type": "code",
   "execution_count": null,
   "id": "767cf0e2-b3ee-43d9-ab2e-009be1238b0a",
   "metadata": {},
   "outputs": [],
   "source": [
    "## API_Code-6\n",
    "from flask import Flask\n",
    "\n",
    "app = Flask(__name__)\n",
    "\n",
    "if __name__ == '__main__':\n",
    "    app.run(host='127.0.0.1', port=5000)"
   ]
  },
  {
   "cell_type": "code",
   "execution_count": null,
   "id": "bbb5b37e-579e-425b-bdb0-7492af084918",
   "metadata": {},
   "outputs": [],
   "source": [
    "## API_Code-7\n",
    "from flask import Flask\n",
    "\n",
    "app = Flask(__name__)\n",
    "\n",
    "@app.route('/hello', methods=['GET'])\n",
    "def hello():\n",
    "    return \"Hello, World!\"\n",
    "\n",
    "if __name__ == '__main__':\n",
    "    app.run(host='127.0.0.1', port=5000)"
   ]
  },
  {
   "cell_type": "code",
   "execution_count": null,
   "id": "57746036-5abf-403e-bd56-9253b0c13e56",
   "metadata": {},
   "outputs": [],
   "source": [
    "## API_Code-8\n",
    "from flask import Flask\n",
    "from datetime import datetime\n",
    "\n",
    "app = Flask(__name__)\n",
    "\n",
    "@app.route('/hello', methods=['GET'])\n",
    "def hello():\n",
    "    return 'Hello, World!'\n",
    "\n",
    "@app.route('/datetime', methods=['GET'])\n",
    "def show_datetime():\n",
    "    return f'Now is {datetime.now()}'\n",
    "\n",
    "if __name__ == '__main__':\n",
    "    app.run()"
   ]
  }
 ],
 "metadata": {
  "kernelspec": {
   "display_name": "Python 3 (ipykernel)",
   "language": "python",
   "name": "python3"
  },
  "language_info": {
   "codemirror_mode": {
    "name": "ipython",
    "version": 3
   },
   "file_extension": ".py",
   "mimetype": "text/x-python",
   "name": "python",
   "nbconvert_exporter": "python",
   "pygments_lexer": "ipython3",
   "version": "3.13.5"
  }
 },
 "nbformat": 4,
 "nbformat_minor": 5
}
