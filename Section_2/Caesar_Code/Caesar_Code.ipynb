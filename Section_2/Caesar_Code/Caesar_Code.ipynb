{
 "cells": [
  {
   "cell_type": "code",
   "execution_count": null,
   "id": "f40d6432-8567-4252-b172-ca02e3597236",
   "metadata": {},
   "outputs": [],
   "source": [
    "## Caesar_Code-1\n",
    "print(ord(\"A\"))"
   ]
  },
  {
   "cell_type": "code",
   "execution_count": null,
   "id": "d13a422a-c14f-4170-9675-1f95ff1a94f7",
   "metadata": {},
   "outputs": [],
   "source": [
    "## Caesar_Code-2\n",
    "print(chr(65))"
   ]
  },
  {
   "cell_type": "code",
   "execution_count": null,
   "id": "44fc8963-ba1a-4ed0-bebc-acc7602203a7",
   "metadata": {},
   "outputs": [],
   "source": [
    "## Caesar_Code-3\n",
    "def encrypt(text, key):\n",
    "    result = \"\"\n",
    "\n",
    "    for character in text:\n",
    "        if character.isupper():\n",
    "            result += chr((ord(character) + key - 65) % 26 + 65)\n",
    "        else:\n",
    "            result += chr((ord(character) + key - 97) % 26 + 97)\n",
    " \n",
    "    return result"
   ]
  },
  {
   "cell_type": "code",
   "execution_count": null,
   "id": "6e530999-76d1-4640-9bf6-f5d16c423dbb",
   "metadata": {},
   "outputs": [],
   "source": [
    "## Caesar_Code-4\n",
    "print(chr(ord(\"A\") + 3))"
   ]
  },
  {
   "cell_type": "code",
   "execution_count": null,
   "id": "537615cb-6db7-4681-b7b8-5cbced8b869d",
   "metadata": {},
   "outputs": [],
   "source": [
    "## Caesar_Code-5\n",
    "print(chr(ord(\"A\") + 29))"
   ]
  },
  {
   "cell_type": "code",
   "execution_count": null,
   "id": "ae15d942-2e4e-4d26-99ff-99f96cadea9f",
   "metadata": {},
   "outputs": [],
   "source": [
    "## Caesar_Code-6\n",
    "print(chr((ord(\"A\") + 29 - 65) % 26 + 65))"
   ]
  },
  {
   "cell_type": "code",
   "execution_count": null,
   "id": "82b32314-ade3-4f3a-ba51-846f22fd52a2",
   "metadata": {},
   "outputs": [],
   "source": [
    "## Caesar_Code-7\n",
    "text = \"FIRSTMESSAGE\"\n",
    "key = 4\n",
    "print(\"Text: \" + text)\n",
    "print(\"Key: \" + str(key))\n",
    "print(\"Cipher: \" + encrypt(text, key))"
   ]
  },
  {
   "cell_type": "code",
   "execution_count": null,
   "id": "de9d5c97-af9c-4f40-bcf2-729e998498d0",
   "metadata": {},
   "outputs": [],
   "source": [
    "## Caesar_Code-8\n",
    "def decrypt(text, key):\n",
    "    result = \"\"\n",
    "\n",
    "    for character in text:\n",
    "        if character.isupper():\n",
    "            result += chr((ord(character) - key - 65) % 26 + 65)\n",
    "        else:\n",
    "            result += chr((ord(character) - key - 97) % 26 + 97)\n",
    " \n",
    "    return result"
   ]
  },
  {
   "cell_type": "code",
   "execution_count": null,
   "id": "806f67a2-eb94-4185-bbe9-a572a20b4594",
   "metadata": {},
   "outputs": [],
   "source": [
    "## Caesar_Code-9\n",
    "text = \"FIRSTMESSAGE\"\n",
    "key = 4\n",
    "cipher = encrypt(text, key)\n",
    "print(\"Text: \" + text)\n",
    "print(\"Key: \" + str(key))\n",
    "print(\"Cipher: \" + cipher)\n",
    "\n",
    "plaintext = decrypt(cipher, key)\n",
    "print(\"Decrypted (Original) Text: \" + plaintext)"
   ]
  },
  {
   "cell_type": "code",
   "execution_count": null,
   "id": "5ab04cde-0ff5-4afe-89c0-c5919c97bde7",
   "metadata": {},
   "outputs": [],
   "source": [
    "## Caesar_Code-10\n",
    "def brute_force_attack(text):\n",
    "    for i in range(26):\n",
    "        print(f\"Key:{i} => Message: {decrypt(text, i)}\")"
   ]
  }
 ],
 "metadata": {
  "kernelspec": {
   "display_name": "Python 3 (ipykernel)",
   "language": "python",
   "name": "python3"
  },
  "language_info": {
   "codemirror_mode": {
    "name": "ipython",
    "version": 3
   },
   "file_extension": ".py",
   "mimetype": "text/x-python",
   "name": "python",
   "nbconvert_exporter": "python",
   "pygments_lexer": "ipython3",
   "version": "3.13.5"
  }
 },
 "nbformat": 4,
 "nbformat_minor": 5
}
