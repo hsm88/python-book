{
 "cells": [
  {
   "cell_type": "code",
   "execution_count": null,
   "id": "bbd96861-9ee9-4b8f-959e-e8e52df25607",
   "metadata": {},
   "outputs": [],
   "source": [
    "## Code-6.1\n",
    "import math\n",
    "\n",
    "print(math.pi)        # مقدار ثابت عدد پی\n",
    "print(math.sqrt(25))  # تابع جذر\n",
    "print(math.sin(0))    # تابع مثلثاتی سینوس"
   ]
  },
  {
   "cell_type": "code",
   "execution_count": null,
   "id": "d693d1d2-c289-4cf1-a15f-81590963a926",
   "metadata": {},
   "outputs": [],
   "source": [
    "## Code-6.2\n",
    "import datetime\n",
    "\n",
    "t = datetime.datetime.now()\n",
    "print(t)"
   ]
  },
  {
   "cell_type": "code",
   "execution_count": null,
   "id": "0dce5f1e-50ce-454e-945f-a0a9ad72ab80",
   "metadata": {},
   "outputs": [],
   "source": [
    "## Code-6.3\n",
    "import math as m\n",
    "\n",
    "print(m.pi) "
   ]
  },
  {
   "cell_type": "code",
   "execution_count": null,
   "id": "a85f2254-7a46-41cd-ac0b-7a0826be0cf6",
   "metadata": {},
   "outputs": [],
   "source": [
    "## Code-6.4\n",
    "import math as m\n",
    "\n",
    "print(math.pi) "
   ]
  },
  {
   "cell_type": "code",
   "execution_count": null,
   "id": "986e49bc-73f6-481b-8823-4356e0ccfc5d",
   "metadata": {},
   "outputs": [],
   "source": [
    "## Code-6.5\n",
    "import mymodule\n",
    "\n",
    "mymodule.is_even(24) "
   ]
  },
  {
   "cell_type": "code",
   "execution_count": null,
   "id": "803d6867-cecb-4122-b772-72ad7e04cb21",
   "metadata": {},
   "outputs": [],
   "source": [
    "## Code-6.6\n",
    "from math import pi\n",
    "\n",
    "print(pi) \n",
    "print(sin(0))"
   ]
  },
  {
   "cell_type": "code",
   "execution_count": null,
   "id": "f5501a42-b6c2-4da1-a611-e976a72bf836",
   "metadata": {},
   "outputs": [],
   "source": [
    "## Code-6.7\n",
    "from math import *\n",
    "\n",
    "print(pi) \n",
    "print(sin(0))"
   ]
  },
  {
   "cell_type": "code",
   "execution_count": null,
   "id": "6b269536-0831-4613-b641-8486f5a24460",
   "metadata": {},
   "outputs": [],
   "source": [
    "## Code-6.8\n",
    "import turtle\n",
    "\n",
    "laki = turtle.Turtle()"
   ]
  },
  {
   "cell_type": "code",
   "execution_count": null,
   "id": "43a8153b-dc8c-4188-984e-c64343ce3562",
   "metadata": {},
   "outputs": [],
   "source": [
    "## Code-6.9\n",
    "import turtle\n",
    "\n",
    "laki = turtle.Turtle()\n",
    "laki.forward(100)\n",
    "laki.right(90)\n",
    "laki.forward(100)\n",
    "laki.right(90)\n",
    "laki.forward(100)\n",
    "laki.right(90)\n",
    "laki.forward(100)\n",
    "laki.right(90)"
   ]
  },
  {
   "cell_type": "code",
   "execution_count": null,
   "id": "d66f2cf8-61c9-4409-bc60-44592900b290",
   "metadata": {},
   "outputs": [],
   "source": [
    "## Code-6.10\n",
    "import turtle\n",
    "\n",
    "laki = turtle.Turtle()\n",
    "for _ in range(4):\n",
    "    laki.forward(100)\n",
    "    laki.right(90)"
   ]
  },
  {
   "cell_type": "code",
   "execution_count": null,
   "id": "f8193c3b-6c26-483b-aef6-f4e940cbb17d",
   "metadata": {},
   "outputs": [],
   "source": [
    "## Code-6.11\n",
    "laki.backward(50)"
   ]
  },
  {
   "cell_type": "code",
   "execution_count": null,
   "id": "ab2f6d6a-5398-4b07-889b-df2d6fc0840e",
   "metadata": {},
   "outputs": [],
   "source": [
    "## Code-6.12\n",
    "laki.shape(\"turtle\")"
   ]
  },
  {
   "cell_type": "code",
   "execution_count": null,
   "id": "4fba4274-a28c-4960-8812-10aa0671f099",
   "metadata": {},
   "outputs": [],
   "source": [
    "## Code-6.13\n",
    "laki.color(\"blue\")"
   ]
  },
  {
   "cell_type": "code",
   "execution_count": null,
   "id": "9c37ff21-0a4f-4c28-aff0-9d0fb7d8670a",
   "metadata": {},
   "outputs": [],
   "source": [
    "## Code-6.14\n",
    "laki.width(5)"
   ]
  },
  {
   "cell_type": "code",
   "execution_count": null,
   "id": "d9d3ab25-49df-4913-9e11-e084e1917fd5",
   "metadata": {},
   "outputs": [],
   "source": [
    "## Code-6.15\n",
    "laki.speed(\"fastest\")"
   ]
  },
  {
   "cell_type": "code",
   "execution_count": null,
   "id": "155dfce7-235f-47a3-9852-e1692fcdbc17",
   "metadata": {},
   "outputs": [],
   "source": [
    "## Code-6.16\n",
    "import turtle\n",
    "\n",
    "laki = turtle.Turtle()\n",
    "laki.shape(\"turtle\")\n",
    "laki.color(\"red\")\n",
    "\n",
    "laki.begin_fill()       # شروع رنگ‌آمیزی\n",
    "laki.circle(150)        # رسم دایره‌ای به شعاع 150\n",
    "laki.end_fill()         # پایان رنگ‌آمیزی"
   ]
  },
  {
   "cell_type": "code",
   "execution_count": null,
   "id": "dfdd82d4-1dbc-4c67-9db4-300fafd280eb",
   "metadata": {},
   "outputs": [],
   "source": [
    "## Code-6.17\n",
    "import turtle as t\n",
    "import random as r\n",
    "\n",
    "laki = t.Turtle()\n",
    "laki.speed(\"fastest\")\n",
    "\n",
    "colors = [\"blue\", \"red\", \"green\", \"orange\", \"pink\", \"purple\", \"black\"]\n",
    "radius = [10, 20, 30, 40, 50, 60]\n",
    "x = [-250, -200, -150, -100, -50, 0, 50, 100, 150, 200, 250]\n",
    "y = [-250, -200, -150, -100, -50, 0, 50, 100, 150, 200, 250]\n",
    "\n",
    "for _ in range(100):\n",
    "    laki.up()\n",
    "    laki.goto(r.choice(x), r.choice(y))\n",
    "    laki.down()\n",
    "    laki.color(r.choice(colors))\n",
    "    laki.begin_fill()\n",
    "    laki.circle(r.choice(radius))\n",
    "    laki.end_fill()"
   ]
  },
  {
   "cell_type": "code",
   "execution_count": null,
   "id": "29196bd5-299f-4ff6-a7a6-117cb5b598ad",
   "metadata": {},
   "outputs": [],
   "source": [
    "## Code-6.18\n",
    "import turtle as t\n",
    "\n",
    "laki = t.Turtle()\n",
    "laki.speed(\"fastest\")\n",
    "laki.color(\"blue\")\n",
    "laki.shape(\"turtle\")\n",
    "\n",
    "laki.lt(30)\n",
    "laki.fd(50)\n",
    "laki.rt(60)\n",
    "laki.fd(50)\n",
    "laki.rt(120)\n",
    "laki.fd(50)\n",
    "laki.rt(60)\n",
    "laki.fd(50)\n",
    "laki.rt(150)"
   ]
  },
  {
   "cell_type": "code",
   "execution_count": null,
   "id": "b01b72c8-8612-4cd6-97df-1dff44cf4aab",
   "metadata": {},
   "outputs": [],
   "source": [
    "## Code-6.19\n",
    "import turtle as t\n",
    "\n",
    "laki = t.Turtle()\n",
    "laki.speed(\"fastest\")\n",
    "laki.color(\"blue\")\n",
    "laki.shape(\"turtle\")\n",
    "\n",
    "def diamond():\n",
    "    laki.lt(30)\n",
    "    laki.fd(50)\n",
    "    laki.rt(60)\n",
    "    laki.fd(50)\n",
    "    laki.rt(120)\n",
    "    laki.fd(50)\n",
    "    laki.rt(60)\n",
    "    laki.fd(50)\n",
    "    laki.rt(150)\n",
    "    \n",
    "for _ in range(36):\n",
    "    diamond()\n",
    "    laki.rt(10)"
   ]
  }
 ],
 "metadata": {
  "kernelspec": {
   "display_name": "Python 3 (ipykernel)",
   "language": "python",
   "name": "python3"
  },
  "language_info": {
   "codemirror_mode": {
    "name": "ipython",
    "version": 3
   },
   "file_extension": ".py",
   "mimetype": "text/x-python",
   "name": "python",
   "nbconvert_exporter": "python",
   "pygments_lexer": "ipython3",
   "version": "3.13.5"
  }
 },
 "nbformat": 4,
 "nbformat_minor": 5
}
