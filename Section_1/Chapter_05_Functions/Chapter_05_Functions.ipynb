{
 "cells": [
  {
   "cell_type": "code",
   "execution_count": null,
   "id": "f0dc2d6b-2b88-4c6c-9ab6-b60fcc7fd9bb",
   "metadata": {},
   "outputs": [],
   "source": [
    "## Code-5.1\n",
    "def f(x, y):\n",
    "    z = x + y\n",
    "    return z"
   ]
  },
  {
   "cell_type": "code",
   "execution_count": null,
   "id": "45f91f13-8093-4f41-8f72-b2604702314f",
   "metadata": {},
   "outputs": [],
   "source": [
    "## Code-5.2\n",
    "def print_seconds_per_day():\n",
    "    hours = 24                  \n",
    "    minutes = hours * 60        \n",
    "    seconds = minutes * 60\n",
    "    print(seconds)"
   ]
  },
  {
   "cell_type": "code",
   "execution_count": null,
   "id": "8f3d16c1-8e3e-4f76-b037-65323fe8805f",
   "metadata": {},
   "outputs": [],
   "source": [
    "## Code-5.3\n",
    "def print_seconds_per_day():\n",
    "    hours = 24                  \n",
    "    minutes = hours * 60        \n",
    "    seconds = minutes * 60\n",
    "    print(seconds)\n",
    "    \n",
    "print_seconds_per_day()"
   ]
  },
  {
   "cell_type": "code",
   "execution_count": null,
   "id": "abba0a92-6ee6-4bde-836d-32f2dbcecba1",
   "metadata": {},
   "outputs": [],
   "source": [
    "## Code-5.4\n",
    "def print_seconds_per_days(days):\n",
    "    hours = days * 24                  \n",
    "    minutes = hours * 60        \n",
    "    seconds = minutes * 60\n",
    "    print(seconds)\n",
    "    \n",
    "print_seconds_per_days(7)\n"
   ]
  },
  {
   "cell_type": "code",
   "execution_count": null,
   "id": "b12ab4fa-2ba0-418b-850d-afec89e34caa",
   "metadata": {},
   "outputs": [],
   "source": [
    "## Code-4.5\n",
    "def divide(a, b):\n",
    "    c = a / b\n",
    "    print(c)"
   ]
  },
  {
   "cell_type": "code",
   "execution_count": null,
   "id": "1c1ea8e0-0309-430b-adb3-f2721ec9d709",
   "metadata": {},
   "outputs": [],
   "source": [
    "## Code-5.6\n",
    "divide(a=10, b=2)\n",
    "divide(b=2, a=10)"
   ]
  },
  {
   "cell_type": "code",
   "execution_count": null,
   "id": "e7f058a2-12f9-459a-9585-f87121d87b86",
   "metadata": {},
   "outputs": [],
   "source": [
    "## Code-5.7\n",
    "def print_seconds_per_day():\n",
    "    hours = 24                  \n",
    "    minutes = hours * 60        \n",
    "    seconds = minutes * 60\n",
    "    print(seconds)\n",
    "    \n",
    "print(hours)"
   ]
  },
  {
   "cell_type": "code",
   "execution_count": null,
   "id": "d1da2697-eebc-44bc-a22b-7a743a469ebc",
   "metadata": {},
   "outputs": [],
   "source": [
    "## Code-5.8\n",
    "def print_seconds_per_days(days):\n",
    "    hours = days * 24                  \n",
    "    minutes = hours * 60        \n",
    "    seconds = minutes * 60\n",
    "    return seconds"
   ]
  },
  {
   "cell_type": "code",
   "execution_count": null,
   "id": "371ec134-bbd7-4f05-97d0-e1ef0a449d33",
   "metadata": {},
   "outputs": [],
   "source": [
    "## Code-5.9\n",
    "def print_seconds_per_days(days):\n",
    "    hours = days * 24                  \n",
    "    minutes = hours * 60        \n",
    "    seconds = minutes * 60\n",
    "    return seconds\n",
    "    \n",
    "total_seconds = print_seconds_per_days(7)\n",
    "total_milliseconds = total_seconds * 1000\n",
    "print(total_milliseconds)"
   ]
  },
  {
   "cell_type": "code",
   "execution_count": null,
   "id": "4d3c791f-a37c-42eb-91d6-53c247a87ab2",
   "metadata": {},
   "outputs": [],
   "source": [
    "## Code-5.10\n",
    "def math(a, b):\n",
    "    sum = a + b\n",
    "    sub = a - b\n",
    "    mul = a * b\n",
    "    div = a / b\n",
    "    return sum, sub, mul, div\n",
    "    \n",
    "r1, r2, r3, r4 = math(12, 3)\n",
    "print(f\"Summation: {r1}\")\n",
    "print(f\"Subtraction: {r2}\")\n",
    "print(f\"Multiplication: {r3}\")\n",
    "print(f\"Division: {r4}\")"
   ]
  },
  {
   "cell_type": "code",
   "execution_count": null,
   "id": "b39d5630-1ebc-42fd-aeb5-b98dddde0adb",
   "metadata": {},
   "outputs": [],
   "source": [
    "## Code-5.11\n",
    "def math(a, b):\n",
    "    return a + b, a - b, a * b, a / b\n",
    "    \n",
    "r1, r2, r3, r4 = math(12, 3)\n",
    "print(f\"Summation: {r1}\")\n",
    "print(f\"Subtraction: {r2}\")\n",
    "print(f\"Multiplication: {r3}\")\n",
    "print(f\"Division: {r4}\")"
   ]
  },
  {
   "cell_type": "code",
   "execution_count": null,
   "id": "bf93ebed-fe22-481d-9c8c-1a4ef01b5ea2",
   "metadata": {},
   "outputs": [],
   "source": [
    "## Code-5.12\n",
    "def welcome():\n",
    "    print(\"Welcome ...\")\n",
    "    \n",
    "result = welcome()\n",
    "print(result)"
   ]
  },
  {
   "cell_type": "code",
   "execution_count": null,
   "id": "8a84cd51-454f-4fe5-b2b1-5ee10f24d678",
   "metadata": {},
   "outputs": [],
   "source": [
    "## Code-5.13\n",
    "def welcome(name):\n",
    "    print(\"Welcome \" + name + \"!\")\n",
    "    \n",
    "welcome(\"Maryam\")"
   ]
  },
  {
   "cell_type": "code",
   "execution_count": null,
   "id": "177c70ea-50b2-44e4-bc29-f0872c58377b",
   "metadata": {},
   "outputs": [],
   "source": [
    "## Code-5.14\n",
    "def welcome(name=\"Dear Friend\"):\n",
    "    print(\"Welcome \" + name + \"!\")\n",
    "    \n",
    "welcome(\"Maryam\")\n",
    "welcome()\n",
    "welcome(\"Reza\")"
   ]
  },
  {
   "cell_type": "code",
   "execution_count": null,
   "id": "804f8aae-4dd6-449e-a9fc-9120fa635886",
   "metadata": {},
   "outputs": [],
   "source": [
    "## Code-5.15\n",
    "def multiply(a, b):\n",
    "    return a * b\n",
    "    \n",
    "print(multiply(3, 2))"
   ]
  },
  {
   "cell_type": "code",
   "execution_count": null,
   "id": "037a264f-9fa8-43ea-86f0-3c39c61ba0ce",
   "metadata": {},
   "outputs": [],
   "source": [
    "## Code-5.16\n",
    "def multiply(a, b):\n",
    "    return a * b\n",
    "    \n",
    "print(multiply(3, \"Hello\"))"
   ]
  },
  {
   "cell_type": "code",
   "execution_count": null,
   "id": "8d5fa368-bdac-4fe9-a1b6-3bd00f8a8588",
   "metadata": {},
   "outputs": [],
   "source": [
    "## Code-5.17\n",
    "def multiply(a: int, b: int) -> int:\n",
    "    return a * b\n",
    "    \n",
    "print(multiply(2, 3))"
   ]
  },
  {
   "cell_type": "code",
   "execution_count": null,
   "id": "6b4c8c7b-f602-4e64-9767-506c32864a29",
   "metadata": {},
   "outputs": [],
   "source": [
    "## Code-5.18\n",
    "def multiply(a: int, b: int) -> int:\n",
    "    return a * b\n",
    "    \n",
    "print(multiply(3, \"Hello\"))"
   ]
  },
  {
   "cell_type": "code",
   "execution_count": null,
   "id": "c0b59d83-a8fc-4bd2-97ab-09461205aa51",
   "metadata": {},
   "outputs": [],
   "source": [
    "## Code-5.19\n",
    "def multiply(a, b):\n",
    "    \"\"\" Returns multiplication of inputs \"\"\"\n",
    "    \n",
    "    return a * b\n",
    "    \n",
    "print(multiply.__doc__)"
   ]
  },
  {
   "cell_type": "code",
   "execution_count": null,
   "id": "d9374a8b-c074-4ac5-b635-80411e064d97",
   "metadata": {},
   "outputs": [],
   "source": [
    "## Code-5.20\n",
    "def multiply(a, b):\n",
    "    \"\"\" \n",
    "    Returns multiplication of inputs\n",
    "\n",
    "    Parameters:\n",
    "        a: first input parameter of type int\n",
    "        b: second input parameter of type int\n",
    "    \"\"\"\n",
    "    \n",
    "    return a * b\n",
    "    \n",
    "print(multiply.__doc__)"
   ]
  },
  {
   "cell_type": "code",
   "execution_count": null,
   "id": "53a92b0c-04a8-418f-b030-b1c6414c2134",
   "metadata": {},
   "outputs": [],
   "source": [
    "## Code-5.21\n",
    "def funciton():"
   ]
  },
  {
   "cell_type": "code",
   "execution_count": null,
   "id": "32251533-08b0-4741-a084-010aa96b17da",
   "metadata": {},
   "outputs": [],
   "source": [
    "## Code-5.22\n",
    "def funciton():\n",
    "    pass"
   ]
  },
  {
   "cell_type": "code",
   "execution_count": null,
   "id": "296f65c6-dde1-4d1c-8d71-8c6119d6ce41",
   "metadata": {},
   "outputs": [],
   "source": [
    "## Code-5.23\n",
    "numbers = [5, 2, -3, 6]\n",
    "print(sum(numbers))\n",
    "print(min(numbers))\n",
    "print(max(numbers))"
   ]
  },
  {
   "cell_type": "code",
   "execution_count": null,
   "id": "54aada6c-a37d-45f9-aff9-792320f4b49d",
   "metadata": {},
   "outputs": [],
   "source": [
    "## Code-5.24\n",
    "list1 = [1, 2, 3, 4]\n",
    "list2 = [\"a\", \"b\", \"c\", \"d\"]\n",
    "\n",
    "result = zip(list1, list2)\n",
    "print(list(result))"
   ]
  },
  {
   "cell_type": "code",
   "execution_count": null,
   "id": "65c3c398-9c57-44c1-b9bd-80623d8d1bb4",
   "metadata": {},
   "outputs": [],
   "source": [
    "## Code-5.25\n",
    "list1 = [1, 2, 3, 4]\n",
    "list2 = [\"a\", \"b\", \"c\", \"d\"]\n",
    "list3 = [\"A\", \"B\", \"C\", \"D\"]\n",
    "\n",
    "result = zip(list1, list2, list3)\n",
    "print(list(result))"
   ]
  },
  {
   "cell_type": "code",
   "execution_count": null,
   "id": "b2640184-2682-46b1-b8f5-991694b4c8e6",
   "metadata": {},
   "outputs": [],
   "source": [
    "## Code-5.26\n",
    "list1 = [0, 1, 2, 3]\n",
    "list2 = [3.4, \"hello\", [1, 2, 3], True]\n",
    "\n",
    "print(all(list1))\n",
    "print(all(list2))"
   ]
  },
  {
   "cell_type": "code",
   "execution_count": null,
   "id": "68c8b707-e834-4529-ab4f-c4f96046bb22",
   "metadata": {},
   "outputs": [],
   "source": [
    "## Code-5.27\n",
    "list1 = [0, 1]\n",
    "list2 = [3.4, \"hello\", [1, 2, 3], True]\n",
    "list3 = [False, 0, \"\", None, []]\n",
    "\n",
    "print(any(list1))\n",
    "print(any(list2))\n",
    "print(any(list3))"
   ]
  },
  {
   "cell_type": "code",
   "execution_count": null,
   "id": "e5d7a7cf-d25e-4b27-adb4-aafd6db1d2e8",
   "metadata": {},
   "outputs": [],
   "source": [
    "## Code-5.28\n",
    "message = \"Welcome to Python World!\"\n",
    "print(message.lower())\n",
    "print(message.upper())\n",
    "print(message.replace(\"World\", \"Class\"))"
   ]
  },
  {
   "cell_type": "code",
   "execution_count": null,
   "id": "32e9cb56-9509-40bb-ab9d-5ee1810a91ba",
   "metadata": {},
   "outputs": [],
   "source": [
    "## Code-5.29\n",
    "lambda a, b: a + b"
   ]
  },
  {
   "cell_type": "code",
   "execution_count": null,
   "id": "3af7a45e-c381-4452-82f8-761dcef1e80c",
   "metadata": {},
   "outputs": [],
   "source": [
    "## Code-5.30\n",
    "f = lambda a, b: a + b\n",
    "print(f(2, 3))"
   ]
  },
  {
   "cell_type": "code",
   "execution_count": null,
   "id": "2d1e035a-30fe-4918-be23-48a9990bb743",
   "metadata": {},
   "outputs": [],
   "source": [
    "## Code-5.31\n",
    "greet = lambda : print(\"Hello World!\")\n",
    "greet()"
   ]
  },
  {
   "cell_type": "code",
   "execution_count": null,
   "id": "b61de2e1-80b9-44bf-a236-55a2fbe28746",
   "metadata": {},
   "outputs": [],
   "source": [
    "## Code-5.32\n",
    "list1 = [1, 2, 3, 4, 5]\n",
    "list2 = []\n",
    "\n",
    "for item in list1:\n",
    "    list2.append(item ** 2)\n",
    "\n",
    "print(list2)"
   ]
  },
  {
   "cell_type": "code",
   "execution_count": null,
   "id": "c0a09d6f-4d3c-4ec8-83ea-f67b30ffa6c6",
   "metadata": {},
   "outputs": [],
   "source": [
    "## Code-5.33\n",
    "list1 = [1, 2, 3, 4, 5]\n",
    "list2 = list(map(lambda n: n ** 2, list1))\n",
    "\n",
    "print(list2)"
   ]
  },
  {
   "cell_type": "code",
   "execution_count": null,
   "id": "20d0946d-39ff-4e6e-a3b7-8c99b85b7bb3",
   "metadata": {},
   "outputs": [],
   "source": [
    "## Code-5.34\n",
    "def function(n):\n",
    "    return n ** 2\n",
    "    \n",
    "list1 = [1, 2, 3, 4, 5]\n",
    "list2 = list(map(function, list1))\n",
    "\n",
    "print(list2)"
   ]
  },
  {
   "cell_type": "code",
   "execution_count": null,
   "id": "1e3f26a5-1205-4bd0-89e6-2d2113ec68ba",
   "metadata": {},
   "outputs": [],
   "source": [
    "## Code-5.35\n",
    "list1 = [1, 2, 3, 4, 5]\n",
    "list2 = []\n",
    "\n",
    "for item in list1:\n",
    "    if item % 2 == 0:\n",
    "        list2.append(item)\n",
    "\n",
    "print(list2)"
   ]
  },
  {
   "cell_type": "code",
   "execution_count": null,
   "id": "c435c26f-d736-48be-b903-aafb02a17eee",
   "metadata": {},
   "outputs": [],
   "source": [
    "## Code-5.36\n",
    "list1 = [1, 2, 3, 4, 5]\n",
    "list2 = list(filter(lambda n: n % 2 == 0, list1))\n",
    "\n",
    "print(list2)"
   ]
  },
  {
   "cell_type": "code",
   "execution_count": null,
   "id": "ba3a1bf8-dd24-42c8-b626-44fec6b5921f",
   "metadata": {},
   "outputs": [],
   "source": [
    "## Code-5.37\n",
    "def add(a, b):\n",
    "    print(a + b)\n",
    "\n",
    "add(2, 3)"
   ]
  },
  {
   "cell_type": "code",
   "execution_count": null,
   "id": "b20aa8de-9a74-4908-b925-36c4e639e345",
   "metadata": {},
   "outputs": [],
   "source": [
    "## Code-5.38\n",
    "def add(a, b):\n",
    "    print(a + b)\n",
    "\n",
    "add(1)"
   ]
  },
  {
   "cell_type": "code",
   "execution_count": null,
   "id": "1ccb711e-0a60-4206-9df8-c1b3205ec888",
   "metadata": {},
   "outputs": [],
   "source": [
    "## Code-5.39\n",
    "def add(a, b, c):\n",
    "    print(a + b + c)\n",
    "\n",
    "add(2, 3, 4)"
   ]
  },
  {
   "cell_type": "code",
   "execution_count": null,
   "id": "df1a120b-4828-49c7-a615-2cdbc14ce7ba",
   "metadata": {},
   "outputs": [],
   "source": [
    "## Code-5.40\n",
    "def add(*args):\n",
    "    result = 0\n",
    "    for arg in args:\n",
    "        result += arg\n",
    "    print(result)\n",
    "\n",
    "add(2)\n",
    "add(2, 3)\n",
    "add(2, 3, 4)\n",
    "add(2, 3, 4, 5)\n",
    "add(2, 3, 4, 5, 6)\n",
    "add(2, 3, 4, 5, 6, 7)"
   ]
  },
  {
   "cell_type": "code",
   "execution_count": null,
   "id": "cbe94a88-027a-4046-9f07-58871e9e233d",
   "metadata": {},
   "outputs": [],
   "source": [
    "## Code-5.41\n",
    "def info(**kwargs):\n",
    "    for key, value in kwargs.items():\n",
    "        print(f\"Key: {key}, Value: {value}\")\n",
    "\n",
    "info(name=\"Ali\")\n",
    "print(\"---\")    \n",
    "info(name=\"Ali\", age=20)\n",
    "print(\"---\")    \n",
    "info(name=\"Ali\", age=20, gender=\"male\")"
   ]
  },
  {
   "cell_type": "code",
   "execution_count": null,
   "id": "f8b39424-3634-49df-9fc9-08aa77113b2a",
   "metadata": {},
   "outputs": [],
   "source": [
    "## Code-5.42\n",
    "def function(arg, *args, **kwargs):\n",
    "    print(arg)\n",
    "    if args: print(args)\n",
    "    if kwargs: print(kwargs)\n",
    "\n",
    "function(\"hello\")    \n",
    "print(\"---\")    \n",
    "function(\"hello\", 1, 2, 3) \n",
    "print(\"---\")    \n",
    "function(\"hello\", 1, 2, 3, key1=\"value1\", key2=\"value2\")"
   ]
  },
  {
   "cell_type": "code",
   "execution_count": null,
   "id": "57c73bde-f2bb-40bf-bc67-bea414e9735e",
   "metadata": {},
   "outputs": [],
   "source": [
    "## Code-5.43\n",
    "def sort_numbers(numbers):\n",
    "    numbers.sort()\n",
    "    return numbers\n",
    "    \n",
    "numbers_list = [24, 75, 1, 12, 80]\n",
    "smallest, *others, biggest = sort_numbers(numbers_list)\n",
    "print(smallest)\n",
    "print(others)\n",
    "print(biggest)"
   ]
  },
  {
   "cell_type": "code",
   "execution_count": null,
   "id": "0fb9b46e-e2ab-46c7-872c-c47b9aafa6fc",
   "metadata": {},
   "outputs": [],
   "source": []
  }
 ],
 "metadata": {
  "kernelspec": {
   "display_name": "Python 3 (ipykernel)",
   "language": "python",
   "name": "python3"
  },
  "language_info": {
   "codemirror_mode": {
    "name": "ipython",
    "version": 3
   },
   "file_extension": ".py",
   "mimetype": "text/x-python",
   "name": "python",
   "nbconvert_exporter": "python",
   "pygments_lexer": "ipython3",
   "version": "3.13.5"
  }
 },
 "nbformat": 4,
 "nbformat_minor": 5
}
