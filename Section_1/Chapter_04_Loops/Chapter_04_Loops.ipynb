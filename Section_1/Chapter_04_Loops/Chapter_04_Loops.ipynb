{
 "cells": [
  {
   "cell_type": "code",
   "execution_count": null,
   "id": "54ea9169-2008-4c47-ba28-317aea73da6b",
   "metadata": {},
   "outputs": [],
   "source": [
    "## Code-4.1\n",
    "print(\"This is a MESSAGE!\")\n",
    "print(\"This is a MESSAGE!\")\n",
    "print(\"This is a MESSAGE!\")\n",
    "print(\"This is a MESSAGE!\")\n",
    "print(\"This is a MESSAGE!\")"
   ]
  },
  {
   "cell_type": "code",
   "execution_count": null,
   "id": "d19b1720-b170-4e4e-9eed-82b4b6a12302",
   "metadata": {},
   "outputs": [],
   "source": [
    "## Code-4.2\n",
    "for i in [1, 2, 3, 4, 5]:\n",
    "    print(\"This is a MESSAGE!\")"
   ]
  },
  {
   "cell_type": "code",
   "execution_count": null,
   "id": "03279b84-a893-467e-ba79-9e2ac237e4ca",
   "metadata": {},
   "outputs": [],
   "source": [
    "## Code-4.3\n",
    "for i in [1, 2, 3, 4, 5]:\n",
    "    print(\"This is a MESSAGE!\")"
   ]
  },
  {
   "cell_type": "code",
   "execution_count": null,
   "id": "14d23f67-3091-4f05-8619-d6aa4be19188",
   "metadata": {},
   "outputs": [],
   "source": [
    "## Code-4.4\n",
    "for i in [1, 2, 3, 4, 5]:\n",
    "    print(f\"{i}. This is a MESSAGE!\")"
   ]
  },
  {
   "cell_type": "code",
   "execution_count": null,
   "id": "4ea74157-dd4e-4726-9d8f-824e864c7689",
   "metadata": {},
   "outputs": [],
   "source": [
    "## Code-4.5\n",
    "for i in range(5):\n",
    "    print(f\"{i}. This is a MESSAGE!\")"
   ]
  },
  {
   "cell_type": "code",
   "execution_count": null,
   "id": "1b4cbe06-75e7-4d30-91a4-392c48fb3f69",
   "metadata": {},
   "outputs": [],
   "source": [
    "## Code-4.6\n",
    "for character in \"Python\":\n",
    "    print(f\"{character}\")"
   ]
  },
  {
   "cell_type": "code",
   "execution_count": null,
   "id": "a99ac6a9-91ab-4f9c-82d4-d8c9cd08bd0c",
   "metadata": {},
   "outputs": [],
   "source": [
    "## Code-4.7\n",
    "for item in [\"Ali\", 2.6, [1, 2, 3], True]:\n",
    "    print(f\"{item}\")"
   ]
  },
  {
   "cell_type": "code",
   "execution_count": null,
   "id": "e0cc1dfa-c099-4ebb-a27c-f05911ee8629",
   "metadata": {},
   "outputs": [],
   "source": [
    "## Code-4.8\n",
    "for name in [\"Ali\", \"Maryam\", \"Sadra\", \"Sara\"]:\n",
    "    print(\"Hello! Welcome to Python World ...\")"
   ]
  },
  {
   "cell_type": "code",
   "execution_count": null,
   "id": "4bf50a6a-10d3-4871-bb4d-6fe5432cc0f8",
   "metadata": {},
   "outputs": [],
   "source": [
    "## Code-4.9\n",
    "for name in [\"Ali\", \"Maryam\", \"Sadra\", \"Sara\"]:\n",
    "    print(f\"Hello {name}! Welcome to Python World ...\")"
   ]
  },
  {
   "cell_type": "code",
   "execution_count": null,
   "id": "7bff1297-deb5-4a49-980c-bfd87f7d28c2",
   "metadata": {},
   "outputs": [],
   "source": [
    "## Code-4.10\n",
    "for _ in [\"Ali\", \"Maryam\", \"Sadra\", \"Sara\"]:\n",
    "    print(\"Hello! Welcome to Python World ...\")"
   ]
  },
  {
   "cell_type": "code",
   "execution_count": null,
   "id": "f0f308a9-5658-4f9d-b292-3b27207f0c8d",
   "metadata": {},
   "outputs": [],
   "source": [
    "## Code-4.11\n",
    "my_dictionary = {\"k1\": 1, \"k2\": 2, \"k3\": 3}\n",
    "for value, key in my_dictionary.items():\n",
    "    print(f\"Key = {key} and Value = {value}\")"
   ]
  },
  {
   "cell_type": "code",
   "execution_count": null,
   "id": "8d6b4f63-0d2b-41e4-92a0-c0de08f171a2",
   "metadata": {},
   "outputs": [],
   "source": [
    "## Code-4.12\n",
    "for i in range(5):\n",
    "    if i == 3:\n",
    "        break\n",
    "    print(f\"Round {i + 1}\")\n",
    "print(\"Outside of loop\")"
   ]
  },
  {
   "cell_type": "code",
   "execution_count": null,
   "id": "39071dff-8e21-47ac-83fc-91b0a3a3912e",
   "metadata": {},
   "outputs": [],
   "source": [
    "## Code-4.13\n",
    "for i in range(4):\n",
    "    print(i)\n",
    "else:\n",
    "    print(\"Finally finished!\")\n"
   ]
  },
  {
   "cell_type": "code",
   "execution_count": null,
   "id": "63a171de-e6ec-4008-834c-f329ad7e814b",
   "metadata": {},
   "outputs": [],
   "source": [
    "## Code-4.14\n",
    "for i in range(4):\n",
    "    if i == 2:\n",
    "        break\n",
    "    print(i)\n",
    "else:\n",
    "    print(\"Finally finished!\")"
   ]
  },
  {
   "cell_type": "code",
   "execution_count": null,
   "id": "cc29fdc9-9ef6-414a-aa09-711d94c0614d",
   "metadata": {},
   "outputs": [],
   "source": [
    "## Code-4.15\n",
    "fruits = [\"انار\", \"کیوی\", \"موز\", \"پرتقال\", \"سیب\"]\n",
    "for fruit in fruits:\n",
    "    if fruit == \"هلو\":\n",
    "        print(\"!کلمۀ مورد نظر در لیست وجود دارد\")\n",
    "        break\n",
    "else:\n",
    "    print(\"!کلمۀ مورد نظر در لیست یافت نشد\")"
   ]
  },
  {
   "cell_type": "code",
   "execution_count": null,
   "id": "c6a243de-3796-4594-9778-1fbb20a59b5d",
   "metadata": {},
   "outputs": [],
   "source": [
    "## Code-4.16\n",
    "for i in range(1, 6):\n",
    "    print(f\"{i}\")"
   ]
  },
  {
   "cell_type": "code",
   "execution_count": null,
   "id": "84b60f08-137c-4ca2-a963-e704e155095a",
   "metadata": {},
   "outputs": [],
   "source": [
    "## Code-4.17\n",
    "for i in range(1, 6):\n",
    "    if i % 2 == 0:\n",
    "        print(f\"{i}\")"
   ]
  },
  {
   "cell_type": "code",
   "execution_count": null,
   "id": "88263b43-0418-49c2-aa6e-7d0e5e546339",
   "metadata": {},
   "outputs": [],
   "source": [
    "## Code-4.18\n",
    "for i in range(1, 6):\n",
    "    if i % 2 != 0:\n",
    "        continue\n",
    "    print(f\"{i}\")"
   ]
  },
  {
   "cell_type": "code",
   "execution_count": null,
   "id": "8fd824ee-94d8-40ee-959d-6fb634922262",
   "metadata": {},
   "outputs": [],
   "source": [
    "## Code-4.19\n",
    "for i in range(1, 4):\n",
    "    for j in range(1, 4):\n",
    "        print(i * j, end=\" \")"
   ]
  },
  {
   "cell_type": "code",
   "execution_count": null,
   "id": "d7d5d87b-48b0-4a39-a550-db7d9a04b299",
   "metadata": {},
   "outputs": [],
   "source": [
    "## Code-4.20\n",
    "print(\"Hello\", end=\"!!!\")\n",
    "print(\"Welcome to Python World\")"
   ]
  },
  {
   "cell_type": "code",
   "execution_count": null,
   "id": "f26fa056-0216-4db6-9d82-f468f1d29968",
   "metadata": {},
   "outputs": [],
   "source": [
    "## Code-4.21\n",
    "for i in range(1, 11):\n",
    "    for j in range(1, 11):\n",
    "        print(i * j, end=\" \")\n",
    "    print()"
   ]
  },
  {
   "cell_type": "code",
   "execution_count": null,
   "id": "563c729f-567a-458a-bb99-693d46b7b3e3",
   "metadata": {},
   "outputs": [],
   "source": [
    "## Code-4.22\n",
    "for i in range(1, 11):\n",
    "    for j in range(1, 11):\n",
    "        print(i * j, end= \" \" if len(str(i * j)) == 2 else 2 * \" \")\n",
    "    print()"
   ]
  },
  {
   "cell_type": "code",
   "execution_count": null,
   "id": "b298e92b-8639-44eb-b570-ff5e38f92693",
   "metadata": {},
   "outputs": [],
   "source": [
    "## Code-4.23\n",
    "numbers = [1, 2, 3, 4, 5, 6, 7, 8, 9, 10]\n",
    "squared_numbers = []\n",
    "for number in numbers:\n",
    "    squared_numbers.append(number ** 2)\n",
    "print(squared_numbers)"
   ]
  },
  {
   "cell_type": "code",
   "execution_count": null,
   "id": "5082e485-5cba-435b-9721-047586fac389",
   "metadata": {},
   "outputs": [],
   "source": [
    "## Code-4.24\n",
    "numbers = [1, 2, 3, 4, 5, 6, 7, 8, 9, 10]\n",
    "squared_numbers = []\n",
    "for number in numbers:\n",
    "    if number % 2 == 0:\n",
    "        squared_numbers.append(number ** 2)\n",
    "print(squared_numbers)"
   ]
  },
  {
   "cell_type": "code",
   "execution_count": null,
   "id": "c5992da6-68e6-4a3c-a0f6-17ae0358b316",
   "metadata": {},
   "outputs": [],
   "source": [
    "## Code-4.25\n",
    "numbers = [1, 2, 3, 4, 5, 6, 7, 8, 9, 10]\n",
    "squared_numbers = [number ** 2 for number in numbers if number % 2 == 0]\n",
    "print(squared_numbers)"
   ]
  },
  {
   "cell_type": "code",
   "execution_count": null,
   "id": "cd6c8bfe-7863-4297-829c-e844198b88fd",
   "metadata": {},
   "outputs": [],
   "source": [
    "## Code-4.26\n",
    "names = [\"Ali\", \"Masoud\", \"Hamid\", \"Reza\"]\n",
    "ages = [23, 34, 15, 70]\n",
    "info = {name: age for name, age in zip(names, ages)}\n",
    "print(info)"
   ]
  },
  {
   "cell_type": "code",
   "execution_count": null,
   "id": "f71e6206-a111-40fb-9387-c88a6b5dc361",
   "metadata": {},
   "outputs": [],
   "source": [
    "## Code-4.27\n",
    "count = 1\n",
    "while count < 5:\n",
    "    print(f\"Round {count}\")\n",
    "    count += 1"
   ]
  },
  {
   "cell_type": "code",
   "execution_count": null,
   "id": "9c0aa11a-0b31-40e9-9eeb-29baf4e530b7",
   "metadata": {},
   "outputs": [],
   "source": [
    "## Code-4.28\n",
    "message = \"programming language\"\n",
    "index = 0\n",
    "count = 0\n",
    "while index < len(message):\n",
    "    if message[index] == \"g\":\n",
    "            count += 1\n",
    "    index += 1\n",
    "print(f\"Number of character \\\"g\\\" is {count}\")"
   ]
  },
  {
   "cell_type": "code",
   "execution_count": null,
   "id": "7fc62133-68e4-4b62-bafc-862323241e14",
   "metadata": {},
   "outputs": [],
   "source": [
    "## Code-4.29\n",
    "i = 1\n",
    "while i <= 5:\n",
    "    print(i)\n",
    "    i += 1\n",
    "else:\n",
    "    print(\"The value of i is greater than 5\")"
   ]
  },
  {
   "cell_type": "code",
   "execution_count": null,
   "id": "c80425da-4ac6-44e1-a1d2-4115ae38abe4",
   "metadata": {},
   "outputs": [],
   "source": [
    "## Code-4.30\n",
    "while True:\n",
    "    print(\"Be careful! This is an infinite loop ...\")"
   ]
  }
 ],
 "metadata": {
  "kernelspec": {
   "display_name": "Python 3 (ipykernel)",
   "language": "python",
   "name": "python3"
  },
  "language_info": {
   "codemirror_mode": {
    "name": "ipython",
    "version": 3
   },
   "file_extension": ".py",
   "mimetype": "text/x-python",
   "name": "python",
   "nbconvert_exporter": "python",
   "pygments_lexer": "ipython3",
   "version": "3.13.5"
  }
 },
 "nbformat": 4,
 "nbformat_minor": 5
}
