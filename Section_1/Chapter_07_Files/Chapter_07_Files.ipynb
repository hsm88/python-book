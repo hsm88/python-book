{
 "cells": [
  {
   "cell_type": "code",
   "execution_count": null,
   "id": "72a1f80f-56ea-4d27-aa30-e1617950fee4",
   "metadata": {},
   "outputs": [],
   "source": [
    "## Code-7.1\n",
    "f = open(\"BookList.txt\", \"w\")"
   ]
  },
  {
   "cell_type": "code",
   "execution_count": null,
   "id": "c6a6e557-f1f7-4730-9108-5f1d397ee1dc",
   "metadata": {},
   "outputs": [],
   "source": [
    "## Code-7.2\n",
    "f = open(\"D:\\\\MyFiles\\\\BookList.txt\", \"w\")"
   ]
  },
  {
   "cell_type": "code",
   "execution_count": null,
   "id": "fc0f5894-5b15-4602-9091-82c214367958",
   "metadata": {},
   "outputs": [],
   "source": [
    "## Code-7.3\n",
    "f = open(r\"D:\\MyFiles\\BookList.txt\", \"w\")"
   ]
  },
  {
   "cell_type": "code",
   "execution_count": null,
   "id": "1d7aec83-44d1-4999-a5a2-3218860c2fd3",
   "metadata": {},
   "outputs": [],
   "source": [
    "## Code-7.4\n",
    "f = open(r\"D:\\MyFiles\\BookList.txt\", \"w\")\n",
    "f.write(\"Python Tricks\")\n",
    "f.close()"
   ]
  },
  {
   "cell_type": "code",
   "execution_count": null,
   "id": "65416135-c3c7-4a11-a056-807174bfd1e6",
   "metadata": {},
   "outputs": [],
   "source": [
    "## Code-7.5\n",
    "f = open(r\"D:\\MyFiles\\BookList.txt\", \"w\")\n",
    "f.write(\"کار برنامه‌نویسان\")\n",
    "f.close()"
   ]
  },
  {
   "cell_type": "code",
   "execution_count": null,
   "id": "712d3dc7-684a-473e-b072-5e5d33386cbd",
   "metadata": {},
   "outputs": [],
   "source": [
    "## Code-7.6\n",
    "f = open(r\"D:\\MyFiles\\BookList.txt\", \"w\", encoding=\"utf-8\")\n",
    "f.write(\"کار برنامه‌نویسان \")\n",
    "f.close()"
   ]
  },
  {
   "cell_type": "code",
   "execution_count": null,
   "id": "3d095293-b023-4887-ab5e-edd24b7af480",
   "metadata": {},
   "outputs": [],
   "source": [
    "## Code-7.7\n",
    "f = open(r\"D:\\MyFiles\\BookList.txt\", \"a\", encoding=\"utf-8\")\n",
    "f.write(\"\\nکار برنامه‌نویسان\")\n",
    "f.close()"
   ]
  },
  {
   "cell_type": "code",
   "execution_count": null,
   "id": "abdc28ff-b69d-4b04-80ed-d4c981386130",
   "metadata": {},
   "outputs": [],
   "source": [
    "## Code-7.8\n",
    "f = open(r\"D:\\MyFiles\\BookList.txt\", \"r\", encoding=\"utf-8\")\n",
    "print(f.read())\n",
    "f.close()"
   ]
  },
  {
   "cell_type": "code",
   "execution_count": null,
   "id": "7da953ed-da3e-4b36-b71f-83d832ed4860",
   "metadata": {},
   "outputs": [],
   "source": [
    "## Code-7.9\n",
    "f = open(r\"D:\\MyFiles\\BookList.txt\", \"r\", encoding=\"utf-8\")\n",
    "data = f.read()\n",
    "print(type(data))\n",
    "f.close()"
   ]
  },
  {
   "cell_type": "code",
   "execution_count": null,
   "id": "cb68ccfb-3a33-4a7a-b957-4e3d9a9cec1b",
   "metadata": {},
   "outputs": [],
   "source": [
    "## Code-7.10\n",
    "f = open(r\"D:\\MyFiles\\BookList.txt\", \"r\", encoding=\"utf-8\")\n",
    "lines = f.readlines()\n",
    "print(type(lines))\n",
    "f.close()"
   ]
  },
  {
   "cell_type": "code",
   "execution_count": null,
   "id": "c590446c-af8f-4421-aa1b-43b20c14e14f",
   "metadata": {},
   "outputs": [],
   "source": [
    "## Code-7.11\n",
    "for line in lines:\n",
    "    print(line)"
   ]
  },
  {
   "cell_type": "code",
   "execution_count": null,
   "id": "fc3fd691-d00a-4be3-98da-239546c7dcb4",
   "metadata": {},
   "outputs": [],
   "source": [
    "## Code-7.12\n",
    "f = open(r\"D:\\MyFiles\\BookList.txt\", \"r\", encoding=\"utf-8\")\n",
    "print(f\"Line 1: {f.readline()}\")\n",
    "print(f\"Line 2: {f.readline()}\")\n",
    "f.close()"
   ]
  },
  {
   "cell_type": "code",
   "execution_count": null,
   "id": "fe66e627-aa59-47e9-9e2e-dc96cd586d14",
   "metadata": {},
   "outputs": [],
   "source": [
    "## Code-7.13\n",
    "f = open(r\"D:\\MyFiles\\BookList.txt\", \"r\", encoding=\"utf-8\")\n",
    "for line in f:\n",
    "    print(line)\n",
    "f.close()"
   ]
  },
  {
   "cell_type": "code",
   "execution_count": null,
   "id": "e3f19537-77db-4ac1-9497-1e27c4631f0a",
   "metadata": {},
   "outputs": [],
   "source": [
    "## Code-7.14\n",
    "f = open(r\"D:\\MyFiles\\BookList.txt\", \"r\", encoding=\"utf-8\")\n",
    "print(f.read())\n",
    "f.close()"
   ]
  },
  {
   "cell_type": "code",
   "execution_count": null,
   "id": "1cb98a6c-5ba5-4d21-ac75-6ad2eff65aae",
   "metadata": {},
   "outputs": [],
   "source": [
    "## Code-7.15\n",
    "f.close()"
   ]
  },
  {
   "cell_type": "code",
   "execution_count": null,
   "id": "960bb57e-392d-411a-b91e-44285195fc14",
   "metadata": {},
   "outputs": [],
   "source": [
    "## Code-7.16\n",
    "try:\n",
    "    f = open(r\"D:\\MyFiles\\BookList.txt\", \"r\", encoding=\"utf-8\")\n",
    "    print(f.read())\n",
    "\n",
    "finally\n",
    "    f.close()"
   ]
  },
  {
   "cell_type": "code",
   "execution_count": null,
   "id": "24e3e64c-b210-42f7-8b01-32b7f13080b8",
   "metadata": {},
   "outputs": [],
   "source": [
    "## Code-7.17\n",
    "try:\n",
    "    f = open(r\"D:\\MyFiles\\BookList.txt\", \"r\", encoding=\"utf-8\")\n",
    "    print(f.read())\n",
    "\n",
    "except FileNotFoundError:\n",
    "    print(\"فایل وجود ندارد\")\n",
    "\n",
    "finally:\n",
    "    f.close()"
   ]
  },
  {
   "cell_type": "code",
   "execution_count": null,
   "id": "2c268532-043e-4ae3-9b04-65253a02b121",
   "metadata": {},
   "outputs": [],
   "source": [
    "## Code-7.18\n",
    "with open(r\"D:\\MyFiles\\BookList.txt\", \"r\", encoding=\"utf-8\") as f:\n",
    "    print(f.read())"
   ]
  }
 ],
 "metadata": {
  "kernelspec": {
   "display_name": "Python 3 (ipykernel)",
   "language": "python",
   "name": "python3"
  },
  "language_info": {
   "codemirror_mode": {
    "name": "ipython",
    "version": 3
   },
   "file_extension": ".py",
   "mimetype": "text/x-python",
   "name": "python",
   "nbconvert_exporter": "python",
   "pygments_lexer": "ipython3",
   "version": "3.13.5"
  }
 },
 "nbformat": 4,
 "nbformat_minor": 5
}
