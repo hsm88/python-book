{
 "cells": [
  {
   "cell_type": "code",
   "execution_count": null,
   "id": "150a12a8-5112-492c-9960-1a3dbffb1afa",
   "metadata": {},
   "outputs": [],
   "source": [
    "## Code-9.1\n",
    "number = 12"
   ]
  },
  {
   "cell_type": "code",
   "execution_count": null,
   "id": "0acfaee2-dc86-4e4c-b316-df85771c548c",
   "metadata": {},
   "outputs": [],
   "source": [
    "## Code-9.2\n",
    "print(type(number))"
   ]
  },
  {
   "cell_type": "code",
   "execution_count": null,
   "id": "8f05b2da-35b9-47ad-95bf-64b45ba117f4",
   "metadata": {},
   "outputs": [],
   "source": [
    "## Code-9.3\n",
    "model = \"Samand Soren\"\n",
    "color = \"Black\"\n",
    "production_year = 1395\n",
    "vehicle_identification_number = \"SDS53BH00NWX53670\"\n",
    "company = \"IKCO\""
   ]
  },
  {
   "cell_type": "code",
   "execution_count": null,
   "id": "ccbd0901-cf31-46e7-9cfb-5d2b35f7aa1a",
   "metadata": {},
   "outputs": [],
   "source": [
    "## Code-9.4\n",
    "def move():\n",
    "    print(\"Car is moving ...\")\n",
    "    \n",
    "def speed_up():\n",
    "    print(\"Car is speeding up ...\")\n",
    "    \n",
    "def speed_down():\n",
    "    print(\"Car is speeding down ...\")\n",
    "    \n",
    "def brake():\n",
    "    print(\"Car is braking ...\")"
   ]
  },
  {
   "cell_type": "code",
   "execution_count": null,
   "id": "00aa4bf3-abca-4252-9764-b9e5f956fe3e",
   "metadata": {},
   "outputs": [],
   "source": [
    "## Code-9.5\n",
    "model = \"Samand Soren\"\n",
    "color = \"Black\"\n",
    "production_year = 1395\n",
    "vehicle_identification_number = \"SDS53BH00NWX53670\"\n",
    "company = \"IKCO\"\n",
    "\n",
    "def move():\n",
    "    print(\"Car is moving ...\")\n",
    "    \n",
    "def speed_up():\n",
    "    print(\"Car is speeding up ...\")\n",
    "    \n",
    "def speed_down():\n",
    "    print(\"Car is speeding down ...\")\n",
    "    \n",
    "def brake():\n",
    "    print(\"Car is braking ...\")"
   ]
  },
  {
   "cell_type": "code",
   "execution_count": null,
   "id": "c7ceafff-5560-428b-a8a9-23ae22b42262",
   "metadata": {},
   "outputs": [],
   "source": [
    "## Code-9.6\n",
    "model = \"Samand Soren\"\n",
    "color = \"Black\"\n",
    "year = 1395\n",
    "speed = 0\n",
    "\n",
    "def move():\n",
    "    print(\"Car is moving ...\")\n",
    "    \n",
    "def speed_up():\n",
    "    print(\"Car is speeding up ...\")\n",
    "    \n",
    "def speed_down():\n",
    "    print(\"Car is speeding down ...\")\n",
    "    \n",
    "def brake():\n",
    "    print(\"Car is braking ...\")"
   ]
  },
  {
   "cell_type": "code",
   "execution_count": null,
   "id": "5d7b23ba-97f4-4e25-a5a8-24e6e8dec6aa",
   "metadata": {},
   "outputs": [],
   "source": [
    "## Code-9.7\n",
    "class Car:\n",
    "\n",
    "    model = \"Samand Soren\"\n",
    "    color = \"Black\"\n",
    "    year = 1395\n",
    "    speed = 0\n",
    "\n",
    "\n",
    "    def move():\n",
    "        print(\"Car is moving ...\")\n",
    "        \n",
    "    def speed_up():\n",
    "        print(\"Car is speeding up ...\")\n",
    "        \n",
    "    def speed_down():\n",
    "        print(\"Car is speeding down ...\")\n",
    "        \n",
    "    def brake():\n",
    "        print(\"Car is braking ...\")"
   ]
  },
  {
   "cell_type": "code",
   "execution_count": null,
   "id": "a17ac43a-aa3c-4d9a-8256-aab232a5b518",
   "metadata": {},
   "outputs": [],
   "source": [
    "## Code-9.8\n",
    "class Car:\n",
    "\n",
    "    def __init__(self, model, color, year):\n",
    "        self.model = model\n",
    "        self.color = color\n",
    "        self.year = year\n",
    "        self.speed = 0\n",
    "\n",
    "    def move(self):\n",
    "        print(\"Car is moving ...\")\n",
    "        \n",
    "    def speed_up(self):\n",
    "        print(\"Car is speeding up ...\")\n",
    "        \n",
    "    def speed_down(self):\n",
    "        print(\"Car is speeding down ...\")\n",
    "        \n",
    "    def brake(self):\n",
    "        print(\"Car is braking ...\")"
   ]
  },
  {
   "cell_type": "code",
   "execution_count": null,
   "id": "dabbfaab-009c-456d-a41c-5e1da39c0404",
   "metadata": {},
   "outputs": [],
   "source": [
    "## Code-9.9\n",
    "car1 = Car()"
   ]
  },
  {
   "cell_type": "code",
   "execution_count": null,
   "id": "c43a381b-6a55-437f-b11b-c7349325186e",
   "metadata": {},
   "outputs": [],
   "source": [
    "## Code-9.10\n",
    "class Car:\n",
    "\n",
    "    def __init__(self, model, color, year):\n",
    "        self.model = model\n",
    "        self.color = color\n",
    "        self.year = year\n",
    "        self.speed = 0\n",
    "\n",
    "    def move(self):\n",
    "        print(\"Car is moving ...\")\n",
    "        \n",
    "    def speed_up(self):\n",
    "        print(\"Car is speeding up ...\")\n",
    "        \n",
    "    def speed_down(self):\n",
    "        print(\"Car is speeding down ...\")\n",
    "        \n",
    "    def brake(self):\n",
    "        print(\"Car is braking ...\")\n",
    "        \n",
    "\n",
    "car1 = Car(\"Samand Soren\", \"Black\", 1395)"
   ]
  },
  {
   "cell_type": "code",
   "execution_count": null,
   "id": "d647c302-1640-42ff-af9f-ae5344560548",
   "metadata": {},
   "outputs": [],
   "source": [
    "## Code-9.11\n",
    "print(car1.color)"
   ]
  },
  {
   "cell_type": "code",
   "execution_count": null,
   "id": "f6baad17-fcf2-4f75-9dba-fd235bb2d535",
   "metadata": {},
   "outputs": [],
   "source": [
    "## Code-9.12\n",
    "car1.move()\n"
   ]
  },
  {
   "cell_type": "code",
   "execution_count": null,
   "id": "e2b74bdc-435c-42a1-9159-b8ae2e9edc57",
   "metadata": {},
   "outputs": [],
   "source": [
    "## Code-9.13\n",
    "class Car:\n",
    "\n",
    "    def __init__(self, model, color, year):\n",
    "        self.model = model\n",
    "        self.color = color\n",
    "        self.year = year\n",
    "        self.speed = 0\n",
    "\n",
    "    def move(self):\n",
    "        print(\"Car is moving ...\")\n",
    "        \n",
    "    def speed_up(self):\n",
    "        print(\"Car is speeding up ...\")\n",
    "        \n",
    "    def speed_down(self):\n",
    "        print(\"Car is speeding down ...\")\n",
    "        \n",
    "    def brake(self):\n",
    "        print(\"Car is braking ...\")\n",
    "        \n",
    "\n",
    "car1 = Car(\"Samand Soren\", \"Black\", 1395)"
   ]
  },
  {
   "cell_type": "code",
   "execution_count": null,
   "id": "4c4f11a5-3ba5-4c8c-900b-283e2dcea8f6",
   "metadata": {},
   "outputs": [],
   "source": [
    "## Code-9.14\n",
    "class Car:\n",
    "\n",
    "    def __init__(self, model, color, year):\n",
    "        self.model = model\n",
    "        self.color = color\n",
    "        self.year = year\n",
    "        self.speed = 0\n",
    "\n",
    "    def move(self):\n",
    "        print(\"Car is moving ...\")\n",
    "        \n",
    "    def speed_up(self):\n",
    "        print(\"Car is speeding up ...\")\n",
    "        self.speed += 20\n",
    "        \n",
    "    def speed_down(self):\n",
    "        print(\"Car is speeding down ...\")\n",
    "        self.speed -= 20\n",
    "        \n",
    "    def brake(self):\n",
    "        print(\"Car is braking ...\")\n",
    "        self.speed = 0"
   ]
  },
  {
   "cell_type": "code",
   "execution_count": null,
   "id": "2977ae3f-b9ca-4ada-abd8-1d82b83ce1a7",
   "metadata": {},
   "outputs": [],
   "source": [
    "## Code-9.15\n",
    "car1 = Car(\"Samand Soren\", \"Black\", 1395)\n",
    "print(f\"Speed = {car1.speed}\")\n",
    "car1.speed_up()\n",
    "print(f\"Speed = {car1.speed}\")\n",
    "car1.speed_up()\n",
    "print(f\"Speed = {car1.speed}\")\n",
    "car1.speed_down()\n",
    "print(f\"Speed = {car1.speed}\")\n",
    "car1.brake()\n",
    "print(f\"Speed = {car1.speed}\")"
   ]
  },
  {
   "cell_type": "code",
   "execution_count": null,
   "id": "ea12f5a6-5996-4ddf-94a2-0d9dd8763f6e",
   "metadata": {},
   "outputs": [],
   "source": [
    "## Code-9.16\n",
    "class Car:\n",
    "\n",
    "    def __init__(self, model, color, year):\n",
    "        self.model = model\n",
    "        self.color = color\n",
    "        self.year = year\n",
    "        self.speed = 0\n",
    "\n",
    "    def move(self):\n",
    "        print(\"Car is moving ...\")\n",
    "        \n",
    "    def speed_up(self):\n",
    "        print(\"Car is speeding up ...\")\n",
    "        self.speed += 20\n",
    "        \n",
    "    def speed_down(self):\n",
    "        print(\"Car is speeding down ...\")\n",
    "        self.speed -= 20\n",
    "        \n",
    "    def brake(self):\n",
    "        print(\"Car is braking ...\")\n",
    "        self.speed = 0\n",
    "        \n",
    "    def display_car_info(self):\n",
    "        print(f\"Model: {self.model}, Color: {self.color}, Year of Production: {self.year}\")"
   ]
  },
  {
   "cell_type": "code",
   "execution_count": null,
   "id": "718fad91-949d-4dcc-a29d-8905abbeabaa",
   "metadata": {},
   "outputs": [],
   "source": [
    "## Code-9.17\n",
    "car1 = Car(\"Samand Soren\", \"Black\", 1395)\n",
    "car1.display_car_info()"
   ]
  },
  {
   "cell_type": "code",
   "execution_count": null,
   "id": "20129f47-91e5-49c7-804f-35adb359f97d",
   "metadata": {},
   "outputs": [],
   "source": [
    "## Code-9.18\n",
    "car1 = Car(\"Samand Soren\", \"Black\", 1395)\n",
    "car2 = Car(\"Pride\", \"White\", 1400)\n",
    "car1.display_car_info()\n",
    "car2.display_car_info()"
   ]
  },
  {
   "cell_type": "code",
   "execution_count": null,
   "id": "87a78284-b43e-4e91-a0be-a6de1b29fd0d",
   "metadata": {},
   "outputs": [],
   "source": [
    "## Code-9.19\n",
    "class AirplaneSimulator:\n",
    "\n",
    "    def __init__(self, speed, altitude, roll, pitch, yaw):\n",
    "        self.speed = speed\n",
    "        self.altitude = altitude\n",
    "        self.roll = roll\n",
    "        self.pitch = pitch\n",
    "        self.yaw = yaw\n",
    "        \n",
    "    def fly(self):\n",
    "        print(\"Airplane is flying ...\")"
   ]
  },
  {
   "cell_type": "code",
   "execution_count": null,
   "id": "f9210eca-8a9d-43cf-bc2e-0abe8baf56c5",
   "metadata": {},
   "outputs": [],
   "source": [
    "## Code-9.20\n",
    "class AirplaneTicket:\n",
    "\n",
    "    def __init__(self, seats):\n",
    "        self.seats = seats\n",
    "        \n",
    "    def reserve_seat(self, n):\n",
    "        print(f\"{n} seat(s) reserved.\")"
   ]
  },
  {
   "cell_type": "code",
   "execution_count": null,
   "id": "9deab1cd-d3ef-48ab-bce2-cd16512b8324",
   "metadata": {},
   "outputs": [],
   "source": [
    "## Code-9.21\n",
    "class Vehicle:\n",
    "\n",
    "    def __init__(self, model, number_of_wheels, color):\n",
    "        self.model = model\n",
    "        self.number_of_wheels = number_of_wheels\n",
    "        self.color = color\n",
    "        \n",
    "    def get_color(self):\n",
    "        return self.color\n",
    "        \n",
    "    def set_color(self, new_color):\n",
    "        self.color = new_color\n",
    "        \n",
    "    def move(self):\n",
    "        print(f\"{self.model} is moving ...\")\n",
    "        \n",
    "        \n",
    "truck = Vehicle(\"Box Truck\", 6, \"White\")\n",
    "print(f\"Color of truck: {truck.get_color()}\")\n",
    "truck.set_color(\"Black\")\n",
    "print(f\"New color of truck: {truck.get_color()}\")"
   ]
  },
  {
   "cell_type": "code",
   "execution_count": null,
   "id": "7802e337-261b-46ed-a197-171e25119c36",
   "metadata": {},
   "outputs": [],
   "source": [
    "## Code-9.22\n",
    "class Vehicle:\n",
    "\n",
    "    def __init__(self, model, number_of_wheels, color):\n",
    "        self.model = model\n",
    "        self.number_of_wheels = number_of_wheels\n",
    "        self.color = color\n",
    "                \n",
    "    def move(self):\n",
    "        print(f\"{self.model} is moving ...\")\n",
    "        \n",
    "        \n",
    "truck = Vehicle(\"Box Truck\", 6, \"White\")\n",
    "bike = Vehicle(\"Mountain Bicycle\", 2, \"Green\")\n",
    "print(f\"Model of truck: {truck.model}\")\n",
    "print(f\"Model of bike: {bike.model}\")\n",
    "truck.move()\n",
    "bike.move()"
   ]
  },
  {
   "cell_type": "code",
   "execution_count": null,
   "id": "427d1a8c-e9d1-4440-905d-7f38593a82f0",
   "metadata": {},
   "outputs": [],
   "source": [
    "## Code-9.23\n",
    "class Truck(Vehicle):\n",
    "    pass"
   ]
  },
  {
   "cell_type": "code",
   "execution_count": null,
   "id": "24ebf134-326f-4e60-b72d-6143da9fd349",
   "metadata": {},
   "outputs": [],
   "source": [
    "## Code-9.24\n",
    "class Truck(Vehicle):\n",
    "    pass\n",
    "  \n",
    "  \n",
    "truck = Truck(\"Box Truck\", 6, \"White\")\n",
    "print(f\"Model: {truck.model}\")\n",
    "print(f\"Number of Wheels: {truck.number_of_wheels}\")\n",
    "print(f\"Color: {truck.color}\")\n",
    "truck.move()"
   ]
  },
  {
   "cell_type": "code",
   "execution_count": null,
   "id": "9b925fa7-e16c-4314-aec5-44c95068c691",
   "metadata": {},
   "outputs": [],
   "source": [
    "## Code-9.25\n",
    "class Truck(Vehicle):\n",
    "    \n",
    "    def __init__(self, model, number_of_wheels, color, year):\n",
    "        self.model = model\n",
    "        self.number_of_wheels = number_of_wheels\n",
    "        self.color = color\n",
    "        self.year = year\n",
    "  \n",
    "  \n",
    "truck = Truck(\"Box Truck\", 6, \"White\")\n",
    "print(f\"Model: {truck.model}\")\n",
    "print(f\"Number of Wheels: {truck.number_of_wheels}\")\n",
    "print(f\"Color: {truck.color}\")\n",
    "truck.move()"
   ]
  },
  {
   "cell_type": "code",
   "execution_count": null,
   "id": "914a7fb9-7fcc-432e-bf9f-8c9697dae54b",
   "metadata": {},
   "outputs": [],
   "source": [
    "## Code-9.26\n",
    "class Truck(Vehicle):\n",
    "    \n",
    "    def __init__(self, model, number_of_wheels, color, year):\n",
    "        self.model = model\n",
    "        self.number_of_wheels = number_of_wheels\n",
    "        self.color = color\n",
    "        self.year = year\n",
    "  \n",
    "  \n",
    "truck = Truck(\"Box Truck\", 6, \"White\", 2018)\n",
    "print(f\"Model: {truck.model}\")\n",
    "print(f\"Number of Wheels: {truck.number_of_wheels}\")\n",
    "print(f\"Color: {truck.color}\")\n",
    "print(f\"Year of Production: {truck.year}\")\n",
    "truck.move()"
   ]
  },
  {
   "cell_type": "code",
   "execution_count": null,
   "id": "d18b5add-daf6-480a-b953-255bb4629e38",
   "metadata": {},
   "outputs": [],
   "source": [
    "## Code-9.27\n",
    "class Truck(Vehicle):\n",
    "    \n",
    "    def __init__(self, model, number_of_wheels, color, year):\n",
    "        self.model = model\n",
    "        self.number_of_wheels = number_of_wheels\n",
    "        self.color = color\n",
    "        self.year = year\n",
    "        \n",
    "    def add_cargo(self):\n",
    "        print(\"Cargo added to trcuk!\")\n",
    "        \n",
    "    def remove_cargo(self):\n",
    "        print(\"Cargo removed from truck!\")\n",
    "  \n",
    "  \n",
    "truck = Truck(\"Box Truck\", 6, \"White\", 2018)\n",
    "print(f\"Model: {truck.model}\")\n",
    "print(f\"Number of Wheels: {truck.number_of_wheels}\")\n",
    "print(f\"Color: {truck.color}\")\n",
    "print(f\"Year of Production: {truck.year}\")\n",
    "truck.move()\n",
    "truck.add_cargo()\n",
    "truck.remove_cargo()"
   ]
  },
  {
   "cell_type": "code",
   "execution_count": null,
   "id": "524737c0-d50c-43de-82b2-b74868d01bdd",
   "metadata": {},
   "outputs": [],
   "source": [
    "## Code-9.28\n",
    "class Vehicle:\n",
    "\n",
    "    def __init__(self, model, number_of_wheels, color):\n",
    "        self.model = model\n",
    "        self.number_of_wheels = number_of_wheels\n",
    "        self.color = color\n",
    "\n",
    "class Truck(Vehicle):\n",
    "    \n",
    "    def __init__(self, model, number_of_wheels, color, year):\n",
    "        self.model = model\n",
    "        self.number_of_wheels = number_of_wheels\n",
    "        self.color = color\n",
    "        self.year = year"
   ]
  },
  {
   "cell_type": "code",
   "execution_count": null,
   "id": "22bed3c1-f8e1-49f9-943c-6a1673f85c5f",
   "metadata": {},
   "outputs": [],
   "source": [
    "## Code-9.29\n",
    "class Vehicle:\n",
    "\n",
    "    def __init__(self, model, number_of_wheels, color):\n",
    "        self.model = model\n",
    "        self.number_of_wheels = number_of_wheels\n",
    "        self.color = color\n",
    "\n",
    "class Truck(Vehicle):\n",
    "    \n",
    "    def __init__(self, model, number_of_wheels, color, year):\n",
    "        Vehicle.__init__(self, model, number_of_wheels, color)\n",
    "        self.year = year"
   ]
  },
  {
   "cell_type": "code",
   "execution_count": null,
   "id": "aa2f6828-2bb7-42b8-aa8e-2f28fc325b6e",
   "metadata": {},
   "outputs": [],
   "source": [
    "## Code-9.30\n",
    "truck = Truck(\"Box Truck\", 6, \"White\", 2018)\n",
    "print(f\"Number of wheels: {truck.number_of_wheels}\")"
   ]
  },
  {
   "cell_type": "code",
   "execution_count": null,
   "id": "9ef8d909-4009-4a6b-abe6-50aefbda8de0",
   "metadata": {},
   "outputs": [],
   "source": [
    "## Code-9.31\n",
    "class Vehicle:\n",
    "\n",
    "    def __init__(self, model, number_of_wheels, color):\n",
    "        self.model = model\n",
    "        self.number_of_wheels = number_of_wheels\n",
    "        self.color = color\n",
    "\n",
    "class Truck(Vehicle):\n",
    "    \n",
    "    def __init__(self, model, number_of_wheels, color, year):\n",
    "        super().__init__(model, number_of_wheels, color)\n",
    "        self.year = year\n",
    "        \n",
    "\n",
    "truck = Truck(\"Box Truck\", 6, \"White\", 2018)\n",
    "print(f\"Number of Wheels: {truck.number_of_wheels}\")"
   ]
  },
  {
   "cell_type": "code",
   "execution_count": null,
   "id": "55463ad6-3aa0-4d26-9df8-6d250f59c30a",
   "metadata": {},
   "outputs": [],
   "source": [
    "## Code-9.32\n",
    "class Parent1:\n",
    "    pass\n",
    "    \n",
    "class Parent2:\n",
    "    pass\n",
    "    \n",
    "class Child(Parent1, Parent2):\n",
    "    pass"
   ]
  },
  {
   "cell_type": "code",
   "execution_count": null,
   "id": "e3731c95-fd05-497c-8e0a-c896e99c937a",
   "metadata": {},
   "outputs": [],
   "source": [
    "## Code-9.33\n",
    "message = \"Python\"\n",
    "print(len(message))"
   ]
  },
  {
   "cell_type": "code",
   "execution_count": null,
   "id": "0c692d40-7484-4afc-9648-d7854d52e62f",
   "metadata": {},
   "outputs": [],
   "source": [
    "## Code-9.34\n",
    "numbers = [1, 2, 3, 4]\n",
    "print(len(numbers))"
   ]
  },
  {
   "cell_type": "code",
   "execution_count": null,
   "id": "6277020d-8fd3-482b-b8d0-3e7224f5f7e2",
   "metadata": {},
   "outputs": [],
   "source": [
    "## Code-9.35\n",
    "print(1)\n",
    "print(1, \"Ali\", True)"
   ]
  },
  {
   "cell_type": "code",
   "execution_count": null,
   "id": "2b8be6ba-7aa6-42e4-bae7-cae9f32ed201",
   "metadata": {},
   "outputs": [],
   "source": [
    "## Code-9.36\n",
    "class Vehicle:\n",
    "\n",
    "    def __init__(self, model, number_of_wheels, color):\n",
    "        self.model = model\n",
    "        self.number_of_wheels = number_of_wheels\n",
    "        self.color = color\n",
    "        \n",
    "    def move(self):\n",
    "        print(\"Vehicle is moving ...\")\n",
    "\n",
    "\n",
    "class Truck(Vehicle):\n",
    "    \n",
    "    def move(self):\n",
    "        print(\"Truck is moving ...\")\n",
    "        \n",
    "        \n",
    "class Bike(Vehicle):\n",
    "    \n",
    "    def move(self):\n",
    "        print(\"Bike is moving ...\")\n",
    "        \n",
    "\n",
    "truck = Truck(\"Box Truck\", 6, \"White\")\n",
    "bike = Bike(\"Mountain Bicycle\", 2, \"Green\")\n",
    "truck.move()\n",
    "bike.move()"
   ]
  },
  {
   "cell_type": "code",
   "execution_count": null,
   "id": "26dbc295-724e-452a-a273-c10b86803b71",
   "metadata": {},
   "outputs": [],
   "source": [
    "## Code-9.37\n",
    "class Car:\n",
    "    \"\"\" This class is a model of a Car \"\"\"\n",
    "\n",
    "    def __init__(self, model, color, year):\n",
    "        self.model = model\n",
    "        self.color = color\n",
    "        self.year = year\n",
    "        self.speed = 0\n",
    "\n",
    "    def move(self):\n",
    "        \"\"\" This method is for action of movement of a car \"\"\"\n",
    "        \n",
    "        print(\"Car is moving ...\")\n",
    "        \n",
    "    def speed_up(self):\n",
    "        print(\"Car is speeding up ...\")\n",
    "        self.speed += 20\n",
    "        \n",
    "    def speed_down(self):\n",
    "        print(\"Car is speeding down ...\")\n",
    "        self.speed -= 20\n",
    "        \n",
    "    def brake(self):\n",
    "        print(\"Car is braking ...\")\n",
    "        self.speed = 0\n",
    "        \n",
    "\n",
    "print(Car.__doc__)\n",
    "car1 = Car(\"Samand Soren\", \"Black\", 1395)\n",
    "print(car1.move.__doc__)"
   ]
  },
  {
   "cell_type": "code",
   "execution_count": null,
   "id": "9b48c66b-d857-4f0c-8089-e17014a64086",
   "metadata": {},
   "outputs": [],
   "source": [
    "## Code-9.38\n",
    "class Car:\n",
    "    pass"
   ]
  },
  {
   "cell_type": "code",
   "execution_count": null,
   "id": "11d0c3e7-4a62-4365-8347-d036a2e61805",
   "metadata": {},
   "outputs": [],
   "source": [
    "## Code-9.39\n",
    "class Thing:\n",
    "\n",
    "    def __init__(self, x, y):\n",
    "        self.x = x\n",
    "        self.y = y\n",
    "        \n",
    "    \n",
    "a = Thing(1, 3)\n",
    "b = a\n",
    "print(f\"x of b: {b.x}, y of b: {b.y}\")"
   ]
  },
  {
   "cell_type": "code",
   "execution_count": null,
   "id": "e7a97c9a-9b21-485f-9012-390c891deb33",
   "metadata": {},
   "outputs": [],
   "source": [
    "## Code-9.40\n",
    "b.x = 7\n",
    "print(f\"x of a: {a.x}, y of a: {a.y}\")"
   ]
  },
  {
   "cell_type": "code",
   "execution_count": null,
   "id": "dab8fe7b-fbf6-44b1-83b0-1f8c1fc0a829",
   "metadata": {},
   "outputs": [],
   "source": [
    "## Code-9.41\n",
    "list1 = [1, 2, 3, 4]\n",
    "list2 = list1\n",
    "print(f\"List2: {list2}\")\n",
    "\n",
    "list2[0] = 50\n",
    "print(f\"List1: {list1}\")"
   ]
  },
  {
   "cell_type": "code",
   "execution_count": null,
   "id": "8122d07f-0631-4541-aefb-ced8a1aac08d",
   "metadata": {},
   "outputs": [],
   "source": [
    "## Code-9.42\n",
    "import copy\n",
    "\n",
    "list1 = [[1, 2, 3], [4, 5, 6], [7, 8, 9]]\n",
    "list2 = copy.copy(list1)\n",
    "print(f\"List2: {list2}\")\n",
    "\n",
    "list2.append(50)\n",
    "print(f\"List1: {list1}\")\n",
    "print(f\"List2: {list2}\")"
   ]
  },
  {
   "cell_type": "code",
   "execution_count": null,
   "id": "34f15dcf-869f-4fc6-8776-27022dc2d4f5",
   "metadata": {},
   "outputs": [],
   "source": [
    "## Code-9.43\n",
    "import copy\n",
    "\n",
    "list1 = [[1, 2, 3], [4, 5, 6], [7, 8, 9]]\n",
    "list2 = copy.copy(list1)\n",
    "print(f\"List2: {list2}\")\n",
    "\n",
    "list2[0][1] = 50\n",
    "print(f\"List1: {list1}\")\n",
    "print(f\"List2: {list2}\")"
   ]
  },
  {
   "cell_type": "code",
   "execution_count": null,
   "id": "56596b4e-b2fc-42df-b70c-2588c8bc65cf",
   "metadata": {},
   "outputs": [],
   "source": [
    "## Code-9.44\n",
    "import copy\n",
    "\n",
    "list1 = [[1, 2, 3], [4, 5, 6], [7, 8, 9]]\n",
    "list2 = copy.deepcopy(list1)\n",
    "print(f\"List2: {list2}\")\n",
    "\n",
    "list2[0][1] = 50\n",
    "print(f\"List1: {list1}\")\n",
    "print(f\"List2: {list2}\")"
   ]
  },
  {
   "cell_type": "code",
   "execution_count": null,
   "id": "92eba7f5-a076-4929-ab14-13d0ad50d71a",
   "metadata": {},
   "outputs": [],
   "source": [
    "## Code-9.45\n",
    "list1 = [1, 2, 3]\n",
    "list2 = list1"
   ]
  },
  {
   "cell_type": "code",
   "execution_count": null,
   "id": "fff47a84-1209-4d4a-82f9-d2cca2cd6059",
   "metadata": {},
   "outputs": [],
   "source": [
    "## Code-9.46\n",
    "print(list1 == list2)"
   ]
  },
  {
   "cell_type": "code",
   "execution_count": null,
   "id": "0f1c266b-6229-41fc-8f91-7f8cc41d6814",
   "metadata": {},
   "outputs": [],
   "source": [
    "## Code-9.47\n",
    "print(list1 is list2)"
   ]
  },
  {
   "cell_type": "code",
   "execution_count": null,
   "id": "8e9646c2-3c22-47ac-a194-aecbe64a8494",
   "metadata": {},
   "outputs": [],
   "source": [
    "## Code-9.48\n",
    "import copy\n",
    "\n",
    "list1 = [1, 2, 3]\n",
    "list3 = copy.copy(list1)"
   ]
  },
  {
   "cell_type": "code",
   "execution_count": null,
   "id": "7aa76d83-9aad-4140-98a1-b3df12ac78d4",
   "metadata": {},
   "outputs": [],
   "source": [
    "## Code-9.49\n",
    "print(list1 == list3)"
   ]
  },
  {
   "cell_type": "code",
   "execution_count": null,
   "id": "9ecb1482-d3f8-4093-ad5a-14a9425c5db9",
   "metadata": {},
   "outputs": [],
   "source": [
    "## Code-9.50\n",
    "print(list1 is list3)"
   ]
  },
  {
   "cell_type": "code",
   "execution_count": null,
   "id": "a4a8e927-5c17-4038-9066-c573598662d0",
   "metadata": {},
   "outputs": [],
   "source": [
    "## Code-9.51\n",
    "class Car:\n",
    "\n",
    "    def __init__(self, model, color, year):\n",
    "        self.model = model\n",
    "        self.color = color\n",
    "        self.year = year\n",
    "        self.speed = 0\n",
    "\n",
    "    def move(self):\n",
    "        print(\"Car is moving ...\")\n",
    "        \n",
    "    def speed_up(self):\n",
    "        print(\"Car is speeding up ...\")\n",
    "        self.speed += 20\n",
    "        \n",
    "    def speed_down(self):\n",
    "        print(\"Car is speeding down ...\")\n",
    "        self.speed -= 20\n",
    "        \n",
    "    def brake(self):\n",
    "        print(\"Car is braking ...\")\n",
    "        self.speed = 0\n",
    "        \n",
    "    def display_car_info(self):\n",
    "        print(f\"Model: {self.model}, Color: {self.color}, Year of Production: {self.year}\")\n",
    "\n",
    "\n",
    "car1 = Car(\"Samand Soren\", \"Black\", 1395)\n",
    "print(car1)"
   ]
  },
  {
   "cell_type": "code",
   "execution_count": null,
   "id": "0a08c2d9-f8e3-4ba2-ad2e-91e31a2a0dc5",
   "metadata": {},
   "outputs": [],
   "source": [
    "## Code-9.52\n",
    "class Car:\n",
    "\n",
    "    def __init__(self, model, color, year):\n",
    "        self.model = model\n",
    "        self.color = color\n",
    "        self.year = year\n",
    "        self.speed = 0\n",
    "\n",
    "    def move(self):\n",
    "        print(\"Car is moving ...\")\n",
    "        \n",
    "    def speed_up(self):\n",
    "        print(\"Car is speeding up ...\")\n",
    "        self.speed += 20\n",
    "        \n",
    "    def speed_down(self):\n",
    "        print(\"Car is speeding down ...\")\n",
    "        self.speed -= 20\n",
    "        \n",
    "    def brake(self):\n",
    "        print(\"Car is braking ...\")\n",
    "        self.speed = 0\n",
    "        \n",
    "    def display_car_info(self):\n",
    "        print(f\"Model: {self.model}, Color: {self.color}, Year of Production: {self.year}\")\n",
    "        \n",
    "    def __str__(self):\n",
    "        return f\"Model: {self.model}, Color: {self.color}, Year of Production: {self.year}\"\n",
    "        \n",
    "\n",
    "car1 = Car(\"Samand Soren\", \"Black\", 1395)\n",
    "print(car1)"
   ]
  },
  {
   "cell_type": "code",
   "execution_count": null,
   "id": "73d80fdc-bf39-4447-b345-588aa3728681",
   "metadata": {},
   "outputs": [],
   "source": [
    "## Code-9.53\n",
    "car1 = Car(\"Samand Soren\", \"Black\", 1395)\n",
    "print(car1.__dir__())"
   ]
  },
  {
   "cell_type": "code",
   "execution_count": null,
   "id": "6a370bfd-3c3b-4050-a0cf-f15d7a350396",
   "metadata": {},
   "outputs": [],
   "source": [
    "## Code-9.54\n",
    "car1 = Car(\"Samand Soren\", \"Black\", 1395)\n",
    "print(str(car1))\n",
    "print(dir(car1))"
   ]
  }
 ],
 "metadata": {
  "kernelspec": {
   "display_name": "Python 3 (ipykernel)",
   "language": "python",
   "name": "python3"
  },
  "language_info": {
   "codemirror_mode": {
    "name": "ipython",
    "version": 3
   },
   "file_extension": ".py",
   "mimetype": "text/x-python",
   "name": "python",
   "nbconvert_exporter": "python",
   "pygments_lexer": "ipython3",
   "version": "3.13.5"
  }
 },
 "nbformat": 4,
 "nbformat_minor": 5
}
