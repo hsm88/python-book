{
 "cells": [
  {
   "cell_type": "code",
   "execution_count": null,
   "id": "69fd71ae-72ff-426f-be6f-014e4108c6f3",
   "metadata": {},
   "outputs": [],
   "source": [
    "## Code-8.1\n",
    "number$1 = 34"
   ]
  },
  {
   "cell_type": "code",
   "execution_count": null,
   "id": "8a188e54-ad75-400c-920b-8efaca9c7e71",
   "metadata": {},
   "outputs": [],
   "source": [
    "## Code-8.2\n",
    "number = 12\n",
    "if number % 2 == 0\n",
    "    print(\"زوج است\")"
   ]
  },
  {
   "cell_type": "code",
   "execution_count": null,
   "id": "7f2177a3-fb20-4662-8584-5cad32bca5f9",
   "metadata": {},
   "outputs": [],
   "source": [
    "## Code-8.3\n",
    "number = 12\n",
    "if number % 2 == 0:\n",
    "    print(\"زوج است\")\n",
    "els:\n",
    "    print(\"فرد است\")"
   ]
  },
  {
   "cell_type": "code",
   "execution_count": null,
   "id": "02863e60-a592-45e5-a768-c006adeef9b1",
   "metadata": {},
   "outputs": [],
   "source": [
    "## Code-8.4    \n",
    "x = 10\n",
    "y = 0 \n",
    "z = x / y"
   ]
  },
  {
   "cell_type": "code",
   "execution_count": null,
   "id": "e569fdb2-7215-4290-830f-29c273e2dc3f",
   "metadata": {},
   "outputs": [],
   "source": [
    "## Code-9.5\n",
    "f = open(\"file.txt\", \"r\")"
   ]
  },
  {
   "cell_type": "code",
   "execution_count": null,
   "id": "c46c1cbb-394b-473b-ab63-77c032f63331",
   "metadata": {},
   "outputs": [],
   "source": [
    "## Code-8.6\n",
    "def sum(a, b):\n",
    "    return a * b"
   ]
  },
  {
   "cell_type": "code",
   "execution_count": null,
   "id": "19c9f375-6562-487d-8218-a82d91c116c3",
   "metadata": {},
   "outputs": [],
   "source": [
    "## Code-8.7    \n",
    "x = 10\n",
    "y = 0 \n",
    "z = x / y"
   ]
  },
  {
   "cell_type": "code",
   "execution_count": null,
   "id": "4f4a2d2d-6982-4ae9-83e2-5e2f8a06238e",
   "metadata": {},
   "outputs": [],
   "source": [
    "## Code-8.8\n",
    "x = 10\n",
    "y = 0 \n",
    "\n",
    "try:\n",
    "    z = x / y\n",
    "\n",
    "except:\n",
    "    print(\"خطایی رخ داده است\")"
   ]
  },
  {
   "cell_type": "code",
   "execution_count": null,
   "id": "4ebfb597-3ec0-47a0-9b9e-39a8cde10693",
   "metadata": {},
   "outputs": [],
   "source": [
    "## Code-8.9\n",
    "x = 10\n",
    "y = 0 \n",
    "\n",
    "try:\n",
    "    z = x / y\n",
    "    f = open(\"file.txt\", \"r\")\n",
    "\n",
    "except:\n",
    "    print(\"خطایی رخ داده است\")"
   ]
  },
  {
   "cell_type": "code",
   "execution_count": null,
   "id": "a54ceeae-42e5-4d47-9e5a-b12f65d7fcda",
   "metadata": {},
   "outputs": [],
   "source": [
    "## Code-8.10\n",
    "x = 10\n",
    "y = 0 \n",
    "\n",
    "try:\n",
    "    z = x / y\n",
    "    f = open(\"file.txt\", \"r\")\n",
    "    \n",
    "except ZeroDivisionError:\n",
    "    print(\"خطای تقسیم بر صفر رخ داده است\")\n",
    "\n",
    "except FileNotFoundError:\n",
    "    print(\"فایل مورد نظر وجود ندارد\")"
   ]
  },
  {
   "cell_type": "code",
   "execution_count": null,
   "id": "1f1e94b8-4871-457d-af48-76e9c837a173",
   "metadata": {},
   "outputs": [],
   "source": [
    "## Code-8.11\n",
    "try:\n",
    "    f = open(\"file.txt\", \"r\")\n",
    "    # ادامه عملیات با فایل\n",
    "    \n",
    "except:\n",
    "    print(\"خطایی در خواندن یاعملیات با فایل رخ داده است\")\n",
    "    \n",
    "finally:\n",
    "    f.close()"
   ]
  },
  {
   "cell_type": "code",
   "execution_count": null,
   "id": "9ab52ae9-3cf3-4593-8651-f1e229c69a28",
   "metadata": {},
   "outputs": [],
   "source": [
    "## Code-8.12\n",
    "x = 10\n",
    "y = 0 \n",
    "\n",
    "try:\n",
    "    z = x / y\n",
    "    \n",
    "except:\n",
    "    print(\"خطایی رخ داده است\")\n",
    "\n",
    "else:\n",
    "    print(\"خطایی رخ نداده است\")"
   ]
  },
  {
   "cell_type": "code",
   "execution_count": null,
   "id": "9dd8f521-1b8e-4a7e-b27d-b5efb26f1ce2",
   "metadata": {},
   "outputs": [],
   "source": [
    "## Code-8.13\n",
    "x = 10\n",
    "y = 5 \n",
    "\n",
    "try:\n",
    "    z = x / y\n",
    "    \n",
    "except:\n",
    "    print(\"خطایی رخ داده است\")\n",
    "\n",
    "else:\n",
    "    print(\"خطایی رخ نداده است\")"
   ]
  },
  {
   "cell_type": "code",
   "execution_count": null,
   "id": "058e20f5-2cdc-4307-a699-93738f3fae35",
   "metadata": {},
   "outputs": [],
   "source": [
    "## Code-8.14\n",
    "number = 10\n",
    "assert number > 0\n",
    "print(\"مثبت است number\")"
   ]
  },
  {
   "cell_type": "code",
   "execution_count": null,
   "id": "e29bb93b-9dc5-4f17-bde7-56040b27684a",
   "metadata": {},
   "outputs": [],
   "source": [
    "## Code-8.15\n",
    "number = -5\n",
    "assert number > 0\n",
    "print(\"مثبت است number\")"
   ]
  },
  {
   "cell_type": "code",
   "execution_count": null,
   "id": "0a18c823-084d-4998-b17a-1904dad66230",
   "metadata": {},
   "outputs": [],
   "source": [
    "## Code-8.16\n",
    "def divide(a, b):\n",
    "    assert b != 0, \"خطای تقسیم بر صفر\"\n",
    "    return a / b\n",
    "    \n",
    "print(divide(5, 2))\n",
    "print(divide(5, 0))"
   ]
  },
  {
   "cell_type": "code",
   "execution_count": null,
   "id": "b514fae3-4718-4445-b3d0-99869d40d54e",
   "metadata": {},
   "outputs": [],
   "source": [
    "## Code-8.17\n",
    "def square(n):\n",
    "    if not isinstance(n, int):\n",
    "        raise TypeError(\"مقدار ورودی، عدد صحیح نیست\")\n",
    "\n",
    "    return n ** 2\n",
    "    \n",
    "print(square(5))\n",
    "print(square(\"5\"))"
   ]
  }
 ],
 "metadata": {
  "kernelspec": {
   "display_name": "Python 3 (ipykernel)",
   "language": "python",
   "name": "python3"
  },
  "language_info": {
   "codemirror_mode": {
    "name": "ipython",
    "version": 3
   },
   "file_extension": ".py",
   "mimetype": "text/x-python",
   "name": "python",
   "nbconvert_exporter": "python",
   "pygments_lexer": "ipython3",
   "version": "3.13.5"
  }
 },
 "nbformat": 4,
 "nbformat_minor": 5
}
