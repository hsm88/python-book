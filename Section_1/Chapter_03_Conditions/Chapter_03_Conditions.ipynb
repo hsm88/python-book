{
 "cells": [
  {
   "cell_type": "code",
   "execution_count": null,
   "id": "9e5a03d9-79dc-4e21-95fe-f3eda6d0e133",
   "metadata": {},
   "outputs": [],
   "source": [
    "## Code-3.1\n",
    "if temperature < 0:\n",
    "    print(\"لباس گرم می‌پوشم\")"
   ]
  },
  {
   "cell_type": "code",
   "execution_count": null,
   "id": "3ee82d91-d471-4b09-a43e-f076fcb1deb3",
   "metadata": {},
   "outputs": [],
   "source": [
    "## Code-3.2\n",
    "print(1 == 1)"
   ]
  },
  {
   "cell_type": "code",
   "execution_count": null,
   "id": "c35a9760-5b78-4c28-93c2-21c736bc700d",
   "metadata": {},
   "outputs": [],
   "source": [
    "## Code-3.3\n",
    "print(1 != 1)"
   ]
  },
  {
   "cell_type": "code",
   "execution_count": null,
   "id": "f778090d-21bc-40c3-8427-3fd1ed87a3b0",
   "metadata": {},
   "outputs": [],
   "source": [
    "## Code-3.4\n",
    "apples = 2\n",
    "oranges = 3"
   ]
  },
  {
   "cell_type": "code",
   "execution_count": null,
   "id": "f5f8e344-bd1f-4dbc-8da0-266ea486bc10",
   "metadata": {},
   "outputs": [],
   "source": [
    "## Code-3.5\n",
    "print(1 == \"1\")"
   ]
  },
  {
   "cell_type": "code",
   "execution_count": null,
   "id": "611be672-2d36-4d35-933f-730a7b7a7b0a",
   "metadata": {},
   "outputs": [],
   "source": [
    "## Code-3.6\n",
    "if temperature < 0:\n",
    "    print(\"هوا سرد و یخبندان است\")\n",
    "      print(\"لباس گرم می‌پوشم\")"
   ]
  },
  {
   "cell_type": "code",
   "execution_count": null,
   "id": "489a26ce-a0e9-4a32-bc5b-6af03835239d",
   "metadata": {},
   "outputs": [],
   "source": [
    "## Code-3.7\n",
    "number = 234\n",
    "print(number % 2 == 0)"
   ]
  },
  {
   "cell_type": "code",
   "execution_count": null,
   "id": "1fc71810-0acb-4d0c-a3f9-7b616f973505",
   "metadata": {},
   "outputs": [],
   "source": [
    "## Code-3.8\n",
    "number = 234\n",
    "condition = (number % 2 == 0) and (number % 3 == 0)\n",
    "print(condition)"
   ]
  },
  {
   "cell_type": "code",
   "execution_count": null,
   "id": "ada7f003-9fea-49cd-a561-7c38a66378a9",
   "metadata": {},
   "outputs": [],
   "source": [
    "## Code-3.9\n",
    "number = 234\n",
    "condition = (number % 2 == 0) or (number % 3 == 0)\n",
    "print(condition)"
   ]
  },
  {
   "cell_type": "code",
   "execution_count": null,
   "id": "accfbe4c-ccad-4526-879a-2de9253d8257",
   "metadata": {},
   "outputs": [],
   "source": [
    "## Code-3.10\n",
    "value = True\n",
    "print(not value)"
   ]
  },
  {
   "cell_type": "code",
   "execution_count": null,
   "id": "6600c9ec-ab2f-49df-b9df-74d2a6869d0f",
   "metadata": {},
   "outputs": [],
   "source": [
    "## Code-3.11\n",
    "number = int(input(\"Enter a number: \"))\n",
    "if ((number % 2 == 0) and (number % 3 == 0)) and not (number <= 0):\n",
    "    print(f\"{number} is divisible by 6\")"
   ]
  },
  {
   "cell_type": "code",
   "execution_count": null,
   "id": "7b095ec3-f125-4cd7-900f-1b1e2a8527a9",
   "metadata": {},
   "outputs": [],
   "source": [
    "## Code-3.12\n",
    "number = 9\n",
    "condition = (number % 2 == 0) and (number % 3 == 0)\n",
    "print(condition)"
   ]
  },
  {
   "cell_type": "code",
   "execution_count": null,
   "id": "731bd9cd-6414-4aa5-8038-2954e4a4c3d6",
   "metadata": {},
   "outputs": [],
   "source": [
    "## Code-3.13\n",
    "number >= -5 and number < 10"
   ]
  },
  {
   "cell_type": "code",
   "execution_count": null,
   "id": "941af75e-e39b-48a9-b56d-363ac04092a6",
   "metadata": {},
   "outputs": [],
   "source": [
    "## Code-3.14\n",
    "-5 <= number < 10"
   ]
  },
  {
   "cell_type": "code",
   "execution_count": null,
   "id": "f7201088-6517-4e05-a300-d5f7c2de4dc2",
   "metadata": {},
   "outputs": [],
   "source": [
    "## Code-3.15\n",
    "number = int(input(\"Enter a number: \"))\n",
    "message = \"\"\n",
    "if number % 2 == 0:\n",
    "    message = \"زوج است\"\n",
    "print(message)"
   ]
  },
  {
   "cell_type": "code",
   "execution_count": null,
   "id": "0e1498b6-623d-4b75-9d7e-c59a5e3b99a5",
   "metadata": {},
   "outputs": [],
   "source": [
    "## Code-3.16\n",
    "number = int(input(\"Enter a number: \"))\n",
    "if number % 2 == 0: print(\"زوج است\")"
   ]
  },
  {
   "cell_type": "code",
   "execution_count": null,
   "id": "ae477d39-0954-42e8-b588-8f641be9a181",
   "metadata": {},
   "outputs": [],
   "source": [
    "## Code-3.17\n",
    "number = int(input(\"Enter a number: \"))\n",
    "message = \"\"\n",
    "if number % 2 == 0:\n",
    "    message = \"زوج است\"\n",
    "else:\n",
    "    message = \"فرد است\"\n",
    "print(message)"
   ]
  },
  {
   "cell_type": "code",
   "execution_count": null,
   "id": "631206f0-c4e0-443c-9955-a2f898a7e480",
   "metadata": {},
   "outputs": [],
   "source": [
    "## Code-3.18\n",
    "number = int(input(\"Enter a number: \"))\n",
    "message = \"\"\n",
    "if number % 2 == 0:\n",
    "    message = \"زوج است\"\n",
    "if number % 2 != 0:\n",
    "    message = \"فرد است\"\n",
    "print(message)"
   ]
  },
  {
   "cell_type": "code",
   "execution_count": null,
   "id": "e6024014-be3d-42c7-8b8b-f625bc89b749",
   "metadata": {},
   "outputs": [],
   "source": [
    "## Code-3.19\n",
    "number = int(input(\"Enter a number: \"))\n",
    "message = \"زوج است\" if number % 2 == 0 else \"فرد است\"\n",
    "print(message)"
   ]
  },
  {
   "cell_type": "code",
   "execution_count": null,
   "id": "15a0a881-e2e3-4b9b-876b-41b5e3a5f4ea",
   "metadata": {},
   "outputs": [],
   "source": [
    "## Code-3.20\n",
    "temperature = 18\n",
    "if temperature <= -20:\n",
    "    print(\"It's Cold\")\n",
    "elif -20 < temperature <= 10:\n",
    "    print(\"It's Cool\")\n",
    "elif 10 < temperature <= 25:\n",
    "    print(\"It's Comfort\")\n",
    "elif 25 < temperature <= 35:\n",
    "    print(\"It's Warm\")\n",
    "else:\n",
    "    print(\"It's Hot\")"
   ]
  },
  {
   "cell_type": "code",
   "execution_count": null,
   "id": "c0805310-b5dd-4cb3-ab26-372c34b32587",
   "metadata": {},
   "outputs": [],
   "source": [
    "## Code-3.21\n",
    "fruits = {\"apple\": 10, \"banana\": 4, \"kiwi\": 7}"
   ]
  },
  {
   "cell_type": "code",
   "execution_count": null,
   "id": "44608116-cb21-44f8-a67d-7187fdb8aa3c",
   "metadata": {},
   "outputs": [],
   "source": [
    "## Code-3.22\n",
    "fruits = {\"apple\": 10, \"banana\": 4, \"kiwi\": 7}\n",
    "number_of_oranges = fruits.get(\"orange\", 0)\n",
    "print(number_of_oranges)"
   ]
  },
  {
   "cell_type": "code",
   "execution_count": null,
   "id": "e764a300-ce5d-46ce-a06d-d3c7ad8a2aae",
   "metadata": {},
   "outputs": [],
   "source": [
    "## Code-3.23\n",
    "fruits = {\"apple\": 10, \"banana\": 4, \"kiwi\": 7}\n",
    "\n",
    "number_of_oranges = fruits.get(\"orange\", 0)\n",
    "if number_of_oranges:\n",
    "    print(f\"Number of Oranges: {number_of_oranges}\")\n",
    "else:\n",
    "    print(\"Sorry!\")"
   ]
  },
  {
   "cell_type": "code",
   "execution_count": null,
   "id": "f31e0e1d-2c93-4b7f-b028-2931a1bf8c38",
   "metadata": {},
   "outputs": [],
   "source": [
    "## Code-3.24\n",
    "fruits = {\"apple\": 10, \"banana\": 4, \"kiwi\": 7}\n",
    "\n",
    "if number_of_oranges := fruits.get(\"orange\", 0):\n",
    "    print(f\"Number of Oranges: {number_of_oranges}\")\n",
    "else:\n",
    "    print(\"Sorry!\")"
   ]
  },
  {
   "cell_type": "code",
   "execution_count": null,
   "id": "177d0086-9e4f-4a40-9ea2-67cafa549a17",
   "metadata": {},
   "outputs": [],
   "source": [
    "## Code-3.25\n",
    "number = int(input(\"Enter a number: \"))\n",
    "if number % 2 == 0:\n",
    "    if number % 3 == 0:\n",
    "        print(f\"{number} is divisible by 6\")"
   ]
  },
  {
   "cell_type": "code",
   "execution_count": null,
   "id": "7f990281-66f6-4aa7-a32b-d2c15ab6097f",
   "metadata": {},
   "outputs": [],
   "source": [
    "## Code-4.26\n",
    "number = int(input(\"Enter a number: \"))\n",
    "if number % 2 == 0 and number % 3 == 0:\n",
    "        print(f\"{number} is divisible by 6\")"
   ]
  }
 ],
 "metadata": {
  "kernelspec": {
   "display_name": "Python 3 (ipykernel)",
   "language": "python",
   "name": "python3"
  },
  "language_info": {
   "codemirror_mode": {
    "name": "ipython",
    "version": 3
   },
   "file_extension": ".py",
   "mimetype": "text/x-python",
   "name": "python",
   "nbconvert_exporter": "python",
   "pygments_lexer": "ipython3",
   "version": "3.13.5"
  }
 },
 "nbformat": 4,
 "nbformat_minor": 5
}
