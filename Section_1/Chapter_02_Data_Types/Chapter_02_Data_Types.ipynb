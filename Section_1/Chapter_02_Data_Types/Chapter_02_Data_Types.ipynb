{
 "cells": [
  {
   "cell_type": "code",
   "execution_count": null,
   "id": "ee84f609-833f-4ae5-9dd9-31283f80b935",
   "metadata": {},
   "outputs": [],
   "source": [
    "## Code-2.1\n",
    "a = 23\n",
    "print(a)"
   ]
  },
  {
   "cell_type": "code",
   "execution_count": null,
   "id": "085eb211-88c7-4be9-b7d0-fa56dfe25f8b",
   "metadata": {},
   "outputs": [],
   "source": [
    "## Code-2.2\n",
    "# این خط، تنها یک توضیح است و پایتون آن را اجرا نمی‌کند"
   ]
  },
  {
   "cell_type": "code",
   "execution_count": null,
   "id": "49ee6e6e-3bf5-4da6-a767-450ccdfe9923",
   "metadata": {},
   "outputs": [],
   "source": [
    "## Code-2.3\n",
    "# خط اول توضیحات\n",
    "# خط دوم توضیحات\n",
    "# خط سوم توضیحات"
   ]
  },
  {
   "cell_type": "code",
   "execution_count": null,
   "id": "77374c56-62fd-4331-85a8-6e3b7228aa77",
   "metadata": {},
   "outputs": [],
   "source": [
    "## Code-2.4\n",
    "\"\"\"\n",
    "    خط اول توضیحات\n",
    "    خط دوم توضیحات\n",
    "    خط سوم توضیحات\n",
    "\"\"\""
   ]
  },
  {
   "cell_type": "code",
   "execution_count": null,
   "id": "7cfd71ea-4ace-4c4b-b950-1b202a8a9492",
   "metadata": {},
   "outputs": [],
   "source": [
    "## Code-2.5\n",
    "width_of_table = 20\n",
    "value_of_pi = 3.14\n",
    "complex_number = 1 + 3j"
   ]
  },
  {
   "cell_type": "code",
   "execution_count": null,
   "id": "604f78bd-e5b9-45df-aa30-2bd07a0b4d96",
   "metadata": {},
   "outputs": [],
   "source": [
    "## Code-2.6\n",
    "result = (10 - 2) / 4 * 10 ** 2\n",
    "print(result)"
   ]
  },
  {
   "cell_type": "code",
   "execution_count": null,
   "id": "3c9990f4-99c1-466a-b98b-c7a348284b64",
   "metadata": {},
   "outputs": [],
   "source": [
    "## Code-2.7\n",
    "message = \"سلام! به دنیای پایتون خوش آمدید\""
   ]
  },
  {
   "cell_type": "code",
   "execution_count": null,
   "id": "69cc0c92-89ab-4e6d-965d-1bf7662108b3",
   "metadata": {},
   "outputs": [],
   "source": [
    "## Code-2.8\n",
    "my_string = \"Python\"\n",
    "print(my_string[1])"
   ]
  },
  {
   "cell_type": "code",
   "execution_count": null,
   "id": "c40664e6-76cc-4bcd-b399-24354a45f9b9",
   "metadata": {},
   "outputs": [],
   "source": [
    "## Code-2.9\n",
    "my_string = \"Python\"\n",
    "length_of_string = len(my_string)\n",
    "print(length_of_string)"
   ]
  },
  {
   "cell_type": "code",
   "execution_count": null,
   "id": "36d8d4cf-776d-4d3e-bfe4-77c28d57c5a1",
   "metadata": {},
   "outputs": [],
   "source": [
    "## Code-2.10\n",
    "my_string = \"Python\"\n",
    "length_of_string = len(my_string)\n",
    "print(my_string[length_of_string - 1])"
   ]
  },
  {
   "cell_type": "code",
   "execution_count": null,
   "id": "4c6a62f0-493b-4c3d-afd3-18d93b65fb3e",
   "metadata": {},
   "outputs": [],
   "source": [
    "## Code-2.11\n",
    "my_string = \"Python\"\n",
    "print(my_string[-1])"
   ]
  },
  {
   "cell_type": "code",
   "execution_count": null,
   "id": "d379cfc2-fd73-4275-907e-aa97547ce846",
   "metadata": {},
   "outputs": [],
   "source": [
    "## Code-2.12\n",
    "message = \"Welcome to Python class!\""
   ]
  },
  {
   "cell_type": "code",
   "execution_count": null,
   "id": "2277a68f-0c29-4ce6-8395-c0dccc8c8b43",
   "metadata": {},
   "outputs": [],
   "source": [
    "## Code-2.13\n",
    "print(message[10:17])"
   ]
  },
  {
   "cell_type": "code",
   "execution_count": null,
   "id": "fa31437c-edd7-4129-a327-7834c3c20bef",
   "metadata": {},
   "outputs": [],
   "source": [
    "## Code-2.14\n",
    "print(message[0:17])"
   ]
  },
  {
   "cell_type": "code",
   "execution_count": null,
   "id": "6414e015-1171-4b07-ba63-f82e84994a60",
   "metadata": {},
   "outputs": [],
   "source": [
    "## Code-2.15\n",
    "print(message[:17])"
   ]
  },
  {
   "cell_type": "code",
   "execution_count": null,
   "id": "4b906b14-6497-4bc6-be5d-df1b90085358",
   "metadata": {},
   "outputs": [],
   "source": [
    "## Code-2.16\n",
    "message = \"Welcome to Python class!\"\n",
    "print(message)\n",
    "print(message[0:24])\n",
    "print(message[:])"
   ]
  },
  {
   "cell_type": "code",
   "execution_count": null,
   "id": "fba25054-c47a-40f3-a623-b97ba546f0dc",
   "metadata": {},
   "outputs": [],
   "source": [
    "## Code-2.17\n",
    "word = \"Python\"\n",
    "print(word.lower())"
   ]
  },
  {
   "cell_type": "code",
   "execution_count": null,
   "id": "08b922cd-ec3a-45e3-bee8-d862140bcad3",
   "metadata": {},
   "outputs": [],
   "source": [
    "## Code-2.18\n",
    "word = \"Python\"\n",
    "print(word.upper())"
   ]
  },
  {
   "cell_type": "code",
   "execution_count": null,
   "id": "e0ad7985-13f2-4c60-957d-ec299ea60e24",
   "metadata": {},
   "outputs": [],
   "source": [
    "## Code-2.19\n",
    "word = \"Python\"\n",
    "print(word.upper())\n",
    "print(word)"
   ]
  },
  {
   "cell_type": "code",
   "execution_count": null,
   "id": "26deb8a7-cc80-4c25-b8cc-23241cb8d52d",
   "metadata": {},
   "outputs": [],
   "source": [
    "## Code-2.20\n",
    "word = \"Python\"\n",
    "word = word.upper()\n",
    "print(word)"
   ]
  },
  {
   "cell_type": "code",
   "execution_count": null,
   "id": "a010815a-0af1-4c0e-9966-a353f906c007",
   "metadata": {},
   "outputs": [],
   "source": [
    "## Code-2.21\n",
    "word = \"  Python  \"\n",
    "print(word)\n",
    "print(word.strip())"
   ]
  },
  {
   "cell_type": "code",
   "execution_count": null,
   "id": "cb42c560-0566-42a0-a538-916ed2c38c13",
   "metadata": {},
   "outputs": [],
   "source": [
    "## Code-2.22\n",
    "greeting = \"Welcome to Python World, \"\n",
    "name = \"Ali\"\n",
    "message = greeting + name\n",
    "print(message)"
   ]
  },
  {
   "cell_type": "code",
   "execution_count": null,
   "id": "dcda0a18-0beb-4c5d-9728-96a6afcb3516",
   "metadata": {},
   "outputs": [],
   "source": [
    "## Code-2.23\n",
    "message = \"Hello\"\n",
    "print(message * 3)"
   ]
  },
  {
   "cell_type": "code",
   "execution_count": null,
   "id": "a815fde7-93ff-4df8-94e2-441a087ca963",
   "metadata": {},
   "outputs": [],
   "source": [
    "## Code-2.24\n",
    "name = \"Ali\"\n",
    "age = 25\n",
    "message = \"My name is \" + name + \" and I am \" + age\n",
    "print(message)"
   ]
  },
  {
   "cell_type": "code",
   "execution_count": null,
   "id": "dfe2bc90-f564-4d13-a6bc-c4e81b749b5a",
   "metadata": {},
   "outputs": [],
   "source": [
    "## Code-2.25\n",
    "name = \"Ali\"\n",
    "age = 25\n",
    "message = \"My name is {} and I am {}\".format(name, age)\n",
    "print(message)"
   ]
  },
  {
   "cell_type": "code",
   "execution_count": null,
   "id": "a91174d8-e481-4de3-8f5b-97fa3d9df8c9",
   "metadata": {},
   "outputs": [],
   "source": [
    "## Code-2.26\n",
    "name = \"Ali\"\n",
    "age = 25\n",
    "message = \"My name is {} and I am {}\".format(age, name)\n",
    "print(message)"
   ]
  },
  {
   "cell_type": "code",
   "execution_count": null,
   "id": "cb487a8e-af64-451f-86a0-f340bb6e04ab",
   "metadata": {},
   "outputs": [],
   "source": [
    "## Code-2.27\n",
    "name = \"Ali\"\n",
    "age = 25\n",
    "message = f\"My name is {name} and I am {age}\"\n",
    "print(message)"
   ]
  },
  {
   "cell_type": "code",
   "execution_count": null,
   "id": "f68c0ce9-23a8-404d-b73a-2283347e54ed",
   "metadata": {},
   "outputs": [],
   "source": [
    "## Code-2.28\n",
    "number = 12.3456789\n",
    "print(f\"{number:.2f}\")"
   ]
  },
  {
   "cell_type": "code",
   "execution_count": null,
   "id": "6496bced-c717-4140-baea-7ced27a05593",
   "metadata": {},
   "outputs": [],
   "source": [
    "## Code-2.29\n",
    "number = 1000000000\n",
    "print(f\"{number:_}\")\n",
    "print(f\"{number:,}\")"
   ]
  },
  {
   "cell_type": "code",
   "execution_count": null,
   "id": "ac65f730-3ed0-4e6a-9f17-d5a27e1900ae",
   "metadata": {},
   "outputs": [],
   "source": [
    "## Code-2.30\n",
    "word = \"test\"\n",
    "print(f\"{word:>20}\")\n",
    "print(f\"{word:$>20}\")"
   ]
  },
  {
   "cell_type": "code",
   "execution_count": null,
   "id": "ae405df4-fa81-4862-9dee-ec5bd6e4a93d",
   "metadata": {},
   "outputs": [],
   "source": [
    "## Code-2.31\n",
    "print(\"Welcome to \"PYTHON\" World!\")"
   ]
  },
  {
   "cell_type": "code",
   "execution_count": null,
   "id": "2e3e1979-d90a-4878-b0a3-b826494add52",
   "metadata": {},
   "outputs": [],
   "source": [
    "## Code-2.32\n",
    "print(\"Welcome to \\\"Python\\\" World!\")"
   ]
  },
  {
   "cell_type": "code",
   "execution_count": null,
   "id": "74402cd3-8453-427a-a82c-4408d0aa6dff",
   "metadata": {},
   "outputs": [],
   "source": [
    "## Code-2.33\n",
    "print(\"Welcome to Python World!\")"
   ]
  },
  {
   "cell_type": "code",
   "execution_count": null,
   "id": "b0050c9e-c0af-4fff-8db0-5b5148c802be",
   "metadata": {},
   "outputs": [],
   "source": [
    "## Code-2.34\n",
    "print(\"Welcome to \\n Python World!\")"
   ]
  },
  {
   "cell_type": "code",
   "execution_count": null,
   "id": "a8aecf66-c066-4b1b-b3d2-a71f3d81f3d1",
   "metadata": {},
   "outputs": [],
   "source": [
    "## Code-2.35\n",
    "path = \"D:\\\\directory\\\\file.txt\"\n",
    "print(path)"
   ]
  },
  {
   "cell_type": "code",
   "execution_count": null,
   "id": "d3456169-88a3-4747-8f71-e4e97ec2314b",
   "metadata": {},
   "outputs": [],
   "source": [
    "## Code-2.36\n",
    "path = r\"D:\\directory\\file.txt\"\n",
    "print(path)"
   ]
  },
  {
   "cell_type": "code",
   "execution_count": null,
   "id": "ca56b82d-42ab-4cfa-a90d-05a59c3ae7f7",
   "metadata": {},
   "outputs": [],
   "source": [
    "## Code-2.37\n",
    "message = \"\"\"\n",
    "             اولین خط از رشته\n",
    "             دومین خط از رشته\n",
    "             سومین خط از رشته\n",
    "          \"\"\"\n",
    "print(message)"
   ]
  },
  {
   "cell_type": "code",
   "execution_count": null,
   "id": "d2a99798-2272-4efd-a200-d6ad340d802f",
   "metadata": {},
   "outputs": [],
   "source": [
    "## Code-2.38\n",
    "my_list = [1, 2, 3]"
   ]
  },
  {
   "cell_type": "code",
   "execution_count": null,
   "id": "4c8885b0-cb6e-4200-9dea-fc831813ad43",
   "metadata": {},
   "outputs": [],
   "source": [
    "## Code-2.39\n",
    "my_list = [-2.7, \"word\", 130, True, [1, 2, 3]]"
   ]
  },
  {
   "cell_type": "code",
   "execution_count": null,
   "id": "cd0ebd61-5224-4b56-b8d3-3ec072f15039",
   "metadata": {},
   "outputs": [],
   "source": [
    "## Code-2.40\n",
    "my_list = []"
   ]
  },
  {
   "cell_type": "code",
   "execution_count": null,
   "id": "7748ac3a-c1a0-4775-8e0c-25735dde829b",
   "metadata": {},
   "outputs": [],
   "source": [
    "## Code-2.41\n",
    "my_list = [\"Ali\", True, 2450, [1, 2, 3]]\n",
    "print(my_list[1])\n",
    "print(my_list[-1])"
   ]
  },
  {
   "cell_type": "code",
   "execution_count": null,
   "id": "81d7508f-4563-450c-a953-ee17daa102a6",
   "metadata": {},
   "outputs": [],
   "source": [
    "## Code-2.42\n",
    "my_list = [\"Ali\", True, 2450, [1, 2, 3]]\n",
    "internal_list = my_list[-1]\n",
    "print(internal_list)\n",
    "print(internal_list[2])"
   ]
  },
  {
   "cell_type": "code",
   "execution_count": null,
   "id": "51b1969f-237a-469b-a3c1-1b379e5746ea",
   "metadata": {},
   "outputs": [],
   "source": [
    "## Code-2.43\n",
    "my_list = [\"Ali\", True, 2450, [1, 2, 3]]\n",
    "print(my_list[-1][2])"
   ]
  },
  {
   "cell_type": "code",
   "execution_count": null,
   "id": "90a58a2b-c561-46f0-929f-f8d74112a44e",
   "metadata": {},
   "outputs": [],
   "source": [
    "## Code-2.44\n",
    "my_list = [\"Ali\", True, 2450, [1, 2, 3]]\n",
    "print(my_list[-1][-1])"
   ]
  },
  {
   "cell_type": "code",
   "execution_count": null,
   "id": "fc62edcf-2406-4752-8ef5-42d4edbafd39",
   "metadata": {},
   "outputs": [],
   "source": [
    "## Code-2.45\n",
    "numbers = [1, 2, 1, 1, 5]\n",
    "print(numbers.count(1))"
   ]
  },
  {
   "cell_type": "code",
   "execution_count": null,
   "id": "fcd96d96-e6d5-4197-a811-211c72a3f5f0",
   "metadata": {},
   "outputs": [],
   "source": [
    "## Code-2.46\n",
    "numbers = [1, 2, 3, 4, 5]\n",
    "numbers.reverse()\n",
    "print(numbers)"
   ]
  },
  {
   "cell_type": "code",
   "execution_count": null,
   "id": "d496275d-949a-4e0e-9db3-6383be59e87b",
   "metadata": {},
   "outputs": [],
   "source": [
    "## Code-2.47\n",
    "list1 = [1, 2, 3]\n",
    "list2 = [4, 5, 6]\n",
    "list3 = list1 + list2\n",
    "print(list3)"
   ]
  },
  {
   "cell_type": "code",
   "execution_count": null,
   "id": "08c23422-90be-4f1d-8f4c-9c2759a13e14",
   "metadata": {},
   "outputs": [],
   "source": [
    "## Code-2.48\n",
    "list1 = [1, 2, 3]\n",
    "list2 = 2 * list1\n",
    "print(list2)"
   ]
  },
  {
   "cell_type": "code",
   "execution_count": null,
   "id": "96dd4ad8-76e0-4c79-bb6b-79deca7d1315",
   "metadata": {},
   "outputs": [],
   "source": [
    "## Code-2.49\n",
    "numbers = [1, 2, 3]\n",
    "numbers.append(4)\n",
    "print(numbers)"
   ]
  },
  {
   "cell_type": "code",
   "execution_count": null,
   "id": "01d34aef-b307-40f2-a77e-ae956646d706",
   "metadata": {},
   "outputs": [],
   "source": [
    "## Code-2.50\n",
    "numbers = [1, 2, 3]\n",
    "numbers.insert(1, 4)\n",
    "print(numbers)"
   ]
  },
  {
   "cell_type": "code",
   "execution_count": null,
   "id": "19632b09-b5c5-44ee-a3c0-36a3b56f1025",
   "metadata": {},
   "outputs": [],
   "source": [
    "## Code-2.51\n",
    "names = [\"Ali\", \"Hasan\", \"Masoud\", \"Reza\", \"Hamid\"]\n",
    "last_name_of_list = names.pop()\n",
    "print(last_name_of_list)"
   ]
  },
  {
   "cell_type": "code",
   "execution_count": null,
   "id": "cf3ae73b-7526-4631-972f-587a2b86cba1",
   "metadata": {},
   "outputs": [],
   "source": [
    "## Code-2.52\n",
    "names = [\"Ali\", \"Hasan\", \"Masoud\", \"Reza\", \"Hamid\"]\n",
    "selected_name = names.pop(1)\n",
    "print(selected_name)\n",
    "print(names)"
   ]
  },
  {
   "cell_type": "code",
   "execution_count": null,
   "id": "e3bc7884-9ad7-46f4-90a4-f59a2708a483",
   "metadata": {},
   "outputs": [],
   "source": [
    "## Code-2.53\n",
    "names = [\"Ali\", \"Hasan\", \"Masoud\", \"Reza\", \"Hamid\"]\n",
    "names.remove(\"Hasan\")\n",
    "print(names)"
   ]
  },
  {
   "cell_type": "code",
   "execution_count": null,
   "id": "639be645-d0bc-493f-aea8-59a0e914b874",
   "metadata": {},
   "outputs": [],
   "source": [
    "## Code-2.54\n",
    "my_tuple = (1, 2, 3, 4, 5)\n",
    "print(my_tuple[1])\n",
    "print(my_tuple[:3])"
   ]
  },
  {
   "cell_type": "code",
   "execution_count": null,
   "id": "095bf8bd-ae8a-445a-88c1-b1c752d84da2",
   "metadata": {},
   "outputs": [],
   "source": [
    "## Code-2.55\n",
    "my_tuple = (1, 2, 3)  # Tuple Packing\n",
    "a, b, c = my_tuple    # Tuple Unpacking\n",
    "print(a, b, c)"
   ]
  },
  {
   "cell_type": "code",
   "execution_count": null,
   "id": "605c339e-5300-4853-af42-083342a48013",
   "metadata": {},
   "outputs": [],
   "source": [
    "## Code-2.56\n",
    "my_tuple = 1, 2, 3  \n",
    "print(type(my_tuple))  "
   ]
  },
  {
   "cell_type": "code",
   "execution_count": null,
   "id": "73f5cc9f-0437-454a-b3a9-91017a26b994",
   "metadata": {},
   "outputs": [],
   "source": [
    "## Code-2.57\n",
    "a = 2\n",
    "b = 3 \n",
    "print(f\"a: {a}, b: {b}\")   "
   ]
  },
  {
   "cell_type": "code",
   "execution_count": null,
   "id": "23d305c6-cda9-4627-9764-62b96fc10f1d",
   "metadata": {},
   "outputs": [],
   "source": [
    "## Code-2.58\n",
    "a = 2\n",
    "b = 3 \n",
    "\n",
    "c = a\n",
    "a = b\n",
    "b = c\n",
    "print(f\"a: {a}, b: {b}\")  "
   ]
  },
  {
   "cell_type": "code",
   "execution_count": null,
   "id": "f2481d15-42e8-4c43-8def-328e1673e4f3",
   "metadata": {},
   "outputs": [],
   "source": [
    "## Code-2.59\n",
    "a = 2\n",
    "b = 3 \n",
    "\n",
    "a, b = b, a\n",
    "print(f\"a: {a}, b: {b}\")   "
   ]
  },
  {
   "cell_type": "code",
   "execution_count": null,
   "id": "09954838-4459-45af-ae18-f2e9c82b5cdb",
   "metadata": {},
   "outputs": [],
   "source": [
    "## Code-2.60\n",
    "student_info = [\"Ali\", \"Javadi\", 16, \"Mathematics\", \"Male\"]"
   ]
  },
  {
   "cell_type": "code",
   "execution_count": null,
   "id": "d3746770-075f-49f4-9b12-e9c817ba3df1",
   "metadata": {},
   "outputs": [],
   "source": [
    "## Code-2.61\n",
    "student_info = {\n",
    "                \"Name\": \"Ali\",\n",
    "                \"Family\": \"Javadi\",\n",
    "                \"Age\": 16,\n",
    "                \"Subject\": \"Mathematics\",\n",
    "                \"Gender\": \"Male\"\n",
    "                }"
   ]
  },
  {
   "cell_type": "code",
   "execution_count": null,
   "id": "bb67c1cb-acf1-4f1a-9a77-d4f67ad5ba92",
   "metadata": {},
   "outputs": [],
   "source": [
    "## Code-2.62\n",
    "student_info = dict(Name=\"Ali\",\n",
    "                    Family=\"Javadi\", \n",
    "                    Age=16,\n",
    "                    Subject=\"Mathematics\",\n",
    "                    Gender=\"Male\")\n",
    "\n",
    "print(student_info)"
   ]
  },
  {
   "cell_type": "code",
   "execution_count": null,
   "id": "e6303e68-faf8-422a-ac4a-23eaf7ebcb44",
   "metadata": {},
   "outputs": [],
   "source": [
    "## Code-2.63\n",
    "my_dictionary = {}"
   ]
  },
  {
   "cell_type": "code",
   "execution_count": null,
   "id": "017da769-ee72-414c-a4cb-c9f69361027f",
   "metadata": {},
   "outputs": [],
   "source": [
    "## Code-2.64\n",
    "my_dictionary = dict()"
   ]
  },
  {
   "cell_type": "code",
   "execution_count": null,
   "id": "c7a84afb-bb66-4805-9b60-2df89c8c22c8",
   "metadata": {},
   "outputs": [],
   "source": [
    "## Code-2.65\n",
    "student_info = {\n",
    "                \"Name\": \"Ali\",\n",
    "                \"Family\": \"Javadi\",\n",
    "                \"Age\": 16,\n",
    "                \"Subject\": \"Mathematics\",\n",
    "                \"Gender\": \"Male\"\n",
    "                }\n",
    "                \n",
    "print(student_info[\"Subject\"])"
   ]
  },
  {
   "cell_type": "code",
   "execution_count": null,
   "id": "22df410e-a994-4d2e-b53b-265f912cc29b",
   "metadata": {},
   "outputs": [],
   "source": [
    "## Code-2.66\n",
    "student_info = {\n",
    "                \"Name\": \"Ali\",\n",
    "                \"Family\": \"Javadi\",\n",
    "                \"Age\": 16,\n",
    "                \"Subject\": \"Mathematics\",\n",
    "                \"Gender\": \"Male\"\n",
    "                }\n",
    "                \n",
    "print(student_info[\"Address\"])"
   ]
  },
  {
   "cell_type": "code",
   "execution_count": null,
   "id": "f67935c1-23f7-4079-aeda-dcaaf7c60322",
   "metadata": {},
   "outputs": [],
   "source": [
    "## Code-2.67\n",
    "student_info = {\n",
    "                \"Name\": \"Ali\",\n",
    "                \"Family\": \"Javadi\",\n",
    "                \"Age\": 16,\n",
    "                \"Subject\": \"Mathematics\",\n",
    "                \"Gender\": \"Male\"\n",
    "                }\n",
    "                \n",
    "print(student_info.get(\"Subject\"))"
   ]
  },
  {
   "cell_type": "code",
   "execution_count": null,
   "id": "bf02f7b1-844a-4ed3-9d1b-725044c7a14c",
   "metadata": {},
   "outputs": [],
   "source": [
    "## Code-2.68\n",
    "student_info = {\n",
    "                \"Name\": \"Ali\",\n",
    "                \"Family\": \"Javadi\",\n",
    "                \"Age\": 16,\n",
    "                \"Subject\": \"Mathematics\",\n",
    "                \"Gender\": \"Male\"\n",
    "                }\n",
    "                \n",
    "print(student_info.get(\"Address\"))"
   ]
  },
  {
   "cell_type": "code",
   "execution_count": null,
   "id": "7e2ebbcd-4570-405d-a1d4-986c55cd728e",
   "metadata": {},
   "outputs": [],
   "source": [
    "## Code-2.69\n",
    "student_info = {\n",
    "                \"Name\": \"Ali\",\n",
    "                \"Family\": \"Javadi\",\n",
    "                \"Age\": 16,\n",
    "                \"Subject\": \"Mathematics\",\n",
    "                \"Gender\": \"Male\"\n",
    "                }\n",
    "                \n",
    "print(student_info.get(\"Address\", \"NULL\"))"
   ]
  },
  {
   "cell_type": "code",
   "execution_count": null,
   "id": "04691252-eaed-45b1-b9fb-14da5f7ef345",
   "metadata": {},
   "outputs": [],
   "source": [
    "## Code-2.70\n",
    "student_info = {\n",
    "                \"Name\": \"Ali\",\n",
    "                \"Family\": \"Javadi\",\n",
    "                \"Age\": 16,\n",
    "                \"Subject\": \"Mathematics\",\n",
    "                \"Gender\": \"Male\"\n",
    "                }\n",
    "                \n",
    "print(list(student_info.keys()))\n",
    "print(list(student_info.values()))"
   ]
  },
  {
   "cell_type": "code",
   "execution_count": null,
   "id": "156df277-b1c6-4d49-b364-4ca8d2b7b234",
   "metadata": {},
   "outputs": [],
   "source": [
    "## Code-2.71\n",
    "student_info = {\n",
    "                \"Name\": \"Ali\",\n",
    "                \"Family\": \"Javadi\",\n",
    "                \"Age\": 16,\n",
    "                \"Subject\": \"Mathematics\",\n",
    "                \"Gender\": \"Male\"\n",
    "                }\n",
    "                \n",
    "print(list(student_info.items()))"
   ]
  },
  {
   "cell_type": "code",
   "execution_count": null,
   "id": "b6defb3e-44be-4386-933f-a7555a9cfee2",
   "metadata": {},
   "outputs": [],
   "source": [
    "## Code-2.72\n",
    "student_info = {\"Name\": \"Ali\", \"Family\": \"Javadi\", \"Age\": 16}\n",
    "student_info[\"GPA\"] = 17.5\n",
    "print(student_info)"
   ]
  },
  {
   "cell_type": "code",
   "execution_count": null,
   "id": "a6149217-7a63-4109-9463-05bc9d8dd9ed",
   "metadata": {},
   "outputs": [],
   "source": [
    "## Code-2.73\n",
    "student_info = {\"Name\": \"Ali\", \"Family\": \"Javadi\", \"Age\": 16}\n",
    "student_info.update({\"GPA\": 17.5})\n",
    "print(student_info)"
   ]
  },
  {
   "cell_type": "code",
   "execution_count": null,
   "id": "5863d65a-f2d4-4b05-b5b4-ba4ff916448b",
   "metadata": {},
   "outputs": [],
   "source": [
    "## Code-2.74\n",
    "student_info = {\"Name\": \"Ali\", \"Family\": \"Javadi\", \"Age\": 16}\n",
    "student_info.pop(\"Family\")\n",
    "print(student_info)"
   ]
  },
  {
   "cell_type": "code",
   "execution_count": null,
   "id": "19fec88e-30cb-4054-bbcb-dbd949b45f52",
   "metadata": {},
   "outputs": [],
   "source": [
    "## Code-2.75\n",
    "student_info = {\"Name\": \"Ali\", \"Family\": \"Javadi\", \"Age\": 16}\n",
    "student_info[\"Age\"] = 18\n",
    "print(student_info)"
   ]
  },
  {
   "cell_type": "code",
   "execution_count": null,
   "id": "c704e5e9-bbf3-422b-a939-c96cfe967384",
   "metadata": {},
   "outputs": [],
   "source": [
    "## Code-2.76\n",
    "student_info = {\"Name\": \"Ali\", \"Family\": \"Javadi\", \"Age\": 16}\n",
    "student_info.update({\"Age\": 18})\n",
    "print(student_info)"
   ]
  },
  {
   "cell_type": "code",
   "execution_count": null,
   "id": "ff7fcc3d-0ba6-45bb-b270-7cb935b2eaa3",
   "metadata": {},
   "outputs": [],
   "source": [
    "## Code-2.77\n",
    "my_set = {1, 1, 2, 3, 2, 1, 4}\n",
    "print(my_set)"
   ]
  },
  {
   "cell_type": "code",
   "execution_count": null,
   "id": "345d8fb1-825d-4f23-b059-68519449378a",
   "metadata": {},
   "outputs": [],
   "source": [
    "## Code-2.78\n",
    "x = None\n",
    "print(x)\n",
    "print(type(x))"
   ]
  },
  {
   "cell_type": "code",
   "execution_count": null,
   "id": "a31e6b9f-0d56-4c66-83df-b433e6c76689",
   "metadata": {},
   "outputs": [],
   "source": [
    "## Code-2.79\n",
    "name = input(\"نام خود را وارد کنید:\")"
   ]
  },
  {
   "cell_type": "code",
   "execution_count": null,
   "id": "f37685be-6f06-403a-b744-ead7c4df98c8",
   "metadata": {},
   "outputs": [],
   "source": [
    "## Code-2.80\n",
    "name = input(\"نام خود را وارد کنید :\")\n",
    "print(f\"{name} سلام\")"
   ]
  },
  {
   "cell_type": "code",
   "execution_count": null,
   "id": "ab7d556b-3cc4-4a29-b8c8-ba40482aeafe",
   "metadata": {},
   "outputs": [],
   "source": [
    "## Code-2.81\n",
    "number1 = input(\"Enter a number: \")\n",
    "number2 = input(\"Enter another number: \")\n",
    "print(number1 + number2)"
   ]
  },
  {
   "cell_type": "code",
   "execution_count": null,
   "id": "f49d038d-1e02-47c4-b110-c426506efcae",
   "metadata": {},
   "outputs": [],
   "source": [
    "## Code-2.82\n",
    "x = \"2\"\n",
    "print(type(x))\n",
    "y = int(x)\n",
    "print(type(y))"
   ]
  },
  {
   "cell_type": "code",
   "execution_count": null,
   "id": "154f0497-d38c-42db-8b73-bee378dbaafa",
   "metadata": {},
   "outputs": [],
   "source": [
    "## Code-2.83\n",
    "number1 = int(input(\"Enter a number: \"))\n",
    "number2 = int(input(\"Enter another number: \"))\n",
    "print(number1 + number2)"
   ]
  },
  {
   "cell_type": "code",
   "execution_count": null,
   "id": "9238598e-9bf0-4520-bb46-130122ca1fad",
   "metadata": {},
   "outputs": [],
   "source": [
    "## Code-2.84\n",
    "x = \"23ABC\"\n",
    "y = int(x)"
   ]
  },
  {
   "cell_type": "code",
   "execution_count": null,
   "id": "d433cad0-0337-44ca-9396-0901adb2d8a3",
   "metadata": {},
   "outputs": [],
   "source": [
    "## Code-2.85\n",
    "x = (\"apple\", \"banana\", \"cherry\")\n",
    "y = list(x)\n",
    "y[1] = \"kiwi\"\n",
    "x = tuple(y)\n",
    "\n",
    "print(x)"
   ]
  },
  {
   "cell_type": "code",
   "execution_count": null,
   "id": "0c8ab2c5-cdf9-4e37-8ebc-dce5134d3bf6",
   "metadata": {},
   "outputs": [],
   "source": [
    "## Code-2.86\n",
    "x = (\"apple\", \"banana\", \"cherry\")\n",
    "y = list(x)\n",
    "y.append(\"kiwi\")\n",
    "x = tuple(y)\n",
    "\n",
    "print(x)"
   ]
  },
  {
   "cell_type": "code",
   "execution_count": null,
   "id": "95edbc14-7b6a-40d5-bb4b-7ebf5a19fc0a",
   "metadata": {},
   "outputs": [],
   "source": [
    "## Code-2.87\n",
    "list1 = [1, 2, 3, 4, 1, 2, 1]\n",
    "temp = set(list1)\n",
    "list2 = list(temp)\n",
    "\n",
    "print(list2)"
   ]
  },
  {
   "cell_type": "code",
   "execution_count": null,
   "id": "96ac9381-efe3-4f22-b31e-dd8767632515",
   "metadata": {},
   "outputs": [],
   "source": [
    "## Code-2.88\n",
    "queue = []\n",
    "\n",
    "# enqueue\n",
    "queue.append(\"first\")\n",
    "queue.append(\"second\")\n",
    "queue.append(\"third\")\n",
    "\n",
    "# dequeue\n",
    "print(queue.pop(0))\n",
    "print(queue.pop(0))\n",
    "print(queue.pop(0))"
   ]
  },
  {
   "cell_type": "code",
   "execution_count": null,
   "id": "57bfe7ef-139d-4354-8c37-4ee3698ca3e8",
   "metadata": {},
   "outputs": [],
   "source": [
    "## Code-2.89\n",
    "from collections import deque\n",
    "\n",
    "queue = deque()\n",
    "\n",
    "# enqueue\n",
    "queue.append(\"first\")\n",
    "queue.append(\"second\")\n",
    "queue.append(\"third\")\n",
    "\n",
    "# dequeue\n",
    "print(queue.popleft())\n",
    "print(queue.popleft())\n",
    "print(queue.popleft())"
   ]
  },
  {
   "cell_type": "code",
   "execution_count": null,
   "id": "991b8cc3-7a70-434d-bab6-7d3aa1d87e19",
   "metadata": {},
   "outputs": [],
   "source": [
    "## Code-2.90\n",
    "stack = []\n",
    "\n",
    "# push\n",
    "stack.append(\"first\")\n",
    "stack.append(\"second\")\n",
    "stack.append(\"third\")\n",
    "\n",
    "# pop\n",
    "print(stack.pop())\n",
    "print(stack.pop())\n",
    "print(stack.pop())"
   ]
  },
  {
   "cell_type": "code",
   "execution_count": null,
   "id": "9f7f374a-6f90-47ad-9371-a17c370244bd",
   "metadata": {},
   "outputs": [],
   "source": [
    "## Code-2.91\n",
    "from collections import deque\n",
    "\n",
    "stack = deque()\n",
    "\n",
    "# push\n",
    "stack.append(\"first\")\n",
    "stack.append(\"second\")\n",
    "stack.append(\"third\")\n",
    "\n",
    "# pop\n",
    "print(stack.pop())\n",
    "print(stack.pop())\n",
    "print(stack.pop())"
   ]
  }
 ],
 "metadata": {
  "kernelspec": {
   "display_name": "Python 3 (ipykernel)",
   "language": "python",
   "name": "python3"
  },
  "language_info": {
   "codemirror_mode": {
    "name": "ipython",
    "version": 3
   },
   "file_extension": ".py",
   "mimetype": "text/x-python",
   "name": "python",
   "nbconvert_exporter": "python",
   "pygments_lexer": "ipython3",
   "version": "3.13.5"
  }
 },
 "nbformat": 4,
 "nbformat_minor": 5
}
