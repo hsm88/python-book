{
 "cells": [
  {
   "cell_type": "code",
   "execution_count": null,
   "id": "b44be1ce-87a4-41ef-8922-e05ab574acd8",
   "metadata": {},
   "outputs": [],
   "source": [
    "## Code-10.1\n",
    "for i in [1, 2, 3]:\n",
    "    print(i)"
   ]
  },
  {
   "cell_type": "code",
   "execution_count": null,
   "id": "01655092-8627-4a40-af74-12b83ab29451",
   "metadata": {},
   "outputs": [],
   "source": [
    "## Code-10.2\n",
    "numbers = [1, 2, 3]\n",
    "iterator = iter(numbers)\n",
    "print(type(iterator))"
   ]
  },
  {
   "cell_type": "code",
   "execution_count": null,
   "id": "170331c7-dab9-4aff-9900-90f0b7bbb8e5",
   "metadata": {},
   "outputs": [],
   "source": [
    "## Code-10.3\n",
    "numbers = [1, 2, 3]\n",
    "iterator = iter(numbers)\n",
    "print(next(iterator))\n",
    "print(next(iterator))\n",
    "print(next(iterator))"
   ]
  },
  {
   "cell_type": "code",
   "execution_count": null,
   "id": "ce0bb834-7906-4856-afcd-c90683f68ec0",
   "metadata": {},
   "outputs": [],
   "source": [
    "## Code-10.4\n",
    "numbers = [1, 2, 3]\n",
    "print(numbers.__dir__())"
   ]
  },
  {
   "cell_type": "code",
   "execution_count": null,
   "id": "1c29140d-d549-4558-b0c4-0140ac2eb0ad",
   "metadata": {},
   "outputs": [],
   "source": [
    "## Code-10.5\n",
    "numbers = [1, 2, 3]\n",
    "iterator = iter(numbers)\n",
    "print(iterator.__dir__())"
   ]
  },
  {
   "cell_type": "code",
   "execution_count": null,
   "id": "693d3cd1-4500-4099-8201-da3798e51b15",
   "metadata": {},
   "outputs": [],
   "source": [
    "## Code-10.6\n",
    "numbers = [1, 2, 3]\n",
    "iterator = iter(numbers)\n",
    "print(next(iterator))\n",
    "print(next(iterator))\n",
    "print(next(iterator))\n",
    "print(next(iterator))"
   ]
  },
  {
   "cell_type": "code",
   "execution_count": null,
   "id": "2c8aeddf-56d8-4fda-93e7-67ec5ae96c57",
   "metadata": {},
   "outputs": [],
   "source": [
    "## Code-10.7\n",
    "for i in range(5, 9):\n",
    "    print(i, end=\" \")"
   ]
  },
  {
   "cell_type": "code",
   "execution_count": null,
   "id": "04d4ad42-f9f6-4100-bf22-3648b014c6fd",
   "metadata": {},
   "outputs": [],
   "source": [
    "## Code-10.8\n",
    "class MyIterator:\n",
    "\n",
    "    def __init__(self, start, stop):\n",
    "        self.start = start\n",
    "        self.stop = stop\n",
    "        \n",
    "    def __iter__(self):\n",
    "        return self\n",
    "        \n",
    "    def __next__(self):\n",
    "        temp = self.start\n",
    "        if temp >= self.stop:\n",
    "            raise StopIteration\n",
    "        self.start += 1\n",
    "        return temp\n",
    "\n",
    "\n",
    "my_iterator = MyIterator(5, 9)\n",
    "for i in my_iterator:\n",
    "    print(i, end=\" \")"
   ]
  },
  {
   "cell_type": "code",
   "execution_count": null,
   "id": "98fc747e-aeb9-4158-be09-8457681cb639",
   "metadata": {},
   "outputs": [],
   "source": [
    "## Code-10.9\n",
    "def math(a, b):\n",
    "    return a + b, a - b, a * b, a / b\n",
    "    \n",
    "r1, r2, r3, r4 = math(6, 2)\n",
    "print(f\"Summation: {r1}\")\n",
    "print(f\"Subtraction: {r2}\")\n",
    "print(f\"Multiplication: {r3}\")\n",
    "print(f\"Division: {r4}\")"
   ]
  },
  {
   "cell_type": "code",
   "execution_count": null,
   "id": "a5126fa3-42f8-42dd-81bd-1ebf5127b270",
   "metadata": {},
   "outputs": [],
   "source": [
    "## Code-10.10\n",
    "def math(a, b):\n",
    "    yield a + b\n",
    "    yield a - b\n",
    "    yield a * b\n",
    "    yield a / b"
   ]
  },
  {
   "cell_type": "code",
   "execution_count": null,
   "id": "ae3b1306-7114-4bbf-99ee-d1f4532937e7",
   "metadata": {},
   "outputs": [],
   "source": [
    "## Code-10.11\n",
    "iterator = math(6, 2)\n",
    "for i in iterator:\n",
    "    print(i, end=\" \")"
   ]
  },
  {
   "cell_type": "code",
   "execution_count": null,
   "id": "e2e96571-b0e2-4fe2-a4e8-dc676d08346c",
   "metadata": {},
   "outputs": [],
   "source": [
    "## Code-10.12\n",
    "def fibonacci():\n",
    "    a, b = 0, 1\n",
    "    while True:\n",
    "        yield a\n",
    "        a, b = b, a + b\n",
    "        \n",
    "fib_iterator = fibonacci()\n",
    "for _ in range(10):\n",
    "    print(next(fib_iterator), end=\" \")"
   ]
  },
  {
   "cell_type": "code",
   "execution_count": null,
   "id": "b6fa5b09-fd95-459b-8f58-962e316a875f",
   "metadata": {},
   "outputs": [],
   "source": [
    "## Code-10.13\n",
    "def welcome():\n",
    "    return \"Welcome to Python World!\""
   ]
  },
  {
   "cell_type": "code",
   "execution_count": null,
   "id": "5d8b4235-3c3a-4187-ad34-8c48bab0ef3e",
   "metadata": {},
   "outputs": [],
   "source": [
    "## Code-10.14\n",
    "def null_decorator(function):\n",
    "    return function"
   ]
  },
  {
   "cell_type": "code",
   "execution_count": null,
   "id": "e72dcb67-1643-4763-a583-662b6b84f1ed",
   "metadata": {},
   "outputs": [],
   "source": [
    "## Code-10.15\n",
    "def null_decorator(function):\n",
    "    return function\n",
    "    \n",
    "def welcome():\n",
    "    return \"Welcome to Python World!\"\n",
    "    \n",
    "greet = null_decorator(welcome)\n",
    "message = greet()\n",
    "print(message)"
   ]
  },
  {
   "cell_type": "code",
   "execution_count": null,
   "id": "6e7f1920-37a1-498c-8da8-19e6eeb565e9",
   "metadata": {},
   "outputs": [],
   "source": [
    "## Code-10.16\n",
    "def null_decorator(function):\n",
    "    return function\n",
    "\n",
    "@null_decorator    \n",
    "def welcome():\n",
    "    return \"Welcome to Python World!\"\n",
    "    \n",
    "print(welcome())"
   ]
  },
  {
   "cell_type": "code",
   "execution_count": null,
   "id": "a1bb9c5f-5577-453c-850f-a98495608502",
   "metadata": {},
   "outputs": [],
   "source": [
    "## Code-10.17\n",
    "def uppercase(function):\n",
    "    def wrapper():\n",
    "        original_result = function()\n",
    "        modified_result = original_result.upper()\n",
    "        return modified_result\n",
    "    return wrapper"
   ]
  },
  {
   "cell_type": "code",
   "execution_count": null,
   "id": "f310a077-671c-4a36-846b-d3e5535751cd",
   "metadata": {},
   "outputs": [],
   "source": [
    "## Code-10.18\n",
    "def uppercase(function):\n",
    "    def wrapper():\n",
    "        original_result = function()\n",
    "        modified_result = original_result.upper()\n",
    "        return modified_result\n",
    "    return wrapper\n",
    "\n",
    "@uppercase    \n",
    "def welcome():\n",
    "    return \"Welcome to Python World!\"\n",
    "    \n",
    "print(welcome())"
   ]
  },
  {
   "cell_type": "code",
   "execution_count": null,
   "id": "207479bf-d8cb-49a9-b407-c4cbe5510c48",
   "metadata": {},
   "outputs": [],
   "source": [
    "## Code-10.19\n",
    "def my_decorator(function):\n",
    "    def wrapper():\n",
    "        print(\"BEFORE calling function ...\")\n",
    "        function()\n",
    "        print(\"AFTER calling function ...\")\n",
    "    return wrapper\n",
    "\n",
    "@my_decorator    \n",
    "def say_hello():\n",
    "    print(\"Hello!\")\n",
    "    \n",
    "print(say_hello())"
   ]
  },
  {
   "cell_type": "code",
   "execution_count": null,
   "id": "60027d0a-8a1b-4f24-bce6-d13f7baa5321",
   "metadata": {},
   "outputs": [],
   "source": [
    "## Code-10.20\n",
    "def start():\n",
    "    print(\"Server has started!\")\n",
    "    \n",
    "def stop():\n",
    "    print(\"Server has stopped!\")"
   ]
  },
  {
   "cell_type": "code",
   "execution_count": null,
   "id": "6459e979-d3f7-4c63-8c53-f83d733d3230",
   "metadata": {},
   "outputs": [],
   "source": [
    "## Code-10.21\n",
    "def ask_for_passcode(function):\n",
    "    def authentication():\n",
    "        passcode = input(\"Enter Passcode: \")\n",
    "        if passcode == \"1234\":\n",
    "            print(\"Accepted!\")\n",
    "            function()\n",
    "        else:\n",
    "            print(\"Passcode was invalid!\")\n",
    "    return authentication\n",
    "\n",
    "@ask_for_passcode    \n",
    "def start():\n",
    "    print(\"Server has started!\")\n",
    "    \n",
    "@ask_for_passcode\n",
    "def stop():\n",
    "    print(\"Server has stopped!\")\n",
    "    \n",
    "start()\n",
    "stop()"
   ]
  },
  {
   "cell_type": "code",
   "execution_count": null,
   "id": "62669c65-0402-44ea-b9ee-0b882fde3e36",
   "metadata": {},
   "outputs": [],
   "source": [
    "## Code-10.22\n",
    "def divide(a, b):\n",
    "    return a / b\n",
    "\n",
    "print(divide(10, 0))"
   ]
  },
  {
   "cell_type": "code",
   "execution_count": null,
   "id": "ab75f7db-8e3e-4628-a44c-4c0de6185f88",
   "metadata": {},
   "outputs": [],
   "source": [
    "## Code-10.23\n",
    "def division_controller(function):\n",
    "    def controller(a, b):\n",
    "        if b == 0:\n",
    "            print(\"Invalid denominator!\")\n",
    "            return\n",
    "        return function(a, b)\n",
    "    return controller\n",
    "\n",
    "@division_controller    \n",
    "def divide(a, b):\n",
    "    return a / b\n",
    "    \n",
    "print(divide(10, 0)) \n",
    "print(divide(10, 2)) "
   ]
  },
  {
   "cell_type": "code",
   "execution_count": null,
   "id": "aedf543b-1aea-489f-bfa5-74b408c35d95",
   "metadata": {},
   "outputs": [],
   "source": [
    "## Code-10.24\n",
    "with open(\"file.txt\", \"w\") as f:\n",
    "    f.write(\"New line\")"
   ]
  },
  {
   "cell_type": "code",
   "execution_count": null,
   "id": "2142a146-67e1-4614-9adb-d0ef5b5433f8",
   "metadata": {},
   "outputs": [],
   "source": [
    "## Code-10.25\n",
    "class ContextManager:\n",
    "\n",
    "    def __init__(self):\n",
    "        print(\"init method called!\")\n",
    "        \n",
    "    def __enter__(self):\n",
    "        print(\"enter method called!\")\n",
    "        \n",
    "    def __exit__(self, exc_type, exc_value, exc_traceback):\n",
    "        print(\"exit method called!\")"
   ]
  },
  {
   "cell_type": "code",
   "execution_count": null,
   "id": "1db3151b-9f67-4896-b751-20d9bf9a642e",
   "metadata": {},
   "outputs": [],
   "source": [
    "## Code-10.26\n",
    "with open(\"file.txt\", \"w\") as f:\n",
    "    f.write(\"New line\")\n",
    "    print(f.__dir__())"
   ]
  },
  {
   "cell_type": "code",
   "execution_count": null,
   "id": "ed7aa4d7-601d-439d-b3ef-1bd3f20ecfa6",
   "metadata": {},
   "outputs": [],
   "source": [
    "## Code-10.27\n",
    "with ContextManager() as cm:\n",
    "    # دستورها"
   ]
  },
  {
   "cell_type": "code",
   "execution_count": null,
   "id": "79007548-b777-440a-b49b-13bf330b7628",
   "metadata": {},
   "outputs": [],
   "source": [
    "## Code-10.28\n",
    "class ContextManager:\n",
    "\n",
    "    def __init__(self):\n",
    "        print(\"\\\"init\\\" method called!\")\n",
    "        \n",
    "    def __enter__(self):\n",
    "        print(\"\\\"enter\\\" method called!\")\n",
    "        \n",
    "    def __exit__(self, exc_type, exc_value, exc_traceback):\n",
    "        print(\"\\\"exit\\\" method called!\")\n",
    "        \n",
    "        \n",
    "with ContextManager() as cm:\n",
    "    print(\"Commands inside \\\"with\\\" block\")"
   ]
  },
  {
   "cell_type": "code",
   "execution_count": null,
   "id": "d8049666-434e-4fbf-87cc-116c9ee98dff",
   "metadata": {},
   "outputs": [],
   "source": [
    "## Code-10.29\n",
    "class ManagedFile:\n",
    "    \n",
    "    def __init__(self, path):\n",
    "        self.path = path       \n",
    "        \n",
    "    def __enter__(self):\n",
    "        self.file = open(self.path)\n",
    "        return self.file\n",
    "        \n",
    "    def __exit__(self, exc_type, exc_value, exc_traceback):\n",
    "        if self.file:\n",
    "            self.file.close()"
   ]
  },
  {
   "cell_type": "code",
   "execution_count": null,
   "id": "4cd7e81a-1ad6-4bd5-8a4a-1aebe5b6205f",
   "metadata": {},
   "outputs": [],
   "source": [
    "## Code-10.30\n",
    "with ManagedFile(\"file.txt\") as f:\n",
    "    f.write(\"New line\")"
   ]
  },
  {
   "cell_type": "code",
   "execution_count": null,
   "id": "52ff4a3c-fff4-4c58-b956-d6c22414c1df",
   "metadata": {},
   "outputs": [],
   "source": [
    "## Code-10.31\n",
    "print(\"*\")\n",
    "print(\" *\")\n",
    "print(\"  *\")\n",
    "print(\" *\")\n",
    "print(\"*\")"
   ]
  },
  {
   "cell_type": "code",
   "execution_count": null,
   "id": "0e67453a-08d1-459d-97f9-88b88e9d603a",
   "metadata": {},
   "outputs": [],
   "source": [
    "## Code-10.32\n",
    "class Indenter:\n",
    "    \n",
    "    def __init__(self):\n",
    "        self.level = 0\n",
    "        \n",
    "    def __enter__(self):\n",
    "        self.level += 1\n",
    "        return self\n",
    "        \n",
    "    def __exit__(self, exc_type, exc_value, exc_traceback):\n",
    "        self.level -= 1\n",
    "        \n",
    "    def print(self, text):\n",
    "        print(self.level * \" \" + text)"
   ]
  },
  {
   "cell_type": "code",
   "execution_count": null,
   "id": "6bdc50e0-47ef-4285-8d60-36318a263502",
   "metadata": {},
   "outputs": [],
   "source": [
    "## Code-10.33\n",
    "with Indenter() as indent:\n",
    "    indent.print(\"*\")\n",
    "    with indent:\n",
    "        indent.print(\"*\")\n",
    "        with indent:\n",
    "            indent.print(\"*\")\n",
    "        indent.print(\"*\")\n",
    "    indent.print(\"*\")"
   ]
  },
  {
   "cell_type": "code",
   "execution_count": null,
   "id": "65bfbbdd-10e4-4b0a-aa49-21b54bc93a8a",
   "metadata": {},
   "outputs": [],
   "source": [
    "## Code-10.34\n",
    "import time\n",
    "\n",
    "class Timer:\n",
    "    \n",
    "    def __init__(self):\n",
    "        self.start = 0\n",
    "        self.stop = 0\n",
    "        \n",
    "    def __enter__(self):\n",
    "        self.start =  time.time()\n",
    "        \n",
    "    def __exit__(self, exc_type, exc_value, exc_traceback):\n",
    "        self.stop =  time.time()\n",
    "        print(f\"Duration of running code: {self.stop - self.start}\")"
   ]
  },
  {
   "cell_type": "code",
   "execution_count": null,
   "id": "eefada01-c105-499c-898c-1f18cdf85730",
   "metadata": {},
   "outputs": [],
   "source": [
    "## Code-10.35\n",
    "with Timer() as timer:\n",
    "    counter = 0\n",
    "    for _ in range(10000):\n",
    "        counter += 1"
   ]
  },
  {
   "cell_type": "markdown",
   "id": "34711686-7366-4b38-9cac-81f5b1f185a3",
   "metadata": {},
   "source": [
    "<p dir=\"rtl\"><b>برای اجرای کدهای مربوط به بخش «همروندی»، که در ادامه می‌آید، از محیط اجرای دیگری مانند IDLE یا Visual Studio Code استفاده کنید.</b></p>"
   ]
  },
  {
   "cell_type": "code",
   "execution_count": null,
   "id": "4bfb3e74-5ce8-4eff-a714-54ab2bfa5226",
   "metadata": {},
   "outputs": [],
   "source": [
    "## Code-10.36\n",
    "for n in range(1, 6):\n",
    "    print(n, end=\" \")\n",
    "\n",
    "for l in \"abcde\":\n",
    "    print(l, end=\" \")"
   ]
  },
  {
   "cell_type": "code",
   "execution_count": null,
   "id": "c167b03b-05e2-49ee-8744-28bdf177e33e",
   "metadata": {},
   "outputs": [],
   "source": [
    "## Code-10.37\n",
    "def print_numbers(k):    \n",
    "    for n in range(1, k+1):\n",
    "        print(n, end=\" \")\n",
    "\n",
    "def print_letters():    \n",
    "    for l in \"abcde\":\n",
    "        print(l, end=\" \")\n",
    "\n",
    "print_numbers(5)\n",
    "print_letters()"
   ]
  },
  {
   "cell_type": "code",
   "execution_count": null,
   "id": "661252a4-90a0-41b3-9bf3-ee9f3b757f11",
   "metadata": {},
   "outputs": [],
   "source": [
    "## Code-10.38\n",
    "import threading\n",
    "\n",
    "def print_numbers(k):    \n",
    "    for n in range(1, k+1):\n",
    "        print(n)\n",
    "\n",
    "def print_letters():    \n",
    "    for l in \"abcde\":\n",
    "        print(l)\n",
    "        \n",
    "t1 = threading.Thread(target=print_numbers, args=(5,))\n",
    "t2 = threading.Thread(target=print_letters)\n",
    "\n",
    "t1.start()\n",
    "t2.start()\n",
    "\n",
    "print(\"Done!\")"
   ]
  },
  {
   "cell_type": "code",
   "execution_count": null,
   "id": "ec336fc2-a09d-4e20-8028-c4cdf4239f56",
   "metadata": {},
   "outputs": [],
   "source": [
    "## Code-10.39\n",
    "print(threading.active_count())"
   ]
  },
  {
   "cell_type": "code",
   "execution_count": null,
   "id": "360778b5-f28c-47dc-bda3-401ca90d737c",
   "metadata": {},
   "outputs": [],
   "source": [
    "## Code-10.40\n",
    "import threading\n",
    "\n",
    "def print_numbers(k):    \n",
    "    for n in range(1, k+1):\n",
    "        print(n)\n",
    "\n",
    "def print_letters():    \n",
    "    for l in \"abcde\":\n",
    "        print(l)\n",
    "        \n",
    "t1 = threading.Thread(target=print_numbers, args=(5,))\n",
    "t2 = threading.Thread(target=print_letters)\n",
    "\n",
    "t1.start()\n",
    "t2.start()\n",
    "\n",
    "t1.join()\n",
    "t2.join()\n",
    "\n",
    "print(\"Done!\")"
   ]
  },
  {
   "cell_type": "code",
   "execution_count": null,
   "id": "1fd90111-97a8-47ec-9b3c-d5e52018c661",
   "metadata": {},
   "outputs": [],
   "source": [
    "## Code-10.41\n",
    "import threading\n",
    "\n",
    "def print_numbers(k):    \n",
    "    for n in range(1, k+1):\n",
    "        print(n)\n",
    "\n",
    "def print_letters():    \n",
    "    for l in \"abcde\":\n",
    "        print(l)\n",
    "        \n",
    "t1 = threading.Thread(target=print_numbers, args=(5,))\n",
    "t2 = threading.Thread(target=print_letters)\n",
    "\n",
    "t1.start()\n",
    "t1.join()\n",
    "\n",
    "t2.start()\n",
    "t2.join()\n",
    "\n",
    "print(\"Done!\")"
   ]
  },
  {
   "cell_type": "code",
   "execution_count": null,
   "id": "06920c19-b436-4de6-b685-749598507d03",
   "metadata": {},
   "outputs": [],
   "source": [
    "## Code-10.42\n",
    "import asyncio\n",
    "\n",
    "async def receive_data():\n",
    "\n",
    "    print(\"Start waiting to receive data from the network ...\")\n",
    "    await asyncio.sleep(1)\n",
    "    print(\"data received!\")"
   ]
  },
  {
   "cell_type": "code",
   "execution_count": null,
   "id": "e0769c8f-60c5-4c92-8553-1ee8671aac8f",
   "metadata": {},
   "outputs": [],
   "source": [
    "## Code-10.43\n",
    "import asyncio\n",
    "\n",
    "async def receive_data():\n",
    "\n",
    "    print(\"Start waiting to receive data from the network ...\")\n",
    "    await asyncio.sleep(1)\n",
    "    print(\"data received!\")\n",
    "\n",
    "receive_data()"
   ]
  },
  {
   "cell_type": "code",
   "execution_count": null,
   "id": "c2409437-53da-4108-9a63-d8d09e8b3f20",
   "metadata": {},
   "outputs": [],
   "source": [
    "## Code-10.44\n",
    "import asyncio\n",
    "\n",
    "async def receive_data():\n",
    "\n",
    "    print(\"Start waiting to receive data from the network ...\")\n",
    "    await asyncio.sleep(1)\n",
    "    print(\"data received!\")\n",
    "\n",
    "asyncio.run(receive_data())"
   ]
  },
  {
   "cell_type": "code",
   "execution_count": null,
   "id": "4aee3fd6-cce7-4473-be8c-ca01dd6e9980",
   "metadata": {},
   "outputs": [],
   "source": [
    "## Code-10.45\n",
    "import asyncio\n",
    "\n",
    "async def receive_data():\n",
    "\n",
    "    print(\"Start waiting to receive data from the network ...\")\n",
    "    await asyncio.sleep(1)\n",
    "    print(\"data received!\")\n",
    "\n",
    "loop = asyncio.get_event_loop()\n",
    "loop.run_until_complete(receive_data())"
   ]
  },
  {
   "cell_type": "code",
   "execution_count": null,
   "id": "9d1f2106-bd73-4ca1-8754-d2ba7a9928b7",
   "metadata": {},
   "outputs": [],
   "source": [
    "## Code-10.46\n",
    "import asyncio\n",
    "\n",
    "async def receive_data():\n",
    "\n",
    "    print(\"Start waiting to receive data from the network ...\")\n",
    "    await asyncio.sleep(1)\n",
    "    print(\"data received!\")\n",
    "\n",
    "async def main():\n",
    "\n",
    "    await receive_data()\n",
    "\n",
    "asyncio.run(main())"
   ]
  },
  {
   "cell_type": "code",
   "execution_count": null,
   "id": "69cb3403-2150-4428-8898-6d5553cbc409",
   "metadata": {},
   "outputs": [],
   "source": [
    "## Code-10.47\n",
    "import asyncio\n",
    "\n",
    "async def receive_data():\n",
    "\n",
    "    print(\"Start waiting to receive data from the network ...\")\n",
    "    await asyncio.sleep(1)\n",
    "    print(\"data received!\")\n",
    "\n",
    "async def main():\n",
    "    \n",
    "    new_task = asyncio.create_task(receive_data())\n",
    "    await new_task\n",
    "\n",
    "asyncio.run(main())"
   ]
  },
  {
   "cell_type": "code",
   "execution_count": null,
   "id": "b2c3236e-9925-47ae-a08d-2eb3b8ec8401",
   "metadata": {},
   "outputs": [],
   "source": [
    "## Code-10.48\n",
    "import asyncio\n",
    "\n",
    "async def receive_data():\n",
    "\n",
    "    print(\"Start waiting to receive data from the network ...\")\n",
    "    await asyncio.sleep(1)\n",
    "    data =  \"HELLO\"\n",
    "    print(f\"data \\\"{data}\\\" received!\")\n",
    "    \n",
    "    return data\n",
    "\n",
    "async def send_data(message):\n",
    "    \n",
    "    print(f\"Start waiting to send {message} to the network ...\")\n",
    "    await asyncio.sleep(1)\n",
    "    print(f\"data \\\"{message}\\\" sent!\")\n",
    "    \n",
    "async def main():\n",
    "    \n",
    "    receiving_data_task = asyncio.create_task(receive_data())\n",
    "    received_data = await receiving_data_task\n",
    "    sending_data_task = asyncio.create_task(send_data(received_data))\n",
    "    await sending_data_task\n",
    "\n",
    "asyncio.run(main())"
   ]
  },
  {
   "cell_type": "code",
   "execution_count": null,
   "id": "63f68f34-fc5a-430c-be4a-a5b0618e3d71",
   "metadata": {},
   "outputs": [],
   "source": [
    "## Code-10.49\n",
    "import asyncio\n",
    "\n",
    "async def receive_data():\n",
    "\n",
    "    print(\"Start waiting to receive data from the network ...\")\n",
    "    await asyncio.sleep(1)\n",
    "    data =  \"HELLO\"\n",
    "    print(f\"data \\\"{data}\\\" received!\")\n",
    "    \n",
    "    return data\n",
    "\n",
    "async def send_data(message):\n",
    "    \n",
    "    print(f\"Start waiting to send {message} to the network ...\")\n",
    "    await asyncio.sleep(1)\n",
    "    print(f\"data \\\"{message}\\\" sent!\")\n",
    "    \n",
    "async def main():\n",
    "    \n",
    "    receiving_data_task = asyncio.create_task(receive_data())\n",
    "    sending_data_task = asyncio.create_task(send_data(\"BYE\"))\n",
    "\n",
    "    await receiving_data_task\n",
    "    await sending_data_task\n",
    "\n",
    "asyncio.run(main())"
   ]
  },
  {
   "cell_type": "code",
   "execution_count": null,
   "id": "16f4573c-d174-4688-aada-a066d0e70448",
   "metadata": {},
   "outputs": [],
   "source": [
    "## Code-10.50\n",
    "import asyncio\n",
    "\n",
    "async def receive_data():\n",
    "\n",
    "    print(\"Start waiting to receive data from the network ...\")\n",
    "    await asyncio.sleep(1)\n",
    "    data =  \"HELLO\"\n",
    "    print(f\"data \\\"{data}\\\" received!\")\n",
    "    \n",
    "    return data\n",
    "\n",
    "async def send_data(message):\n",
    "    \n",
    "    print(f\"Start waiting to send {message} to the network ...\")\n",
    "    await asyncio.sleep(1)\n",
    "    print(f\"data \\\"{message}\\\" sent!\")\n",
    "    \n",
    "async def main():\n",
    "    \n",
    "    async with asyncio.TaskGroup() as tg:\n",
    "        tg.create_task(receive_data())\n",
    "        tg.create_task(send_data(\"BYE\"))\n",
    "         \n",
    "asyncio.run(main())"
   ]
  },
  {
   "cell_type": "code",
   "execution_count": null,
   "id": "99b68b2d-8a4e-4dd5-b225-43942e577f9d",
   "metadata": {},
   "outputs": [],
   "source": []
  }
 ],
 "metadata": {
  "kernelspec": {
   "display_name": "Python 3 (ipykernel)",
   "language": "python",
   "name": "python3"
  },
  "language_info": {
   "codemirror_mode": {
    "name": "ipython",
    "version": 3
   },
   "file_extension": ".py",
   "mimetype": "text/x-python",
   "name": "python",
   "nbconvert_exporter": "python",
   "pygments_lexer": "ipython3",
   "version": "3.13.5"
  }
 },
 "nbformat": 4,
 "nbformat_minor": 5
}
