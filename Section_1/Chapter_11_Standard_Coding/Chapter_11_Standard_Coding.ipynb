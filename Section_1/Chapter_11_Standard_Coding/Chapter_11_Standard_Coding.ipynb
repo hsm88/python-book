{
 "cells": [
  {
   "cell_type": "code",
   "execution_count": null,
   "id": "a1e040df-e02a-4128-b3af-823cad6870eb",
   "metadata": {},
   "outputs": [],
   "source": [
    "## Code-11.1\n",
    "n = 10\n",
    "sum_all = 0\n",
    "\n",
    "for i in range(1, n + 1):\n",
    "    sum_all += i\n",
    "    \n",
    "print(sum_all)"
   ]
  },
  {
   "cell_type": "code",
   "execution_count": null,
   "id": "39ed6c32-c298-4fd8-a29b-e7234120d3a8",
   "metadata": {},
   "outputs": [],
   "source": [
    "## Code-11.2\n",
    "n = 10\n",
    "sum_all = sum(range(1, n + 1))\n",
    "    \n",
    "print(sum_all)## Code-11.3"
   ]
  },
  {
   "cell_type": "code",
   "execution_count": null,
   "id": "5cb031f0-360a-4534-9876-f6712f565092",
   "metadata": {},
   "outputs": [],
   "source": [
    "## Code-11.3\n",
    "import this"
   ]
  },
  {
   "cell_type": "code",
   "execution_count": null,
   "id": "aeb7349b-4025-4f46-bd6c-e894f2d345e0",
   "metadata": {},
   "outputs": [],
   "source": [
    "## Code-11.4\n",
    "def sum(a, b):\n",
    "    return a + b\n",
    "    \n",
    "assert sum(2, 3) == 5, \"خطایی در عملکرد تابع وجود دارد\"\n",
    "print(\"آزمون با موفقیت انجام شد\")"
   ]
  },
  {
   "cell_type": "code",
   "execution_count": null,
   "id": "91c41040-20f2-4313-9077-16cdfe8b9393",
   "metadata": {},
   "outputs": [],
   "source": [
    "## Code-11.5\n",
    "def sum(a, b):\n",
    "    return a * b\n",
    "    \n",
    "assert sum(2, 3) == 5, \"خطایی در عملکرد تابع وجود دارد\"\n",
    "print(\"آزمون با موفقیت انجام شد\")"
   ]
  },
  {
   "cell_type": "code",
   "execution_count": null,
   "id": "cf171695-aec7-4ea5-8ef5-95b723c90b7d",
   "metadata": {},
   "outputs": [],
   "source": [
    "## Code-11.6\n",
    "def sum(a, b):\n",
    "    return a + b \n",
    "    \n",
    "def sub(a, b):\n",
    "    return a - b\n",
    "    \n",
    "def mul(a, b):\n",
    "    return a * b\n",
    "    \n",
    "def div(a, b):\n",
    "    return a / b"
   ]
  },
  {
   "cell_type": "code",
   "execution_count": null,
   "id": "3de3434e-fc0b-4da3-9d8c-d8905d44a330",
   "metadata": {},
   "outputs": [],
   "source": [
    "## Code-11.7\n",
    "import unittest\n",
    "\n",
    "class Test(unittest.TestCase):\n",
    "\n",
    "    def test_sum(self):\n",
    "        self.assertEqual(sum(8, 2), 10, \"The summation function is wrong.\")\n",
    "        \n",
    "    def test_sub(self):\n",
    "        self.assertEqual(sub(8, 2), 6, \"The subtraction function is wrong.\")\n",
    "    \n",
    "    def test_mul(self):\n",
    "        self.assertEqual(mul(8, 2), 16, \"The multiplication function is wrong.\")\n",
    "        \n",
    "    def test_div(self):\n",
    "        self.assertEqual(div(8, 2), 4, \"The division function is wrong.\")## Code-11.8\n",
    "import unittest\n",
    "\n",
    "class Test(unittest.TestCase):\n",
    "\n",
    "    def test_sum(self):\n",
    "        self.assertEqual(sum(8, 2), 10, \"The summation function is wrong.\")\n",
    "        \n",
    "    def test_sub(self):\n",
    "        self.assertEqual(sub(8, 2), 6, \"The subtraction function is wrong.\")\n",
    "    \n",
    "    def test_mul(self):\n",
    "        self.assertEqual(mul(8, 2), 16, \"The multiplication function is wrong.\")\n",
    "        \n",
    "    def test_div(self):\n",
    "        self.assertEqual(div(8, 2), 4, \"The division function is wrong.\")\n",
    "\n",
    "\n",
    "unittest.main(argv=[''], verbosity=2, exit=False)"
   ]
  },
  {
   "cell_type": "code",
   "execution_count": null,
   "id": "6641f6a1-bcf5-442e-af85-35ff64fafae8",
   "metadata": {},
   "outputs": [],
   "source": [
    "## Code-11.9\n",
    "import unittest\n",
    "\n",
    "def sum(a, b):\n",
    "    return a * b \n",
    "    \n",
    "def sub(a, b):\n",
    "    return a - b\n",
    "    \n",
    "def mul(a, b):\n",
    "    return a * b\n",
    "    \n",
    "def div(a, b):\n",
    "    return a / b\n",
    "\n",
    "\n",
    "class Test(unittest.TestCase):\n",
    "\n",
    "    def test_sum(self):\n",
    "        self.assertEqual(sum(8, 2), 10, \"The summation function is wrong.\")\n",
    "        \n",
    "    def test_sub(self):\n",
    "        self.assertEqual(sub(8, 2), 6, \"The subtraction function is wrong.\")\n",
    "    \n",
    "    def test_mul(self):\n",
    "        self.assertEqual(mul(8, 2), 16, \"The multiplication function is wrong.\")\n",
    "        \n",
    "    def test_div(self):\n",
    "        self.assertEqual(div(8, 2), 4, \"The division function is wrong.\")      \n",
    "\n",
    "\n",
    "unittest.main(argv=[''], verbosity=2, exit=False)"
   ]
  }
 ],
 "metadata": {
  "kernelspec": {
   "display_name": "Python 3 (ipykernel)",
   "language": "python",
   "name": "python3"
  },
  "language_info": {
   "codemirror_mode": {
    "name": "ipython",
    "version": 3
   },
   "file_extension": ".py",
   "mimetype": "text/x-python",
   "name": "python",
   "nbconvert_exporter": "python",
   "pygments_lexer": "ipython3",
   "version": "3.13.5"
  }
 },
 "nbformat": 4,
 "nbformat_minor": 5
}
